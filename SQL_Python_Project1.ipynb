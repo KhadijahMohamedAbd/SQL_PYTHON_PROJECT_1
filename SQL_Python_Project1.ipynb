{
 "cells":[
  {
   "cell_type":"code",
   "source":[
    "!pip install --force-reinstall ibm_db==3.1.0 ibm_db_sa==0.3.3\n",
    "!pip uninstall sqlalchemy==1.4 -y && pip install sqlalchemy==1.3.24\n",
    "!pip install ipython-sql"
   ],
   "execution_count":2,
   "outputs":[
    {
     "name":"stdout",
     "text":[
      "Collecting ibm_db==3.1.0\r\n",
      "  Downloading ibm_db-3.1.0.tar.gz (797 kB)\r\n",
      "\u001b[?25l\r\r     |▍                               | 10 kB 21.6 MB\/s eta 0:00:01\r     |▉                               | 20 kB 26.8 MB\/s eta 0:00:01\r     |█▎                              | 30 kB 30.5 MB\/s eta 0:00:01\r     |█▋                              | 40 kB 34.0 MB\/s eta 0:00:01\r     |██                              | 51 kB 24.5 MB\/s eta 0:00:01\r     |██▌                             | 61 kB 27.6 MB\/s eta 0:00:01\r     |██▉                             | 71 kB 30.1 MB\/s eta 0:00:01\r     |███▎                            | 81 kB 32.3 MB\/s eta 0:00:01\r     |███▊                            | 92 kB 34.6 MB\/s eta 0:00:01\r     |████                            | 102 kB 36.6 MB\/s eta 0:00:01\r     |████▌                           | 112 kB 36.6 MB\/s eta 0:00:01\r     |█████                           | 122 kB 36.6 MB\/s eta 0:00:01\r     |█████▍                          | 133 kB 36.6 MB\/s eta 0:00:01\r     |█████▊                          | 143 kB 36.6 MB\/s eta 0:00:01\r     |██████▏                         | 153 kB 36.6 MB\/s eta 0:00:01\r     |██████▋                         | 163 kB 36.6 MB\/s eta 0:00:01\r     |███████                         | 174 kB 36.6 MB\/s eta 0:00:01\r     |███████▍                        | 184 kB 36.6 MB\/s eta 0:00:01\r     |███████▉                        | 194 kB 36.6 MB\/s eta 0:00:01\r     |████████▏                       | 204 kB 36.6 MB\/s eta 0:00:01\r     |████████▋                       | 215 kB 36.6 MB\/s eta 0:00:01\r     |█████████                       | 225 kB 36.6 MB\/s eta 0:00:01\r     |█████████▌                      | 235 kB 36.6 MB\/s eta 0:00:01\r     |█████████▉                      | 245 kB 36.6 MB\/s eta 0:00:01\r     |██████████▎                     | 256 kB 36.6 MB\/s eta 0:00:01\r     |██████████▊                     | 266 kB 36.6 MB\/s eta 0:00:01\r     |███████████                     | 276 kB 36.6 MB\/s eta 0:00:01\r     |███████████▌                    | 286 kB 36.6 MB\/s eta 0:00:01\r     |████████████                    | 296 kB 36.6 MB\/s eta 0:00:01\r     |████████████▎                   | 307 kB 36.6 MB\/s eta 0:00:01\r     |████████████▊                   | 317 kB 36.6 MB\/s eta 0:00:01\r     |█████████████▏                  | 327 kB 36.6 MB\/s eta 0:00:01\r     |█████████████▋                  | 337 kB 36.6 MB\/s eta 0:00:01\r     |██████████████                  | 348 kB 36.6 MB\/s eta 0:00:01\r     |██████████████▍                 | 358 kB 36.6 MB\/s eta 0:00:01\r     |██████████████▉                 | 368 kB 36.6 MB\/s eta 0:00:01\r     |███████████████▏                | 378 kB 36.6 MB\/s eta 0:00:01\r     |███████████████▋                | 389 kB 36.6 MB\/s eta 0:00:01\r     |████████████████                | 399 kB 36.6 MB\/s eta 0:00:01\r     |████████████████▍               | 409 kB 36.6 MB\/s eta 0:00:01\r     |████████████████▉               | 419 kB 36.6 MB\/s eta 0:00:01\r     |█████████████████▎              | 430 kB 36.6 MB\/s eta 0:00:01\r     |█████████████████▊              | 440 kB 36.6 MB\/s eta 0:00:01\r     |██████████████████              | 450 kB 36.6 MB\/s eta 0:00:01\r     |██████████████████▌             | 460 kB 36.6 MB\/s eta 0:00:01\r     |███████████████████             | 471 kB 36.6 MB\/s eta 0:00:01\r     |███████████████████▎            | 481 kB 36.6 MB\/s eta 0:00:01\r     |███████████████████▊            | 491 kB 36.6 MB\/s eta 0:00:01\r     |████████████████████▏           | 501 kB 36.6 MB\/s eta 0:00:01\r     |████████████████████▌           | 512 kB 36.6 MB\/s eta 0:00:01\r     |█████████████████████           | 522 kB 36.6 MB\/s eta 0:00:01\r     |█████████████████████▍          | 532 kB 36.6 MB\/s eta 0:00:01\r     |█████████████████████▉          | 542 kB 36.6 MB\/s eta 0:00:01\r     |██████████████████████▏         | 552 kB 36.6 MB\/s eta 0:00:01\r     |██████████████████████▋         | 563 kB 36.6 MB\/s eta 0:00:01\r     |███████████████████████         | 573 kB 36.6 MB\/s eta 0:00:01\r     |███████████████████████▍        | 583 kB 36.6 MB\/s eta 0:00:01\r     |███████████████████████▉        | 593 kB 36.6 MB\/s eta 0:00:01\r     |████████████████████████▎       | 604 kB 36.6 MB\/s eta 0:00:01\r     |████████████████████████▋       | 614 kB 36.6 MB\/s eta 0:00:01\r     |█████████████████████████       | 624 kB 36.6 MB\/s eta 0:00:01\r     |█████████████████████████▌      | 634 kB 36.6 MB\/s eta 0:00:01\r     |██████████████████████████      | 645 kB 36.6 MB\/s eta 0:00:01\r     |██████████████████████████▎     | 655 kB 36.6 MB\/s eta 0:00:01\r     |██████████████████████████▊     | 665 kB 36.6 MB\/s eta 0:00:01\r     |███████████████████████████▏    | 675 kB 36.6 MB\/s eta 0:00:01\r     |███████████████████████████▌    | 686 kB 36.6 MB\/s eta 0:00:01\r     |████████████████████████████    | 696 kB 36.6 MB\/s eta 0:00:01\r     |████████████████████████████▍   | 706 kB 36.6 MB\/s eta 0:00:01\r     |████████████████████████████▊   | 716 kB 36.6 MB\/s eta 0:00:01\r     |█████████████████████████████▏  | 727 kB 36.6 MB\/s eta 0:00:01\r     |█████████████████████████████▋  | 737 kB 36.6 MB\/s eta 0:00:01\r     |██████████████████████████████  | 747 kB 36.6 MB\/s eta 0:00:01\r     |██████████████████████████████▍ | 757 kB 36.6 MB\/s eta 0:00:01\r     |██████████████████████████████▉ | 768 kB 36.6 MB\/s eta 0:00:01\r     |███████████████████████████████▎| 778 kB 36.6 MB\/s eta 0:00:01\r     |███████████████████████████████▋| 788 kB 36.6 MB\/s eta 0:00:01\r     |████████████████████████████████| 797 kB 36.6 MB\/s            \r\n",
      "\u001b[?25h  Installing build dependencies ... \u001b[?25l-\b \b\\\b \b|\b \bdone\r\n",
      "\u001b[?25h  Getting requirements to build wheel ... \u001b[?25l-\b \b\\\b \b|\b \b\/\b \b-\b \bdone\r\n",
      "\u001b[?25h  Installing backend dependencies ... \u001b[?25l-\b \b\\\b \bdone\r\n",
      "\u001b[?25h  Preparing metadata (pyproject.toml) ... \u001b[?25l-\b \b\\\b \b|\b \b\/\b \bdone\r\n",
      "\u001b[?25hCollecting ibm_db_sa==0.3.3\r\n",
      "  Downloading ibm_db_sa-0.3.3.tar.gz (24 kB)\r\n",
      "  Preparing metadata (setup.py) ... \u001b[?25l-\b \bdone\r\n",
      "\u001b[?25hCollecting sqlalchemy>=0.7.3\r\n",
      "  Downloading SQLAlchemy-1.4.32-cp38-cp38-manylinux_2_5_x86_64.manylinux1_x86_64.manylinux_2_17_x86_64.manylinux2014_x86_64.whl (1.6 MB)\r\n",
      "\u001b[?25l\r\r     |▏                               | 10 kB 29.8 MB\/s eta 0:00:01\r     |▍                               | 20 kB 34.9 MB\/s eta 0:00:01\r     |▋                               | 30 kB 42.6 MB\/s eta 0:00:01\r     |▉                               | 40 kB 45.4 MB\/s eta 0:00:01\r     |█                               | 51 kB 47.5 MB\/s eta 0:00:01\r     |█▎                              | 61 kB 51.1 MB\/s eta 0:00:01\r     |█▍                              | 71 kB 53.5 MB\/s eta 0:00:01\r     |█▋                              | 81 kB 56.2 MB\/s eta 0:00:01\r     |█▉                              | 92 kB 57.6 MB\/s eta 0:00:01\r     |██                              | 102 kB 58.8 MB\/s eta 0:00:01\r     |██▎                             | 112 kB 58.8 MB\/s eta 0:00:01\r     |██▌                             | 122 kB 58.8 MB\/s eta 0:00:01\r     |██▋                             | 133 kB 58.8 MB\/s eta 0:00:01\r     |██▉                             | 143 kB 58.8 MB\/s eta 0:00:01\r     |███                             | 153 kB 58.8 MB\/s eta 0:00:01\r     |███▎                            | 163 kB 58.8 MB\/s eta 0:00:01\r     |███▌                            | 174 kB 58.8 MB\/s eta 0:00:01\r     |███▊                            | 184 kB 58.8 MB\/s eta 0:00:01\r     |███▉                            | 194 kB 58.8 MB\/s eta 0:00:01\r     |████                            | 204 kB 58.8 MB\/s eta 0:00:01\r     |████▎                           | 215 kB 58.8 MB\/s eta 0:00:01\r     |████▌                           | 225 kB 58.8 MB\/s eta 0:00:01\r     |████▊                           | 235 kB 58.8 MB\/s eta 0:00:01\r     |█████                           | 245 kB 58.8 MB\/s eta 0:00:01\r     |█████                           | 256 kB 58.8 MB\/s eta 0:00:01\r     |█████▎                          | 266 kB 58.8 MB\/s eta 0:00:01\r     |█████▌                          | 276 kB 58.8 MB\/s eta 0:00:01\r     |█████▊                          | 286 kB 58.8 MB\/s eta 0:00:01\r     |██████                          | 296 kB 58.8 MB\/s eta 0:00:01\r     |██████▏                         | 307 kB 58.8 MB\/s eta 0:00:01\r     |██████▍                         | 317 kB 58.8 MB\/s eta 0:00:01\r     |██████▌                         | 327 kB 58.8 MB\/s eta 0:00:01\r     |██████▊                         | 337 kB 58.8 MB\/s eta 0:00:01\r     |███████                         | 348 kB 58.8 MB\/s eta 0:00:01\r     |███████▏                        | 358 kB 58.8 MB\/s eta 0:00:01\r     |███████▍                        | 368 kB 58.8 MB\/s eta 0:00:01\r     |███████▋                        | 378 kB 58.8 MB\/s eta 0:00:01\r     |███████▊                        | 389 kB 58.8 MB\/s eta 0:00:01\r     |████████                        | 399 kB 58.8 MB\/s eta 0:00:01\r     |████████▏                       | 409 kB 58.8 MB\/s eta 0:00:01\r     |████████▍                       | 419 kB 58.8 MB\/s eta 0:00:01\r     |████████▋                       | 430 kB 58.8 MB\/s eta 0:00:01\r     |████████▉                       | 440 kB 58.8 MB\/s eta 0:00:01\r     |█████████                       | 450 kB 58.8 MB\/s eta 0:00:01\r     |█████████▏                      | 460 kB 58.8 MB\/s eta 0:00:01\r     |█████████▍                      | 471 kB 58.8 MB\/s eta 0:00:01\r     |█████████▋                      | 481 kB 58.8 MB\/s eta 0:00:01\r     |█████████▉                      | 491 kB 58.8 MB\/s eta 0:00:01\r     |██████████                      | 501 kB 58.8 MB\/s eta 0:00:01\r     |██████████▏                     | 512 kB 58.8 MB\/s eta 0:00:01\r     |██████████▍                     | 522 kB 58.8 MB\/s eta 0:00:01\r     |██████████▋                     | 532 kB 58.8 MB\/s eta 0:00:01\r     |██████████▉                     | 542 kB 58.8 MB\/s eta 0:00:01\r     |███████████                     | 552 kB 58.8 MB\/s eta 0:00:01\r     |███████████▎                    | 563 kB 58.8 MB\/s eta 0:00:01\r     |███████████▌                    | 573 kB 58.8 MB\/s eta 0:00:01\r     |███████████▋                    | 583 kB 58.8 MB\/s eta 0:00:01\r     |███████████▉                    | 593 kB 58.8 MB\/s eta 0:00:01\r     |████████████                    | 604 kB 58.8 MB\/s eta 0:00:01\r     |████████████▎                   | 614 kB 58.8 MB\/s eta 0:00:01\r     |████████████▌                   | 624 kB 58.8 MB\/s eta 0:00:01\r     |████████████▊                   | 634 kB 58.8 MB\/s eta 0:00:01\r     |████████████▉                   | 645 kB 58.8 MB\/s eta 0:00:01\r     |█████████████                   | 655 kB 58.8 MB\/s eta 0:00:01\r     |█████████████▎                  | 665 kB 58.8 MB\/s eta 0:00:01\r     |█████████████▌                  | 675 kB 58.8 MB\/s eta 0:00:01\r     |█████████████▊                  | 686 kB 58.8 MB\/s eta 0:00:01\r     |██████████████                  | 696 kB 58.8 MB\/s eta 0:00:01\r     |██████████████                  | 706 kB 58.8 MB\/s eta 0:00:01\r     |██████████████▎                 | 716 kB 58.8 MB\/s eta 0:00:01\r     |██████████████▌                 | 727 kB 58.8 MB\/s eta 0:00:01\r     |██████████████▊                 | 737 kB 58.8 MB\/s eta 0:00:01\r     |███████████████                 | 747 kB 58.8 MB\/s eta 0:00:01\r     |███████████████▏                | 757 kB 58.8 MB\/s eta 0:00:01\r     |███████████████▎                | 768 kB 58.8 MB\/s eta 0:00:01\r     |███████████████▌                | 778 kB 58.8 MB\/s eta 0:00:01\r     |███████████████▊                | 788 kB 58.8 MB\/s eta 0:00:01\r     |████████████████                | 798 kB 58.8 MB\/s eta 0:00:01\r     |████████████████▏               | 808 kB 58.8 MB\/s eta 0:00:01\r     |████████████████▍               | 819 kB 58.8 MB\/s eta 0:00:01\r     |████████████████▋               | 829 kB 58.8 MB\/s eta 0:00:01\r     |████████████████▊               | 839 kB 58.8 MB\/s eta 0:00:01\r     |█████████████████               | 849 kB 58.8 MB\/s eta 0:00:01\r     |█████████████████▏              | 860 kB 58.8 MB\/s eta 0:00:01\r     |█████████████████▍              | 870 kB 58.8 MB\/s eta 0:00:01\r     |█████████████████▋              | 880 kB 58.8 MB\/s eta 0:00:01\r     |█████████████████▉              | 890 kB 58.8 MB\/s eta 0:00:01\r     |██████████████████              | 901 kB 58.8 MB\/s eta 0:00:01\r     |██████████████████▏             | 911 kB 58.8 MB\/s eta 0:00:01\r     |██████████████████▍             | 921 kB 58.8 MB\/s eta 0:00:01\r     |██████████████████▋             | 931 kB 58.8 MB\/s eta 0:00:01\r     |██████████████████▉             | 942 kB 58.8 MB\/s eta 0:00:01\r     |███████████████████             | 952 kB 58.8 MB\/s eta 0:00:01\r     |███████████████████▏            | 962 kB 58.8 MB\/s eta 0:00:01\r     |███████████████████▍            | 972 kB 58.8 MB\/s eta 0:00:01\r     |███████████████████▋            | 983 kB 58.8 MB\/s eta 0:00:01\r     |███████████████████▉            | 993 kB 58.8 MB\/s eta 0:00:01\r     |████████████████████            | 1.0 MB 58.8 MB\/s eta 0:00:01\r     |████████████████████▎           | 1.0 MB 58.8 MB\/s eta 0:00:01\r     |████████████████████▍           | 1.0 MB 58.8 MB\/s eta 0:00:01\r     |████████████████████▋           | 1.0 MB 58.8 MB\/s eta 0:00:01\r     |████████████████████▉           | 1.0 MB 58.8 MB\/s eta 0:00:01\r     |█████████████████████           | 1.1 MB 58.8 MB\/s eta 0:00:01\r     |█████████████████████▎          | 1.1 MB 58.8 MB\/s eta 0:00:01\r     |█████████████████████▌          | 1.1 MB 58.8 MB\/s eta 0:00:01\r     |█████████████████████▊          | 1.1 MB 58.8 MB\/s eta 0:00:01\r     |█████████████████████▉          | 1.1 MB 58.8 MB\/s eta 0:00:01\r     |██████████████████████          | 1.1 MB 58.8 MB\/s eta 0:00:01\r     |██████████████████████▎         | 1.1 MB 58.8 MB\/s eta 0:00:01\r     |██████████████████████▌         | 1.1 MB 58.8 MB\/s eta 0:00:01\r     |██████████████████████▊         | 1.1 MB 58.8 MB\/s eta 0:00:01\r     |███████████████████████         | 1.1 MB 58.8 MB\/s eta 0:00:01\r     |███████████████████████         | 1.2 MB 58.8 MB\/s eta 0:00:01\r     |███████████████████████▎        | 1.2 MB 58.8 MB\/s eta 0:00:01\r     |███████████████████████▌        | 1.2 MB 58.8 MB\/s eta 0:00:01\r     |███████████████████████▊        | 1.2 MB 58.8 MB\/s eta 0:00:01\r     |████████████████████████        | 1.2 MB 58.8 MB\/s eta 0:00:01\r     |████████████████████████▏       | 1.2 MB 58.8 MB\/s eta 0:00:01\r     |████████████████████████▎       | 1.2 MB 58.8 MB\/s eta 0:00:01\r     |████████████████████████▌       | 1.2 MB 58.8 MB\/s eta 0:00:01\r     |████████████████████████▊       | 1.2 MB 58.8 MB\/s eta 0:00:01\r     |█████████████████████████       | 1.2 MB 58.8 MB\/s eta 0:00:01\r     |█████████████████████████▏      | 1.3 MB 58.8 MB\/s eta 0:00:01\r     |█████████████████████████▍      | 1.3 MB 58.8 MB\/s eta 0:00:01\r     |█████████████████████████▌      | 1.3 MB 58.8 MB\/s eta 0:00:01\r     |█████████████████████████▊      | 1.3 MB 58.8 MB\/s eta 0:00:01\r     |██████████████████████████      | 1.3 MB 58.8 MB\/s eta 0:00:01\r     |██████████████████████████▏     | 1.3 MB 58.8 MB\/s eta 0:00:01\r     |██████████████████████████▍     | 1.3 MB 58.8 MB\/s eta 0:00:01\r     |██████████████████████████▋     | 1.3 MB 58.8 MB\/s eta 0:00:01\r     |██████████████████████████▉     | 1.3 MB 58.8 MB\/s eta 0:00:01\r     |███████████████████████████     | 1.4 MB 58.8 MB\/s eta 0:00:01\r     |███████████████████████████▏    | 1.4 MB 58.8 MB\/s eta 0:00:01\r     |███████████████████████████▍    | 1.4 MB 58.8 MB\/s eta 0:00:01\r     |███████████████████████████▋    | 1.4 MB 58.8 MB\/s eta 0:00:01\r     |███████████████████████████▉    | 1.4 MB 58.8 MB\/s eta 0:00:01\r     |████████████████████████████    | 1.4 MB 58.8 MB\/s eta 0:00:01\r     |████████████████████████████▏   | 1.4 MB 58.8 MB\/s eta 0:00:01\r     |████████████████████████████▍   | 1.4 MB 58.8 MB\/s eta 0:00:01\r     |████████████████████████████▋   | 1.4 MB 58.8 MB\/s eta 0:00:01\r     |████████████████████████████▉   | 1.4 MB 58.8 MB\/s eta 0:00:01\r     |█████████████████████████████   | 1.5 MB 58.8 MB\/s eta 0:00:01\r     |█████████████████████████████▎  | 1.5 MB 58.8 MB\/s eta 0:00:01\r     |█████████████████████████████▍  | 1.5 MB 58.8 MB\/s eta 0:00:01\r     |█████████████████████████████▋  | 1.5 MB 58.8 MB\/s eta 0:00:01\r     |█████████████████████████████▉  | 1.5 MB 58.8 MB\/s eta 0:00:01\r     |██████████████████████████████  | 1.5 MB 58.8 MB\/s eta 0:00:01\r     |██████████████████████████████▎ | 1.5 MB 58.8 MB\/s eta 0:00:01\r     |██████████████████████████████▌ | 1.5 MB 58.8 MB\/s eta 0:00:01\r     |██████████████████████████████▋ | 1.5 MB 58.8 MB\/s eta 0:00:01\r     |██████████████████████████████▉ | 1.5 MB 58.8 MB\/s eta 0:00:01\r     |███████████████████████████████ | 1.6 MB 58.8 MB\/s eta 0:00:01\r     |███████████████████████████████▎| 1.6 MB 58.8 MB\/s eta 0:00:01\r     |███████████████████████████████▌| 1.6 MB 58.8 MB\/s eta 0:00:01\r     |███████████████████████████████▊| 1.6 MB 58.8 MB\/s eta 0:00:01\r     |████████████████████████████████| 1.6 MB 58.8 MB\/s eta 0:00:01\r     |████████████████████████████████| 1.6 MB 58.8 MB\/s            \r\n",
      "\u001b[?25hCollecting greenlet!=0.4.17\r\n",
      "  Downloading greenlet-1.1.2-cp38-cp38-manylinux_2_17_x86_64.manylinux2014_x86_64.whl (156 kB)\r\n",
      "\u001b[?25l\r\r     |██                              | 10 kB 23.9 MB\/s eta 0:00:01\r     |████▏                           | 20 kB 32.9 MB\/s eta 0:00:01\r     |██████▎                         | 30 kB 34.4 MB\/s eta 0:00:01\r     |████████▍                       | 40 kB 36.9 MB\/s eta 0:00:01\r     |██████████▌                     | 51 kB 40.5 MB\/s eta 0:00:01\r     |████████████▋                   | 61 kB 43.4 MB\/s eta 0:00:01\r     |██████████████▋                 | 71 kB 46.1 MB\/s eta 0:00:01\r     |████████████████▊               | 81 kB 48.2 MB\/s eta 0:00:01\r     |██████████████████▉             | 92 kB 49.7 MB\/s eta 0:00:01\r     |█████████████████████           | 102 kB 49.7 MB\/s eta 0:00:01\r     |███████████████████████         | 112 kB 49.7 MB\/s eta 0:00:01\r     |█████████████████████████▏      | 122 kB 49.7 MB\/s eta 0:00:01\r     |███████████████████████████▏    | 133 kB 49.7 MB\/s eta 0:00:01\r     |█████████████████████████████▎  | 143 kB 49.7 MB\/s eta 0:00:01\r     |███████████████████████████████▍| 153 kB 49.7 MB\/s eta 0:00:01\r     |████████████████████████████████| 156 kB 49.7 MB\/s            \r\n",
      "\u001b[?25hBuilding wheels for collected packages: ibm-db, ibm-db-sa\r\n",
      "  Building wheel for ibm-db (pyproject.toml) ... \u001b[?25l-\b \b\\\b \b|\b \b\/\b \b-\b \b\\\b \b|\b \b\/\b \b-\b \b\\\b \b|\b \b\/\b \b-\b \b\\\b \b|\b \b\/\b \b-\b \b\\\b \b|\b \b\/\b \b-\b \b\\\b \b|\b \b\/\b \b-\b \b\\\b \b|\b \b\/\b \b-\b \b\\\b \b|\b \b\/\b \b-\b \b\\\b \bdone\r\n",
      "\u001b[?25h  Created wheel for ibm-db: filename=ibm_db-3.1.0-cp38-cp38-linux_x86_64.whl size=41390378 sha256=18ef348c568e51ac2874b7df1d81f815f6a3baf8bc2e6ce45a6aabbad39d55ca\r\n",
      "  Stored in directory: \/home\/datalore\/.cache\/pip\/wheels\/43\/71\/0a\/3065745bc1dc4cafbdcb09e2557082609f7689b16108b670df\r\n",
      "  Building wheel for ibm-db-sa (setup.py) ... \u001b[?25l-\b \bdone\r\n",
      "\u001b[?25h  Created wheel for ibm-db-sa: filename=ibm_db_sa-0.3.3-py3-none-any.whl size=27410 sha256=015e10ef5f184a18455ad36c488925b82358a38b5aa8b24fac3beff4bf1d6b51\r\n",
      "  Stored in directory: \/home\/datalore\/.cache\/pip\/wheels\/ca\/a9\/b6\/4f6402aa714d6e9903b79a15fbc3b2f02bf72da989b7708c18\r\n",
      "Successfully built ibm-db ibm-db-sa\r\n",
      "Installing collected packages: greenlet, sqlalchemy, ibm-db-sa, ibm-db\r\n",
      "  Attempting uninstall: greenlet\r\n",
      "    Found existing installation: greenlet 1.1.2\r\n",
      "    Uninstalling greenlet-1.1.2:\r\n",
      "      Successfully uninstalled greenlet-1.1.2\r\n",
      "  Attempting uninstall: sqlalchemy\r\n",
      "    Found existing installation: SQLAlchemy 1.4.26\r\n",
      "    Uninstalling SQLAlchemy-1.4.26:\r\n",
      "      Successfully uninstalled SQLAlchemy-1.4.26\r\n",
      "Successfully installed greenlet-1.1.2 ibm-db-3.1.0 ibm-db-sa-0.3.3 sqlalchemy-1.4.32\r\n",
      "\u001b[33mWARNING: You are using pip version 21.3.1; however, version 22.0.4 is available.\r\n",
      "You should consider upgrading via the '\/opt\/python\/envs\/default\/bin\/python -m pip install --upgrade pip' command.\u001b[0m\r\n",
      "Found existing installation: SQLAlchemy 1.4.32\r\n",
      "Uninstalling SQLAlchemy-1.4.32:\r\n",
      "  Successfully uninstalled SQLAlchemy-1.4.32\r\n",
      "Collecting sqlalchemy==1.3.24\r\n",
      "  Downloading SQLAlchemy-1.3.24-cp38-cp38-manylinux2010_x86_64.whl (1.3 MB)\r\n",
      "\u001b[?25l\r\r     |▎                               | 10 kB 23.3 MB\/s eta 0:00:01\r     |▌                               | 20 kB 29.3 MB\/s eta 0:00:01\r     |▊                               | 30 kB 33.9 MB\/s eta 0:00:01\r     |█                               | 40 kB 36.3 MB\/s eta 0:00:01\r     |█▎                              | 51 kB 20.3 MB\/s eta 0:00:01\r     |█▌                              | 61 kB 23.1 MB\/s eta 0:00:01\r     |█▉                              | 71 kB 25.5 MB\/s eta 0:00:01\r     |██                              | 81 kB 22.3 MB\/s eta 0:00:01\r     |██▎                             | 92 kB 24.2 MB\/s eta 0:00:01\r     |██▋                             | 102 kB 25.4 MB\/s eta 0:00:01\r     |██▉                             | 112 kB 25.4 MB\/s eta 0:00:01\r     |███                             | 122 kB 25.4 MB\/s eta 0:00:01\r     |███▍                            | 133 kB 25.4 MB\/s eta 0:00:01\r     |███▋                            | 143 kB 25.4 MB\/s eta 0:00:01\r     |███▉                            | 153 kB 25.4 MB\/s eta 0:00:01\r     |████▏                           | 163 kB 25.4 MB\/s eta 0:00:01\r     |████▍                           | 174 kB 25.4 MB\/s eta 0:00:01\r     |████▋                           | 184 kB 25.4 MB\/s eta 0:00:01\r     |█████                           | 194 kB 25.4 MB\/s eta 0:00:01\r     |█████▏                          | 204 kB 25.4 MB\/s eta 0:00:01\r     |█████▍                          | 215 kB 25.4 MB\/s eta 0:00:01\r     |█████▊                          | 225 kB 25.4 MB\/s eta 0:00:01\r     |██████                          | 235 kB 25.4 MB\/s eta 0:00:01\r     |██████▏                         | 245 kB 25.4 MB\/s eta 0:00:01\r     |██████▌                         | 256 kB 25.4 MB\/s eta 0:00:01\r     |██████▊                         | 266 kB 25.4 MB\/s eta 0:00:01\r     |███████                         | 276 kB 25.4 MB\/s eta 0:00:01\r     |███████▏                        | 286 kB 25.4 MB\/s eta 0:00:01\r     |███████▌                        | 296 kB 25.4 MB\/s eta 0:00:01\r     |███████▊                        | 307 kB 25.4 MB\/s eta 0:00:01\r     |████████                        | 317 kB 25.4 MB\/s eta 0:00:01\r     |████████▎                       | 327 kB 25.4 MB\/s eta 0:00:01\r     |████████▌                       | 337 kB 25.4 MB\/s eta 0:00:01\r     |████████▊                       | 348 kB 25.4 MB\/s eta 0:00:01\r     |█████████                       | 358 kB 25.4 MB\/s eta 0:00:01\r     |█████████▎                      | 368 kB 25.4 MB\/s eta 0:00:01\r     |█████████▌                      | 378 kB 25.4 MB\/s eta 0:00:01\r     |█████████▉                      | 389 kB 25.4 MB\/s eta 0:00:01\r     |██████████                      | 399 kB 25.4 MB\/s eta 0:00:01\r     |██████████▎                     | 409 kB 25.4 MB\/s eta 0:00:01\r     |██████████▋                     | 419 kB 25.4 MB\/s eta 0:00:01\r     |██████████▉                     | 430 kB 25.4 MB\/s eta 0:00:01\r     |███████████                     | 440 kB 25.4 MB\/s eta 0:00:01\r     |███████████▍                    | 450 kB 25.4 MB\/s eta 0:00:01\r     |███████████▋                    | 460 kB 25.4 MB\/s eta 0:00:01\r     |███████████▉                    | 471 kB 25.4 MB\/s eta 0:00:01\r     |████████████▏                   | 481 kB 25.4 MB\/s eta 0:00:01\r     |████████████▍                   | 491 kB 25.4 MB\/s eta 0:00:01\r     |████████████▋                   | 501 kB 25.4 MB\/s eta 0:00:01\r     |█████████████                   | 512 kB 25.4 MB\/s eta 0:00:01\r     |█████████████▏                  | 522 kB 25.4 MB\/s eta 0:00:01\r     |█████████████▍                  | 532 kB 25.4 MB\/s eta 0:00:01\r     |█████████████▊                  | 542 kB 25.4 MB\/s eta 0:00:01\r     |██████████████                  | 552 kB 25.4 MB\/s eta 0:00:01\r     |██████████████▏                 | 563 kB 25.4 MB\/s eta 0:00:01\r     |██████████████▍                 | 573 kB 25.4 MB\/s eta 0:00:01\r     |██████████████▊                 | 583 kB 25.4 MB\/s eta 0:00:01\r     |███████████████                 | 593 kB 25.4 MB\/s eta 0:00:01\r     |███████████████▏                | 604 kB 25.4 MB\/s eta 0:00:01\r     |███████████████▌                | 614 kB 25.4 MB\/s eta 0:00:01\r     |███████████████▊                | 624 kB 25.4 MB\/s eta 0:00:01\r     |████████████████                | 634 kB 25.4 MB\/s eta 0:00:01\r     |████████████████▎               | 645 kB 25.4 MB\/s eta 0:00:01\r     |████████████████▌               | 655 kB 25.4 MB\/s eta 0:00:01\r     |████████████████▊               | 665 kB 25.4 MB\/s eta 0:00:01\r     |█████████████████               | 675 kB 25.4 MB\/s eta 0:00:01\r     |█████████████████▎              | 686 kB 25.4 MB\/s eta 0:00:01\r     |█████████████████▌              | 696 kB 25.4 MB\/s eta 0:00:01\r     |█████████████████▉              | 706 kB 25.4 MB\/s eta 0:00:01\r     |██████████████████              | 716 kB 25.4 MB\/s eta 0:00:01\r     |██████████████████▎             | 727 kB 25.4 MB\/s eta 0:00:01\r     |██████████████████▋             | 737 kB 25.4 MB\/s eta 0:00:01\r     |██████████████████▉             | 747 kB 25.4 MB\/s eta 0:00:01\r     |███████████████████             | 757 kB 25.4 MB\/s eta 0:00:01\r     |███████████████████▍            | 768 kB 25.4 MB\/s eta 0:00:01\r     |███████████████████▋            | 778 kB 25.4 MB\/s eta 0:00:01\r     |███████████████████▉            | 788 kB 25.4 MB\/s eta 0:00:01\r     |████████████████████▏           | 798 kB 25.4 MB\/s eta 0:00:01\r     |████████████████████▍           | 808 kB 25.4 MB\/s eta 0:00:01\r     |████████████████████▋           | 819 kB 25.4 MB\/s eta 0:00:01\r     |█████████████████████           | 829 kB 25.4 MB\/s eta 0:00:01\r     |█████████████████████▏          | 839 kB 25.4 MB\/s eta 0:00:01\r     |█████████████████████▍          | 849 kB 25.4 MB\/s eta 0:00:01\r     |█████████████████████▋          | 860 kB 25.4 MB\/s eta 0:00:01\r     |██████████████████████          | 870 kB 25.4 MB\/s eta 0:00:01\r     |██████████████████████▏         | 880 kB 25.4 MB\/s eta 0:00:01\r     |██████████████████████▍         | 890 kB 25.4 MB\/s eta 0:00:01\r     |██████████████████████▊         | 901 kB 25.4 MB\/s eta 0:00:01\r     |███████████████████████         | 911 kB 25.4 MB\/s eta 0:00:01\r     |███████████████████████▏        | 921 kB 25.4 MB\/s eta 0:00:01\r     |███████████████████████▌        | 931 kB 25.4 MB\/s eta 0:00:01\r     |███████████████████████▊        | 942 kB 25.4 MB\/s eta 0:00:01\r     |████████████████████████        | 952 kB 25.4 MB\/s eta 0:00:01\r     |████████████████████████▎       | 962 kB 25.4 MB\/s eta 0:00:01\r     |████████████████████████▌       | 972 kB 25.4 MB\/s eta 0:00:01\r     |████████████████████████▊       | 983 kB 25.4 MB\/s eta 0:00:01\r     |█████████████████████████       | 993 kB 25.4 MB\/s eta 0:00:01\r     |█████████████████████████▎      | 1.0 MB 25.4 MB\/s eta 0:00:01\r     |█████████████████████████▌      | 1.0 MB 25.4 MB\/s eta 0:00:01\r     |█████████████████████████▉      | 1.0 MB 25.4 MB\/s eta 0:00:01\r     |██████████████████████████      | 1.0 MB 25.4 MB\/s eta 0:00:01\r     |██████████████████████████▎     | 1.0 MB 25.4 MB\/s eta 0:00:01\r     |██████████████████████████▋     | 1.1 MB 25.4 MB\/s eta 0:00:01\r     |██████████████████████████▉     | 1.1 MB 25.4 MB\/s eta 0:00:01\r     |███████████████████████████     | 1.1 MB 25.4 MB\/s eta 0:00:01\r     |███████████████████████████▍    | 1.1 MB 25.4 MB\/s eta 0:00:01\r     |███████████████████████████▋    | 1.1 MB 25.4 MB\/s eta 0:00:01\r     |███████████████████████████▉    | 1.1 MB 25.4 MB\/s eta 0:00:01\r     |████████████████████████████▏   | 1.1 MB 25.4 MB\/s eta 0:00:01\r     |████████████████████████████▍   | 1.1 MB 25.4 MB\/s eta 0:00:01\r     |████████████████████████████▋   | 1.1 MB 25.4 MB\/s eta 0:00:01\r     |████████████████████████████▉   | 1.1 MB 25.4 MB\/s eta 0:00:01\r     |█████████████████████████████▏  | 1.2 MB 25.4 MB\/s eta 0:00:01\r     |█████████████████████████████▍  | 1.2 MB 25.4 MB\/s eta 0:00:01\r     |█████████████████████████████▋  | 1.2 MB 25.4 MB\/s eta 0:00:01\r     |██████████████████████████████  | 1.2 MB 25.4 MB\/s eta 0:00:01\r     |██████████████████████████████▏ | 1.2 MB 25.4 MB\/s eta 0:00:01\r     |██████████████████████████████▍ | 1.2 MB 25.4 MB\/s eta 0:00:01\r     |██████████████████████████████▊ | 1.2 MB 25.4 MB\/s eta 0:00:01\r     |███████████████████████████████ | 1.2 MB 25.4 MB\/s eta 0:00:01\r     |███████████████████████████████▏| 1.2 MB 25.4 MB\/s eta 0:00:01\r     |███████████████████████████████▌| 1.2 MB 25.4 MB\/s eta 0:00:01\r     |███████████████████████████████▊| 1.3 MB 25.4 MB\/s eta 0:00:01\r     |████████████████████████████████| 1.3 MB 25.4 MB\/s eta 0:00:01\r     |████████████████████████████████| 1.3 MB 25.4 MB\/s            \r\n",
      "\u001b[?25hInstalling collected packages: sqlalchemy\r\n",
      "Successfully installed sqlalchemy-1.3.24\r\n",
      "\u001b[33mWARNING: You are using pip version 21.3.1; however, version 22.0.4 is available.\r\n",
      "You should consider upgrading via the '\/opt\/python\/envs\/default\/bin\/python -m pip install --upgrade pip' command.\u001b[0m\r\n",
      "Collecting ipython-sql\r\n",
      "  Downloading ipython_sql-0.4.0-py3-none-any.whl (19 kB)\r\n",
      "Collecting prettytable<1\r\n",
      "  Downloading prettytable-0.7.2.zip (28 kB)\r\n",
      "  Preparing metadata (setup.py) ... \u001b[?25l-\b \bdone\r\n",
      "\u001b[?25hRequirement already satisfied: six in \/opt\/python\/envs\/default\/lib\/python3.8\/site-packages (from ipython-sql) (1.16.0)\r\n",
      "Collecting sqlparse\r\n",
      "  Downloading sqlparse-0.4.2-py3-none-any.whl (42 kB)\r\n",
      "\u001b[?25l\r\r     |███████▊                        | 10 kB 24.4 MB\/s eta 0:00:01\r     |███████████████▌                | 20 kB 29.0 MB\/s eta 0:00:01\r     |███████████████████████▎        | 30 kB 36.5 MB\/s eta 0:00:01\r     |███████████████████████████████ | 40 kB 41.4 MB\/s eta 0:00:01\r     |████████████████████████████████| 42 kB 2.1 MB\/s             \r\n",
      "\u001b[?25hRequirement already satisfied: sqlalchemy>=0.6.7 in \/opt\/python\/envs\/default\/lib\/python3.8\/site-packages (from ipython-sql) (1.3.24)\r\n",
      "Requirement already satisfied: ipython-genutils>=0.1.0 in \/opt\/python\/envs\/default\/lib\/python3.8\/site-packages (from ipython-sql) (0.2.0)\r\n",
      "Requirement already satisfied: ipython>=1.0 in \/opt\/python\/envs\/default\/lib\/python3.8\/site-packages (from ipython-sql) (7.31.1)\r\n",
      "Requirement already satisfied: pickleshare in \/opt\/python\/envs\/default\/lib\/python3.8\/site-packages (from ipython>=1.0->ipython-sql) (0.7.5)\r\n",
      "Requirement already satisfied: matplotlib-inline in \/opt\/python\/envs\/default\/lib\/python3.8\/site-packages (from ipython>=1.0->ipython-sql) (0.1.3)\r\n",
      "Requirement already satisfied: backcall in \/opt\/python\/envs\/default\/lib\/python3.8\/site-packages (from ipython>=1.0->ipython-sql) (0.2.0)\r\n",
      "Requirement already satisfied: prompt-toolkit!=3.0.0,!=3.0.1,<3.1.0,>=2.0.0 in \/opt\/python\/envs\/default\/lib\/python3.8\/site-packages (from ipython>=1.0->ipython-sql) (3.0.28)\r\n",
      "Requirement already satisfied: jedi>=0.16 in \/opt\/python\/envs\/default\/lib\/python3.8\/site-packages (from ipython>=1.0->ipython-sql) (0.17.2)\r\n",
      "Requirement already satisfied: pexpect>4.3 in \/opt\/python\/envs\/default\/lib\/python3.8\/site-packages (from ipython>=1.0->ipython-sql) (4.8.0)\r\n",
      "Requirement already satisfied: pygments in \/opt\/python\/envs\/default\/lib\/python3.8\/site-packages (from ipython>=1.0->ipython-sql) (2.11.2)\r\n",
      "Requirement already satisfied: traitlets>=4.2 in \/opt\/python\/envs\/default\/lib\/python3.8\/site-packages (from ipython>=1.0->ipython-sql) (5.1.1)\r\n",
      "Requirement already satisfied: decorator in \/opt\/python\/envs\/default\/lib\/python3.8\/site-packages (from ipython>=1.0->ipython-sql) (5.1.1)\r\n",
      "Requirement already satisfied: setuptools>=18.5 in \/opt\/python\/envs\/default\/lib\/python3.8\/site-packages (from ipython>=1.0->ipython-sql) (56.0.0)\r\n",
      "Requirement already satisfied: parso<0.8.0,>=0.7.0 in \/opt\/python\/envs\/default\/lib\/python3.8\/site-packages (from jedi>=0.16->ipython>=1.0->ipython-sql) (0.7.1)\r\n",
      "Requirement already satisfied: ptyprocess>=0.5 in \/opt\/python\/envs\/default\/lib\/python3.8\/site-packages (from pexpect>4.3->ipython>=1.0->ipython-sql) (0.7.0)\r\n",
      "Requirement already satisfied: wcwidth in \/opt\/python\/envs\/default\/lib\/python3.8\/site-packages (from prompt-toolkit!=3.0.0,!=3.0.1,<3.1.0,>=2.0.0->ipython>=1.0->ipython-sql) (0.2.5)\r\n",
      "Building wheels for collected packages: prettytable\r\n",
      "  Building wheel for prettytable (setup.py) ... \u001b[?25l-\b \bdone\r\n",
      "\u001b[?25h  Created wheel for prettytable: filename=prettytable-0.7.2-py3-none-any.whl size=13699 sha256=dd68da3abb84c7b6a568ab7d8d160195f50ff63804339d1d6fe5f3196e5f4bd4\r\n",
      "  Stored in directory: \/home\/datalore\/.cache\/pip\/wheels\/48\/6d\/77\/9517cb933af254f51a446f1a5ec9c2be3e45f17384940bce68\r\n",
      "Successfully built prettytable\r\n",
      "Installing collected packages: sqlparse, prettytable, ipython-sql\r\n",
      "Successfully installed ipython-sql-0.4.0 prettytable-0.7.2 sqlparse-0.4.2\r\n",
      "\u001b[33mWARNING: You are using pip version 21.3.1; however, version 22.0.4 is available.\r\n",
      "You should consider upgrading via the '\/opt\/python\/envs\/default\/bin\/python -m pip install --upgrade pip' command.\u001b[0m\r\n"
     ],
     "output_type":"stream"
    }
   ],
   "metadata":{
    "datalore":{
     "type":"CODE",
     "hide_input_from_viewers":false,
     "hide_output_from_viewers":false
    }
   }
  },
  {
   "cell_type":"code",
   "source":[
    "import pandas as pd\n",
    "import matplotlib.pyplot as plt\n",
    "import matplotlib as mlp\n",
    "%matplotlib inline\n",
    "import seaborn as sns"
   ],
   "execution_count":3,
   "outputs":[
    
   ],
   "metadata":{
    "datalore":{
     "type":"CODE",
     "hide_input_from_viewers":false,
     "hide_output_from_viewers":false
    }
   }
  },
  {
   "cell_type":"markdown",
   "source":[
    "## Load SQL Magic"
   ],
   "attachments":{
    
   },
   "metadata":{
    "datalore":{
     "type":"MD",
     "hide_input_from_viewers":false,
     "hide_output_from_viewers":false
    }
   }
  },
  {
   "cell_type":"code",
   "source":[
    "%load_ext sql"
   ],
   "execution_count":4,
   "outputs":[
    
   ],
   "metadata":{
    "datalore":{
     "type":"CODE",
     "hide_input_from_viewers":false,
     "hide_output_from_viewers":false
    }
   }
  },
  {
   "cell_type":"markdown",
   "source":[
    "## **Connect to IBM Db2**"
   ],
   "attachments":{
    
   },
   "metadata":{
    "datalore":{
     "type":"MD",
     "hide_input_from_viewers":false,
     "hide_output_from_viewers":false
    }
   }
  },
  {
   "cell_type":"code",
   "source":[
    "%sql ibm_db_sa:\/\/fll09902:zYyCJdgrLqPHagh7@ea286ace-86c7-4d5b-8580-3fbfa46b1c66.bs2io90l08kqb1od8lcg.databases.appdomain.cloud:31505\/BLUDB?security=SSL\n",
    "\n",
    "%sql ibm_db_sa:\/\/"
   ],
   "execution_count":5,
   "outputs":[
    
   ],
   "metadata":{
    "datalore":{
     "type":"CODE",
     "hide_input_from_viewers":false,
     "hide_output_from_viewers":false
    }
   }
  },
  {
   "cell_type":"markdown",
   "source":[
    "## **Count Number of Columns in 3 Tables**"
   ],
   "attachments":{
    
   },
   "metadata":{
    "datalore":{
     "type":"MD",
     "hide_input_from_viewers":false,
     "hide_output_from_viewers":false
    }
   }
  },
  {
   "cell_type":"code",
   "source":[
    "%sql select count(*) AS SCHOOL_COLUMNS from SYSCAT.COLUMNS where TABNAME = 'CHI_SCHOOL'\n",
    "\n"
   ],
   "execution_count":103,
   "outputs":[
    {
     "name":"stdout",
     "text":[
      " * ibm_db_sa:\/\/fll09902:***@ea286ace-86c7-4d5b-8580-3fbfa46b1c66.bs2io90l08kqb1od8lcg.databases.appdomain.cloud:31505\/BLUDB\n",
      "Done.\n"
     ],
     "output_type":"stream"
    },
    {
     "data":{
      "text\/html":[
       "<table>\n",
       "    <tr>\n",
       "        <th>school_columns<\/th>\n",
       "    <\/tr>\n",
       "    <tr>\n",
       "        <td>78<\/td>\n",
       "    <\/tr>\n",
       "<\/table>"
      ]
     },
     "metadata":{
      
     },
     "output_type":"display_data"
    }
   ],
   "metadata":{
    "datalore":{
     "type":"CODE",
     "hide_input_from_viewers":false,
     "hide_output_from_viewers":false
    }
   }
  },
  {
   "cell_type":"code",
   "source":[
    "%sql select count(*) AS CRIME_COLUMNS from SYSCAT.COLUMNS WHERE TABNAME='CHI_CRIME'"
   ],
   "execution_count":106,
   "outputs":[
    {
     "name":"stdout",
     "text":[
      " * ibm_db_sa:\/\/fll09902:***@ea286ace-86c7-4d5b-8580-3fbfa46b1c66.bs2io90l08kqb1od8lcg.databases.appdomain.cloud:31505\/BLUDB\n",
      "Done.\n"
     ],
     "output_type":"stream"
    },
    {
     "data":{
      "text\/html":[
       "<table>\n",
       "    <tr>\n",
       "        <th>crime_columns<\/th>\n",
       "    <\/tr>\n",
       "    <tr>\n",
       "        <td>21<\/td>\n",
       "    <\/tr>\n",
       "<\/table>"
      ]
     },
     "metadata":{
      
     },
     "output_type":"display_data"
    }
   ],
   "metadata":{
    "datalore":{
     "type":"CODE",
     "hide_input_from_viewers":false,
     "hide_output_from_viewers":false
    }
   }
  },
  {
   "cell_type":"code",
   "source":[
    "%sql select count(*)as Census_columns  from SYSCAT.COLUMNS WHERE TABNAME='CHI_CENSUS'"
   ],
   "execution_count":112,
   "outputs":[
    {
     "name":"stdout",
     "text":[
      " * ibm_db_sa:\/\/fll09902:***@ea286ace-86c7-4d5b-8580-3fbfa46b1c66.bs2io90l08kqb1od8lcg.databases.appdomain.cloud:31505\/BLUDB\n",
      "Done.\n"
     ],
     "output_type":"stream"
    },
    {
     "data":{
      "text\/html":[
       "<table>\n",
       "    <tr>\n",
       "        <th>census_columns<\/th>\n",
       "    <\/tr>\n",
       "    <tr>\n",
       "        <td>9<\/td>\n",
       "    <\/tr>\n",
       "<\/table>"
      ]
     },
     "metadata":{
      
     },
     "output_type":"display_data"
    }
   ],
   "metadata":{
    "datalore":{
     "type":"CODE",
     "hide_input_from_viewers":false,
     "hide_output_from_viewers":false
    }
   }
  },
  {
   "cell_type":"markdown",
   "source":[
    "## Identify column names per table"
   ],
   "attachments":{
    
   },
   "metadata":{
    "datalore":{
     "type":"MD",
     "hide_input_from_viewers":false,
     "hide_output_from_viewers":false
    }
   }
  },
  {
   "cell_type":"code",
   "source":[
    "%sql select COLNAME, TYPENAME, LENGTH from SYSCAT.COLUMNS where TABNAME = 'CHI_SCHOOL'"
   ],
   "execution_count":53,
   "outputs":[
    {
     "name":"stdout",
     "text":[
      " * ibm_db_sa:\/\/fll09902:***@ea286ace-86c7-4d5b-8580-3fbfa46b1c66.bs2io90l08kqb1od8lcg.databases.appdomain.cloud:31505\/BLUDB\n",
      "Done.\n"
     ],
     "output_type":"stream"
    },
    {
     "data":{
      "text\/html":[
       "<table>\n",
       "    <tr>\n",
       "        <th>colname<\/th>\n",
       "        <th>typename<\/th>\n",
       "        <th>length<\/th>\n",
       "    <\/tr>\n",
       "    <tr>\n",
       "        <td>SCHOOL_ID<\/td>\n",
       "        <td>INTEGER<\/td>\n",
       "        <td>4<\/td>\n",
       "    <\/tr>\n",
       "    <tr>\n",
       "        <td>NAME_OF_SCHOOL<\/td>\n",
       "        <td>VARCHAR<\/td>\n",
       "        <td>64<\/td>\n",
       "    <\/tr>\n",
       "    <tr>\n",
       "        <td>Elementary, Middle, or High School<\/td>\n",
       "        <td>VARCHAR<\/td>\n",
       "        <td>2<\/td>\n",
       "    <\/tr>\n",
       "    <tr>\n",
       "        <td>STREET_ADDRESS<\/td>\n",
       "        <td>VARCHAR<\/td>\n",
       "        <td>29<\/td>\n",
       "    <\/tr>\n",
       "    <tr>\n",
       "        <td>CITY<\/td>\n",
       "        <td>VARCHAR<\/td>\n",
       "        <td>7<\/td>\n",
       "    <\/tr>\n",
       "    <tr>\n",
       "        <td>STATE<\/td>\n",
       "        <td>VARCHAR<\/td>\n",
       "        <td>2<\/td>\n",
       "    <\/tr>\n",
       "    <tr>\n",
       "        <td>ZIP_CODE<\/td>\n",
       "        <td>INTEGER<\/td>\n",
       "        <td>4<\/td>\n",
       "    <\/tr>\n",
       "    <tr>\n",
       "        <td>PHONE_NUMBER<\/td>\n",
       "        <td>VARCHAR<\/td>\n",
       "        <td>14<\/td>\n",
       "    <\/tr>\n",
       "    <tr>\n",
       "        <td>LINK<\/td>\n",
       "        <td>VARCHAR<\/td>\n",
       "        <td>78<\/td>\n",
       "    <\/tr>\n",
       "    <tr>\n",
       "        <td>NETWORK_MANAGER<\/td>\n",
       "        <td>VARCHAR<\/td>\n",
       "        <td>40<\/td>\n",
       "    <\/tr>\n",
       "    <tr>\n",
       "        <td>COLLABORATIVE_NAME<\/td>\n",
       "        <td>VARCHAR<\/td>\n",
       "        <td>34<\/td>\n",
       "    <\/tr>\n",
       "    <tr>\n",
       "        <td>ADEQUATE_YEARLY_PROGRESS_MADE_<\/td>\n",
       "        <td>VARCHAR<\/td>\n",
       "        <td>3<\/td>\n",
       "    <\/tr>\n",
       "    <tr>\n",
       "        <td>TRACK_SCHEDULE<\/td>\n",
       "        <td>VARCHAR<\/td>\n",
       "        <td>12<\/td>\n",
       "    <\/tr>\n",
       "    <tr>\n",
       "        <td>CPS_PERFORMANCE_POLICY_STATUS<\/td>\n",
       "        <td>VARCHAR<\/td>\n",
       "        <td>16<\/td>\n",
       "    <\/tr>\n",
       "    <tr>\n",
       "        <td>CPS_PERFORMANCE_POLICY_LEVEL<\/td>\n",
       "        <td>VARCHAR<\/td>\n",
       "        <td>15<\/td>\n",
       "    <\/tr>\n",
       "    <tr>\n",
       "        <td>HEALTHY_SCHOOL_CERTIFIED<\/td>\n",
       "        <td>VARCHAR<\/td>\n",
       "        <td>3<\/td>\n",
       "    <\/tr>\n",
       "    <tr>\n",
       "        <td>SAFETY_ICON<\/td>\n",
       "        <td>VARCHAR<\/td>\n",
       "        <td>11<\/td>\n",
       "    <\/tr>\n",
       "    <tr>\n",
       "        <td>SAFETY_SCORE<\/td>\n",
       "        <td>SMALLINT<\/td>\n",
       "        <td>2<\/td>\n",
       "    <\/tr>\n",
       "    <tr>\n",
       "        <td>FAMILY_INVOLVEMENT_ICON<\/td>\n",
       "        <td>VARCHAR<\/td>\n",
       "        <td>11<\/td>\n",
       "    <\/tr>\n",
       "    <tr>\n",
       "        <td>FAMILY_INVOLVEMENT_SCORE<\/td>\n",
       "        <td>VARCHAR<\/td>\n",
       "        <td>3<\/td>\n",
       "    <\/tr>\n",
       "    <tr>\n",
       "        <td>ENVIRONMENT_ICON<\/td>\n",
       "        <td>VARCHAR<\/td>\n",
       "        <td>11<\/td>\n",
       "    <\/tr>\n",
       "    <tr>\n",
       "        <td>ENVIRONMENT_SCORE<\/td>\n",
       "        <td>SMALLINT<\/td>\n",
       "        <td>2<\/td>\n",
       "    <\/tr>\n",
       "    <tr>\n",
       "        <td>INSTRUCTION_ICON<\/td>\n",
       "        <td>VARCHAR<\/td>\n",
       "        <td>11<\/td>\n",
       "    <\/tr>\n",
       "    <tr>\n",
       "        <td>INSTRUCTION_SCORE<\/td>\n",
       "        <td>SMALLINT<\/td>\n",
       "        <td>2<\/td>\n",
       "    <\/tr>\n",
       "    <tr>\n",
       "        <td>LEADERS_ICON<\/td>\n",
       "        <td>VARCHAR<\/td>\n",
       "        <td>4<\/td>\n",
       "    <\/tr>\n",
       "    <tr>\n",
       "        <td>LEADERS_SCORE<\/td>\n",
       "        <td>VARCHAR<\/td>\n",
       "        <td>3<\/td>\n",
       "    <\/tr>\n",
       "    <tr>\n",
       "        <td>TEACHERS_ICON<\/td>\n",
       "        <td>VARCHAR<\/td>\n",
       "        <td>11<\/td>\n",
       "    <\/tr>\n",
       "    <tr>\n",
       "        <td>TEACHERS_SCORE<\/td>\n",
       "        <td>VARCHAR<\/td>\n",
       "        <td>3<\/td>\n",
       "    <\/tr>\n",
       "    <tr>\n",
       "        <td>PARENT_ENGAGEMENT_ICON<\/td>\n",
       "        <td>VARCHAR<\/td>\n",
       "        <td>7<\/td>\n",
       "    <\/tr>\n",
       "    <tr>\n",
       "        <td>PARENT_ENGAGEMENT_SCORE<\/td>\n",
       "        <td>VARCHAR<\/td>\n",
       "        <td>3<\/td>\n",
       "    <\/tr>\n",
       "    <tr>\n",
       "        <td>PARENT_ENVIRONMENT_ICON<\/td>\n",
       "        <td>VARCHAR<\/td>\n",
       "        <td>7<\/td>\n",
       "    <\/tr>\n",
       "    <tr>\n",
       "        <td>PARENT_ENVIRONMENT_SCORE<\/td>\n",
       "        <td>VARCHAR<\/td>\n",
       "        <td>3<\/td>\n",
       "    <\/tr>\n",
       "    <tr>\n",
       "        <td>AVERAGE_STUDENT_ATTENDANCE<\/td>\n",
       "        <td>VARCHAR<\/td>\n",
       "        <td>6<\/td>\n",
       "    <\/tr>\n",
       "    <tr>\n",
       "        <td>RATE_OF_MISCONDUCTS__PER_100_STUDENTS_<\/td>\n",
       "        <td>DECIMAL<\/td>\n",
       "        <td>5<\/td>\n",
       "    <\/tr>\n",
       "    <tr>\n",
       "        <td>AVERAGE_TEACHER_ATTENDANCE<\/td>\n",
       "        <td>VARCHAR<\/td>\n",
       "        <td>6<\/td>\n",
       "    <\/tr>\n",
       "    <tr>\n",
       "        <td>INDIVIDUALIZED_EDUCATION_PROGRAM_COMPLIANCE_RATE<\/td>\n",
       "        <td>VARCHAR<\/td>\n",
       "        <td>7<\/td>\n",
       "    <\/tr>\n",
       "    <tr>\n",
       "        <td>PK_2_LITERACY__<\/td>\n",
       "        <td>VARCHAR<\/td>\n",
       "        <td>4<\/td>\n",
       "    <\/tr>\n",
       "    <tr>\n",
       "        <td>PK_2_MATH__<\/td>\n",
       "        <td>VARCHAR<\/td>\n",
       "        <td>4<\/td>\n",
       "    <\/tr>\n",
       "    <tr>\n",
       "        <td>GR3_5_GRADE_LEVEL_MATH__<\/td>\n",
       "        <td>VARCHAR<\/td>\n",
       "        <td>4<\/td>\n",
       "    <\/tr>\n",
       "    <tr>\n",
       "        <td>GR3_5_GRADE_LEVEL_READ__<\/td>\n",
       "        <td>VARCHAR<\/td>\n",
       "        <td>4<\/td>\n",
       "    <\/tr>\n",
       "    <tr>\n",
       "        <td>GR3_5_KEEP_PACE_READ__<\/td>\n",
       "        <td>VARCHAR<\/td>\n",
       "        <td>4<\/td>\n",
       "    <\/tr>\n",
       "    <tr>\n",
       "        <td>GR3_5_KEEP_PACE_MATH__<\/td>\n",
       "        <td>VARCHAR<\/td>\n",
       "        <td>4<\/td>\n",
       "    <\/tr>\n",
       "    <tr>\n",
       "        <td>GR6_8_GRADE_LEVEL_MATH__<\/td>\n",
       "        <td>VARCHAR<\/td>\n",
       "        <td>4<\/td>\n",
       "    <\/tr>\n",
       "    <tr>\n",
       "        <td>GR6_8_GRADE_LEVEL_READ__<\/td>\n",
       "        <td>VARCHAR<\/td>\n",
       "        <td>4<\/td>\n",
       "    <\/tr>\n",
       "    <tr>\n",
       "        <td>GR6_8_KEEP_PACE_MATH_<\/td>\n",
       "        <td>VARCHAR<\/td>\n",
       "        <td>4<\/td>\n",
       "    <\/tr>\n",
       "    <tr>\n",
       "        <td>GR6_8_KEEP_PACE_READ__<\/td>\n",
       "        <td>VARCHAR<\/td>\n",
       "        <td>4<\/td>\n",
       "    <\/tr>\n",
       "    <tr>\n",
       "        <td>GR_8_EXPLORE_MATH__<\/td>\n",
       "        <td>VARCHAR<\/td>\n",
       "        <td>4<\/td>\n",
       "    <\/tr>\n",
       "    <tr>\n",
       "        <td>GR_8_EXPLORE_READ__<\/td>\n",
       "        <td>VARCHAR<\/td>\n",
       "        <td>4<\/td>\n",
       "    <\/tr>\n",
       "    <tr>\n",
       "        <td>ISAT_EXCEEDING_MATH__<\/td>\n",
       "        <td>DECIMAL<\/td>\n",
       "        <td>4<\/td>\n",
       "    <\/tr>\n",
       "    <tr>\n",
       "        <td>ISAT_EXCEEDING_READING__<\/td>\n",
       "        <td>DECIMAL<\/td>\n",
       "        <td>4<\/td>\n",
       "    <\/tr>\n",
       "    <tr>\n",
       "        <td>ISAT_VALUE_ADD_MATH<\/td>\n",
       "        <td>DECIMAL<\/td>\n",
       "        <td>3<\/td>\n",
       "    <\/tr>\n",
       "    <tr>\n",
       "        <td>ISAT_VALUE_ADD_READ<\/td>\n",
       "        <td>DECIMAL<\/td>\n",
       "        <td>3<\/td>\n",
       "    <\/tr>\n",
       "    <tr>\n",
       "        <td>ISAT_VALUE_ADD_COLOR_MATH<\/td>\n",
       "        <td>VARCHAR<\/td>\n",
       "        <td>6<\/td>\n",
       "    <\/tr>\n",
       "    <tr>\n",
       "        <td>ISAT_VALUE_ADD_COLOR_READ<\/td>\n",
       "        <td>VARCHAR<\/td>\n",
       "        <td>6<\/td>\n",
       "    <\/tr>\n",
       "    <tr>\n",
       "        <td>STUDENTS_TAKING__ALGEBRA__<\/td>\n",
       "        <td>VARCHAR<\/td>\n",
       "        <td>4<\/td>\n",
       "    <\/tr>\n",
       "    <tr>\n",
       "        <td>STUDENTS_PASSING__ALGEBRA__<\/td>\n",
       "        <td>VARCHAR<\/td>\n",
       "        <td>4<\/td>\n",
       "    <\/tr>\n",
       "    <tr>\n",
       "        <td>9th Grade EXPLORE (2009)<\/td>\n",
       "        <td>VARCHAR<\/td>\n",
       "        <td>4<\/td>\n",
       "    <\/tr>\n",
       "    <tr>\n",
       "        <td>9th Grade EXPLORE (2010)<\/td>\n",
       "        <td>VARCHAR<\/td>\n",
       "        <td>4<\/td>\n",
       "    <\/tr>\n",
       "    <tr>\n",
       "        <td>10th Grade PLAN (2009)<\/td>\n",
       "        <td>VARCHAR<\/td>\n",
       "        <td>4<\/td>\n",
       "    <\/tr>\n",
       "    <tr>\n",
       "        <td>10th Grade PLAN (2010)<\/td>\n",
       "        <td>VARCHAR<\/td>\n",
       "        <td>4<\/td>\n",
       "    <\/tr>\n",
       "    <tr>\n",
       "        <td>NET_CHANGE_EXPLORE_AND_PLAN<\/td>\n",
       "        <td>VARCHAR<\/td>\n",
       "        <td>3<\/td>\n",
       "    <\/tr>\n",
       "    <tr>\n",
       "        <td>11th Grade Average ACT (2011)<\/td>\n",
       "        <td>VARCHAR<\/td>\n",
       "        <td>4<\/td>\n",
       "    <\/tr>\n",
       "    <tr>\n",
       "        <td>NET_CHANGE_PLAN_AND_ACT<\/td>\n",
       "        <td>VARCHAR<\/td>\n",
       "        <td>3<\/td>\n",
       "    <\/tr>\n",
       "    <tr>\n",
       "        <td>COLLEGE_ELIGIBILITY__<\/td>\n",
       "        <td>VARCHAR<\/td>\n",
       "        <td>4<\/td>\n",
       "    <\/tr>\n",
       "    <tr>\n",
       "        <td>GRADUATION_RATE__<\/td>\n",
       "        <td>VARCHAR<\/td>\n",
       "        <td>4<\/td>\n",
       "    <\/tr>\n",
       "    <tr>\n",
       "        <td>COLLEGE_ENROLLMENT_RATE__<\/td>\n",
       "        <td>VARCHAR<\/td>\n",
       "        <td>4<\/td>\n",
       "    <\/tr>\n",
       "    <tr>\n",
       "        <td>COLLEGE_ENROLLMENT<\/td>\n",
       "        <td>SMALLINT<\/td>\n",
       "        <td>2<\/td>\n",
       "    <\/tr>\n",
       "    <tr>\n",
       "        <td>GENERAL_SERVICES_ROUTE<\/td>\n",
       "        <td>SMALLINT<\/td>\n",
       "        <td>2<\/td>\n",
       "    <\/tr>\n",
       "    <tr>\n",
       "        <td>FRESHMAN_ON_TRACK_RATE__<\/td>\n",
       "        <td>VARCHAR<\/td>\n",
       "        <td>4<\/td>\n",
       "    <\/tr>\n",
       "    <tr>\n",
       "        <td>X_COORDINATE<\/td>\n",
       "        <td>DECIMAL<\/td>\n",
       "        <td>13<\/td>\n",
       "    <\/tr>\n",
       "    <tr>\n",
       "        <td>Y_COORDINATE<\/td>\n",
       "        <td>DECIMAL<\/td>\n",
       "        <td>13<\/td>\n",
       "    <\/tr>\n",
       "    <tr>\n",
       "        <td>LATITUDE<\/td>\n",
       "        <td>DECIMAL<\/td>\n",
       "        <td>18<\/td>\n",
       "    <\/tr>\n",
       "    <tr>\n",
       "        <td>LONGITUDE<\/td>\n",
       "        <td>DECIMAL<\/td>\n",
       "        <td>18<\/td>\n",
       "    <\/tr>\n",
       "    <tr>\n",
       "        <td>COMMUNITY_AREA_NUMBER<\/td>\n",
       "        <td>SMALLINT<\/td>\n",
       "        <td>2<\/td>\n",
       "    <\/tr>\n",
       "    <tr>\n",
       "        <td>COMMUNITY_AREA_NAME<\/td>\n",
       "        <td>VARCHAR<\/td>\n",
       "        <td>22<\/td>\n",
       "    <\/tr>\n",
       "    <tr>\n",
       "        <td>WARD<\/td>\n",
       "        <td>SMALLINT<\/td>\n",
       "        <td>2<\/td>\n",
       "    <\/tr>\n",
       "    <tr>\n",
       "        <td>POLICE_DISTRICT<\/td>\n",
       "        <td>SMALLINT<\/td>\n",
       "        <td>2<\/td>\n",
       "    <\/tr>\n",
       "    <tr>\n",
       "        <td>LOCATION<\/td>\n",
       "        <td>VARCHAR<\/td>\n",
       "        <td>27<\/td>\n",
       "    <\/tr>\n",
       "<\/table>"
      ]
     },
     "metadata":{
      
     },
     "output_type":"display_data"
    }
   ],
   "metadata":{
    "datalore":{
     "type":"CODE",
     "hide_input_from_viewers":false,
     "hide_output_from_viewers":false
    }
   }
  },
  {
   "cell_type":"code",
   "source":[
    "%sql select COLNAME, TYPENAME, LENGTH from SYSCAT.COLUMNS where TABNAME = 'CHI_CENSUS'"
   ],
   "execution_count":115,
   "outputs":[
    {
     "name":"stdout",
     "text":[
      " * ibm_db_sa:\/\/fll09902:***@ea286ace-86c7-4d5b-8580-3fbfa46b1c66.bs2io90l08kqb1od8lcg.databases.appdomain.cloud:31505\/BLUDB\n",
      "Done.\n"
     ],
     "output_type":"stream"
    },
    {
     "data":{
      "text\/html":[
       "<table>\n",
       "    <tr>\n",
       "        <th>colname<\/th>\n",
       "        <th>typename<\/th>\n",
       "        <th>length<\/th>\n",
       "    <\/tr>\n",
       "    <tr>\n",
       "        <td>COMMUNITY_AREA_NUMBER<\/td>\n",
       "        <td>SMALLINT<\/td>\n",
       "        <td>2<\/td>\n",
       "    <\/tr>\n",
       "    <tr>\n",
       "        <td>COMMUNITY_AREA_NAME<\/td>\n",
       "        <td>VARCHAR<\/td>\n",
       "        <td>22<\/td>\n",
       "    <\/tr>\n",
       "    <tr>\n",
       "        <td>PERCENT_OF_HOUSING_CROWDED<\/td>\n",
       "        <td>DECIMAL<\/td>\n",
       "        <td>4<\/td>\n",
       "    <\/tr>\n",
       "    <tr>\n",
       "        <td>PERCENT_HOUSEHOLDS_BELOW_POVERTY<\/td>\n",
       "        <td>DECIMAL<\/td>\n",
       "        <td>4<\/td>\n",
       "    <\/tr>\n",
       "    <tr>\n",
       "        <td>PERCENT_AGED_16__UNEMPLOYED<\/td>\n",
       "        <td>DECIMAL<\/td>\n",
       "        <td>4<\/td>\n",
       "    <\/tr>\n",
       "    <tr>\n",
       "        <td>PERCENT_AGED_25__WITHOUT_HIGH_SCHOOL_DIPLOMA<\/td>\n",
       "        <td>DECIMAL<\/td>\n",
       "        <td>4<\/td>\n",
       "    <\/tr>\n",
       "    <tr>\n",
       "        <td>PERCENT_AGED_UNDER_18_OR_OVER_64<\/td>\n",
       "        <td>DECIMAL<\/td>\n",
       "        <td>4<\/td>\n",
       "    <\/tr>\n",
       "    <tr>\n",
       "        <td>PER_CAPITA_INCOME<\/td>\n",
       "        <td>INTEGER<\/td>\n",
       "        <td>4<\/td>\n",
       "    <\/tr>\n",
       "    <tr>\n",
       "        <td>HARDSHIP_INDEX<\/td>\n",
       "        <td>SMALLINT<\/td>\n",
       "        <td>2<\/td>\n",
       "    <\/tr>\n",
       "<\/table>"
      ]
     },
     "metadata":{
      
     },
     "output_type":"display_data"
    }
   ],
   "metadata":{
    "datalore":{
     "type":"CODE",
     "hide_input_from_viewers":false,
     "hide_output_from_viewers":false
    }
   }
  },
  {
   "cell_type":"code",
   "source":[
    "%sql select COLNAME, TYPENAME, LENGTH from SYSCAT.COLUMNS where TABNAME = 'CHI_CRIME'"
   ],
   "execution_count":116,
   "outputs":[
    {
     "name":"stdout",
     "text":[
      " * ibm_db_sa:\/\/fll09902:***@ea286ace-86c7-4d5b-8580-3fbfa46b1c66.bs2io90l08kqb1od8lcg.databases.appdomain.cloud:31505\/BLUDB\n",
      "Done.\n"
     ],
     "output_type":"stream"
    },
    {
     "data":{
      "text\/html":[
       "<table>\n",
       "    <tr>\n",
       "        <th>colname<\/th>\n",
       "        <th>typename<\/th>\n",
       "        <th>length<\/th>\n",
       "    <\/tr>\n",
       "    <tr>\n",
       "        <td>ID<\/td>\n",
       "        <td>INTEGER<\/td>\n",
       "        <td>4<\/td>\n",
       "    <\/tr>\n",
       "    <tr>\n",
       "        <td>CASE_NUMBER<\/td>\n",
       "        <td>VARCHAR<\/td>\n",
       "        <td>8<\/td>\n",
       "    <\/tr>\n",
       "    <tr>\n",
       "        <td>DATE<\/td>\n",
       "        <td>DATE<\/td>\n",
       "        <td>4<\/td>\n",
       "    <\/tr>\n",
       "    <tr>\n",
       "        <td>BLOCK<\/td>\n",
       "        <td>VARCHAR<\/td>\n",
       "        <td>35<\/td>\n",
       "    <\/tr>\n",
       "    <tr>\n",
       "        <td>IUCR<\/td>\n",
       "        <td>VARCHAR<\/td>\n",
       "        <td>4<\/td>\n",
       "    <\/tr>\n",
       "    <tr>\n",
       "        <td>PRIMARY_TYPE<\/td>\n",
       "        <td>VARCHAR<\/td>\n",
       "        <td>15<\/td>\n",
       "    <\/tr>\n",
       "    <tr>\n",
       "        <td>DESCRIPTION<\/td>\n",
       "        <td>VARCHAR<\/td>\n",
       "        <td>46<\/td>\n",
       "    <\/tr>\n",
       "    <tr>\n",
       "        <td>LOCATION_DESCRIPTION<\/td>\n",
       "        <td>VARCHAR<\/td>\n",
       "        <td>33<\/td>\n",
       "    <\/tr>\n",
       "    <tr>\n",
       "        <td>ARREST<\/td>\n",
       "        <td>VARCHAR<\/td>\n",
       "        <td>5<\/td>\n",
       "    <\/tr>\n",
       "    <tr>\n",
       "        <td>DOMESTIC<\/td>\n",
       "        <td>VARCHAR<\/td>\n",
       "        <td>5<\/td>\n",
       "    <\/tr>\n",
       "    <tr>\n",
       "        <td>BEAT<\/td>\n",
       "        <td>SMALLINT<\/td>\n",
       "        <td>2<\/td>\n",
       "    <\/tr>\n",
       "    <tr>\n",
       "        <td>DISTRICT<\/td>\n",
       "        <td>SMALLINT<\/td>\n",
       "        <td>2<\/td>\n",
       "    <\/tr>\n",
       "    <tr>\n",
       "        <td>WARD<\/td>\n",
       "        <td>SMALLINT<\/td>\n",
       "        <td>2<\/td>\n",
       "    <\/tr>\n",
       "    <tr>\n",
       "        <td>COMMUNITY_AREA_NUMBER<\/td>\n",
       "        <td>SMALLINT<\/td>\n",
       "        <td>2<\/td>\n",
       "    <\/tr>\n",
       "    <tr>\n",
       "        <td>FBICODE<\/td>\n",
       "        <td>VARCHAR<\/td>\n",
       "        <td>3<\/td>\n",
       "    <\/tr>\n",
       "    <tr>\n",
       "        <td>X_COORDINATE<\/td>\n",
       "        <td>INTEGER<\/td>\n",
       "        <td>4<\/td>\n",
       "    <\/tr>\n",
       "    <tr>\n",
       "        <td>Y_COORDINATE<\/td>\n",
       "        <td>INTEGER<\/td>\n",
       "        <td>4<\/td>\n",
       "    <\/tr>\n",
       "    <tr>\n",
       "        <td>YEAR<\/td>\n",
       "        <td>SMALLINT<\/td>\n",
       "        <td>2<\/td>\n",
       "    <\/tr>\n",
       "    <tr>\n",
       "        <td>LATITUDE<\/td>\n",
       "        <td>DECIMAL<\/td>\n",
       "        <td>18<\/td>\n",
       "    <\/tr>\n",
       "    <tr>\n",
       "        <td>LONGITUDE<\/td>\n",
       "        <td>DECIMAL<\/td>\n",
       "        <td>18<\/td>\n",
       "    <\/tr>\n",
       "    <tr>\n",
       "        <td>LOCATION<\/td>\n",
       "        <td>VARCHAR<\/td>\n",
       "        <td>29<\/td>\n",
       "    <\/tr>\n",
       "<\/table>"
      ]
     },
     "metadata":{
      
     },
     "output_type":"display_data"
    }
   ],
   "metadata":{
    "datalore":{
     "type":"CODE",
     "hide_input_from_viewers":false,
     "hide_output_from_viewers":false
    }
   }
  },
  {
   "cell_type":"markdown",
   "source":[
    "# **Analyzing CHI_SCHOOL Data**"
   ],
   "attachments":{
    
   },
   "metadata":{
    "datalore":{
     "type":"MD",
     "hide_input_from_viewers":false,
     "hide_output_from_viewers":false
    }
   }
  },
  {
   "cell_type":"code",
   "source":[
    "%%sql select COMMUNITY_AREA_NUMBER, COMMUNITY_AREA_NAME,\"Elementary, Middle, or High School\" as SCHOOL_TYPE, SAFETY_SCORE, \n",
    "AVERAGE_STUDENT_ATTENDANCE, AVERAGE_TEACHER_ATTENDANCE, PARENT_ENGAGEMENT_SCORE,sum(COLLEGE_ENROLLMENT) as Total_College_Enrollments\n",
    "from \n",
    "CHI_SCHOOL \n",
    "GrOUP BY \"Elementary, Middle, or High School\",COMMUNITY_AREA_NAME, COMMUNITY_AREA_NUMBER, SAFETY_SCORE\t, \n",
    "AVERAGE_STUDENT_ATTENDANCE, AVERAGE_TEACHER_ATTENDANCE, PARENT_ENGAGEMENT_SCORE\n",
    "order by \"Elementary, Middle, or High School\"\n",
    "limit 10"
   ],
   "execution_count":158,
   "outputs":[
    {
     "name":"stdout",
     "text":[
      " * ibm_db_sa:\/\/fll09902:***@ea286ace-86c7-4d5b-8580-3fbfa46b1c66.bs2io90l08kqb1od8lcg.databases.appdomain.cloud:31505\/BLUDB\n",
      "Done.\n"
     ],
     "output_type":"stream"
    },
    {
     "data":{
      "text\/html":[
       "<table>\n",
       "    <tr>\n",
       "        <th>community_area_number<\/th>\n",
       "        <th>community_area_name<\/th>\n",
       "        <th>school_type<\/th>\n",
       "        <th>safety_score<\/th>\n",
       "        <th>average_student_attendance<\/th>\n",
       "        <th>average_teacher_attendance<\/th>\n",
       "        <th>parent_engagement_score<\/th>\n",
       "        <th>total_college_enrollments<\/th>\n",
       "    <\/tr>\n",
       "    <tr>\n",
       "        <td>14<\/td>\n",
       "        <td>ALBANY PARK<\/td>\n",
       "        <td>ES<\/td>\n",
       "        <td>43<\/td>\n",
       "        <td>96.20%<\/td>\n",
       "        <td>94.60%<\/td>\n",
       "        <td>46<\/td>\n",
       "        <td>1299<\/td>\n",
       "    <\/tr>\n",
       "    <tr>\n",
       "        <td>14<\/td>\n",
       "        <td>ALBANY PARK<\/td>\n",
       "        <td>ES<\/td>\n",
       "        <td>43<\/td>\n",
       "        <td>96.40%<\/td>\n",
       "        <td>95.90%<\/td>\n",
       "        <td>51<\/td>\n",
       "        <td>1023<\/td>\n",
       "    <\/tr>\n",
       "    <tr>\n",
       "        <td>14<\/td>\n",
       "        <td>ALBANY PARK<\/td>\n",
       "        <td>ES<\/td>\n",
       "        <td>67<\/td>\n",
       "        <td>95.60%<\/td>\n",
       "        <td>96.00%<\/td>\n",
       "        <td>50<\/td>\n",
       "        <td>359<\/td>\n",
       "    <\/tr>\n",
       "    <tr>\n",
       "        <td>14<\/td>\n",
       "        <td>ALBANY PARK<\/td>\n",
       "        <td>ES<\/td>\n",
       "        <td>75<\/td>\n",
       "        <td>96.30%<\/td>\n",
       "        <td>94.80%<\/td>\n",
       "        <td>65<\/td>\n",
       "        <td>919<\/td>\n",
       "    <\/tr>\n",
       "    <tr>\n",
       "        <td>14<\/td>\n",
       "        <td>ALBANY PARK<\/td>\n",
       "        <td>ES<\/td>\n",
       "        <td>91<\/td>\n",
       "        <td>96.60%<\/td>\n",
       "        <td>96.30%<\/td>\n",
       "        <td>55<\/td>\n",
       "        <td>269<\/td>\n",
       "    <\/tr>\n",
       "    <tr>\n",
       "        <td>14<\/td>\n",
       "        <td>ALBANY PARK<\/td>\n",
       "        <td>ES<\/td>\n",
       "        <td>None<\/td>\n",
       "        <td>96.50%<\/td>\n",
       "        <td>96.90%<\/td>\n",
       "        <td>49<\/td>\n",
       "        <td>1239<\/td>\n",
       "    <\/tr>\n",
       "    <tr>\n",
       "        <td>57<\/td>\n",
       "        <td>ARCHER HEIGHTS<\/td>\n",
       "        <td>ES<\/td>\n",
       "        <td>48<\/td>\n",
       "        <td>95.30%<\/td>\n",
       "        <td>96.80%<\/td>\n",
       "        <td>49<\/td>\n",
       "        <td>1503<\/td>\n",
       "    <\/tr>\n",
       "    <tr>\n",
       "        <td>34<\/td>\n",
       "        <td>ARMOUR SQUARE<\/td>\n",
       "        <td>ES<\/td>\n",
       "        <td>32<\/td>\n",
       "        <td>98.40%<\/td>\n",
       "        <td>96.20%<\/td>\n",
       "        <td>43<\/td>\n",
       "        <td>664<\/td>\n",
       "    <\/tr>\n",
       "    <tr>\n",
       "        <td>34<\/td>\n",
       "        <td>ARMOUR SQUARE<\/td>\n",
       "        <td>ES<\/td>\n",
       "        <td>49<\/td>\n",
       "        <td>97.80%<\/td>\n",
       "        <td>96.90%<\/td>\n",
       "        <td>48<\/td>\n",
       "        <td>492<\/td>\n",
       "    <\/tr>\n",
       "    <tr>\n",
       "        <td>70<\/td>\n",
       "        <td>ASHBURN<\/td>\n",
       "        <td>ES<\/td>\n",
       "        <td>35<\/td>\n",
       "        <td>94.80%<\/td>\n",
       "        <td>95.60%<\/td>\n",
       "        <td>48<\/td>\n",
       "        <td>537<\/td>\n",
       "    <\/tr>\n",
       "<\/table>"
      ]
     },
     "metadata":{
      
     },
     "output_type":"display_data"
    }
   ],
   "metadata":{
    "datalore":{
     "type":"CODE",
     "hide_input_from_viewers":false,
     "hide_output_from_viewers":false
    }
   }
  },
  {
   "cell_type":"markdown",
   "source":[
    "# **Plotting different relationships between data to figure out correlations** \n",
    "What impacts college enrollments?"
   ],
   "attachments":{
    
   },
   "metadata":{
    "datalore":{
     "type":"MD",
     "hide_input_from_viewers":false,
     "hide_output_from_viewers":false
    }
   }
  },
  {
   "cell_type":"code",
   "source":[
    "CHI_SCHOOL=%sql select COMMUNITY_AREA_NUMBER, COMMUNITY_AREA_NAME,\"Elementary, Middle, or High School\" as SCHOOL_TYPE, SAFETY_SCORE,AVERAGE_STUDENT_ATTENDANCE, AVERAGE_TEACHER_ATTENDANCE, PARENT_ENGAGEMENT_SCORE,sum(COLLEGE_ENROLLMENT) as Total_College_Enrollments from CHI_SCHOOL GrOUP BY \"Elementary, Middle, or High School\",COMMUNITY_AREA_NAME, COMMUNITY_AREA_NUMBER, SAFETY_SCORE\t,AVERAGE_STUDENT_ATTENDANCE, AVERAGE_TEACHER_ATTENDANCE, PARENT_ENGAGEMENT_SCORE order by \"Elementary, Middle, or High School\""
   ],
   "execution_count":160,
   "outputs":[
    {
     "name":"stdout",
     "text":[
      " * ibm_db_sa:\/\/fll09902:***@ea286ace-86c7-4d5b-8580-3fbfa46b1c66.bs2io90l08kqb1od8lcg.databases.appdomain.cloud:31505\/BLUDB\n",
      "Done.\n"
     ],
     "output_type":"stream"
    }
   ],
   "metadata":{
    "datalore":{
     "type":"CODE",
     "hide_input_from_viewers":false,
     "hide_output_from_viewers":false
    }
   }
  },
  {
   "cell_type":"code",
   "source":[
    "CHI_SCHOOL_ANALYSIS=pd.DataFrame(CHI_SCHOOL)"
   ],
   "execution_count":163,
   "outputs":[
    
   ],
   "metadata":{
    "datalore":{
     "type":"CODE",
     "hide_input_from_viewers":false,
     "hide_output_from_viewers":false
    }
   }
  },
  {
   "cell_type":"markdown",
   "source":[
    "**Renaming columns**"
   ],
   "attachments":{
    
   },
   "metadata":{
    "datalore":{
     "type":"MD",
     "hide_input_from_viewers":false,
     "hide_output_from_viewers":false
    }
   }
  },
  {
   "cell_type":"code",
   "source":[
    "CHI_SCHOOL_ANALYSIS.rename(columns={0:'COMMUNITY_AREA_NUMBER',1:'COMMUNITY_AREA_NAME',2:'SCHOOL_TYPE',3:' SAFETY_SCORE',4:'AVERAGE_STUDENT_ATTENDANCE',5:'AVERAGE_TEACHER_ATTENDANCE',6:'PARENT_ENGAGEMENT_SCORE',7:'Total_College_Enrollments'}, inplace=True)"
   ],
   "execution_count":167,
   "outputs":[
    
   ],
   "metadata":{
    "datalore":{
     "type":"CODE",
     "hide_input_from_viewers":false,
     "hide_output_from_viewers":false
    }
   }
  },
  {
   "cell_type":"code",
   "source":[
    "CHI_SCHOOL_ANALYSIS"
   ],
   "execution_count":168,
   "outputs":[
    {
     "data":{
      "text\/html":[
       "<div>\n",
       "<style scoped>\n",
       "    .dataframe tbody tr th:only-of-type {\n",
       "        vertical-align: middle;\n",
       "    }\n",
       "\n",
       "    .dataframe tbody tr th {\n",
       "        vertical-align: top;\n",
       "    }\n",
       "\n",
       "    .dataframe thead th {\n",
       "        text-align: right;\n",
       "    }\n",
       "<\/style>\n",
       "<table border=\"1\" class=\"dataframe\">\n",
       "  <thead>\n",
       "    <tr style=\"text-align: right;\">\n",
       "      <th><\/th>\n",
       "      <th>COMMUNITY_AREA_NUMBER<\/th>\n",
       "      <th>COMMUNITY_AREA_NAME<\/th>\n",
       "      <th>SCHOOL_TYPE<\/th>\n",
       "      <th>SAFETY_SCORE<\/th>\n",
       "      <th>AVERAGE_STUDENT_ATTENDANCE<\/th>\n",
       "      <th>AVERAGE_TEACHER_ATTENDANCE<\/th>\n",
       "      <th>PARENT_ENGAGEMENT_SCORE<\/th>\n",
       "      <th>Total_College_Enrollments<\/th>\n",
       "    <\/tr>\n",
       "  <\/thead>\n",
       "  <tbody>\n",
       "    <tr>\n",
       "      <th>0<\/th>\n",
       "      <td>14<\/td>\n",
       "      <td>ALBANY PARK<\/td>\n",
       "      <td>ES<\/td>\n",
       "      <td>43.0<\/td>\n",
       "      <td>96.20%<\/td>\n",
       "      <td>94.60%<\/td>\n",
       "      <td>46<\/td>\n",
       "      <td>1299<\/td>\n",
       "    <\/tr>\n",
       "    <tr>\n",
       "      <th>1<\/th>\n",
       "      <td>14<\/td>\n",
       "      <td>ALBANY PARK<\/td>\n",
       "      <td>ES<\/td>\n",
       "      <td>43.0<\/td>\n",
       "      <td>96.40%<\/td>\n",
       "      <td>95.90%<\/td>\n",
       "      <td>51<\/td>\n",
       "      <td>1023<\/td>\n",
       "    <\/tr>\n",
       "    <tr>\n",
       "      <th>2<\/th>\n",
       "      <td>14<\/td>\n",
       "      <td>ALBANY PARK<\/td>\n",
       "      <td>ES<\/td>\n",
       "      <td>67.0<\/td>\n",
       "      <td>95.60%<\/td>\n",
       "      <td>96.00%<\/td>\n",
       "      <td>50<\/td>\n",
       "      <td>359<\/td>\n",
       "    <\/tr>\n",
       "    <tr>\n",
       "      <th>3<\/th>\n",
       "      <td>14<\/td>\n",
       "      <td>ALBANY PARK<\/td>\n",
       "      <td>ES<\/td>\n",
       "      <td>75.0<\/td>\n",
       "      <td>96.30%<\/td>\n",
       "      <td>94.80%<\/td>\n",
       "      <td>65<\/td>\n",
       "      <td>919<\/td>\n",
       "    <\/tr>\n",
       "    <tr>\n",
       "      <th>4<\/th>\n",
       "      <td>14<\/td>\n",
       "      <td>ALBANY PARK<\/td>\n",
       "      <td>ES<\/td>\n",
       "      <td>91.0<\/td>\n",
       "      <td>96.60%<\/td>\n",
       "      <td>96.30%<\/td>\n",
       "      <td>55<\/td>\n",
       "      <td>269<\/td>\n",
       "    <\/tr>\n",
       "    <tr>\n",
       "      <th>...<\/th>\n",
       "      <td>...<\/td>\n",
       "      <td>...<\/td>\n",
       "      <td>...<\/td>\n",
       "      <td>...<\/td>\n",
       "      <td>...<\/td>\n",
       "      <td>...<\/td>\n",
       "      <td>...<\/td>\n",
       "      <td>...<\/td>\n",
       "    <\/tr>\n",
       "    <tr>\n",
       "      <th>561<\/th>\n",
       "      <td>16<\/td>\n",
       "      <td>IRVING PARK<\/td>\n",
       "      <td>MS<\/td>\n",
       "      <td>39.0<\/td>\n",
       "      <td>94.00%<\/td>\n",
       "      <td>96.00%<\/td>\n",
       "      <td>NDA<\/td>\n",
       "      <td>435<\/td>\n",
       "    <\/tr>\n",
       "    <tr>\n",
       "      <th>562<\/th>\n",
       "      <td>39<\/td>\n",
       "      <td>KENWOOD<\/td>\n",
       "      <td>MS<\/td>\n",
       "      <td>57.0<\/td>\n",
       "      <td>91.40%<\/td>\n",
       "      <td>95.70%<\/td>\n",
       "      <td>NDA<\/td>\n",
       "      <td>222<\/td>\n",
       "    <\/tr>\n",
       "    <tr>\n",
       "      <th>563<\/th>\n",
       "      <td>22<\/td>\n",
       "      <td>LOGAN SQUARE<\/td>\n",
       "      <td>MS<\/td>\n",
       "      <td>38.0<\/td>\n",
       "      <td>94.30%<\/td>\n",
       "      <td>96.00%<\/td>\n",
       "      <td>50<\/td>\n",
       "      <td>586<\/td>\n",
       "    <\/tr>\n",
       "    <tr>\n",
       "      <th>564<\/th>\n",
       "      <td>59<\/td>\n",
       "      <td>MCKINLEY PARK<\/td>\n",
       "      <td>MS<\/td>\n",
       "      <td>60.0<\/td>\n",
       "      <td>96.10%<\/td>\n",
       "      <td>97.40%<\/td>\n",
       "      <td>43<\/td>\n",
       "      <td>389<\/td>\n",
       "    <\/tr>\n",
       "    <tr>\n",
       "      <th>565<\/th>\n",
       "      <td>30<\/td>\n",
       "      <td>SOUTH LAWNDALE<\/td>\n",
       "      <td>MS<\/td>\n",
       "      <td>49.0<\/td>\n",
       "      <td>95.10%<\/td>\n",
       "      <td>97.00%<\/td>\n",
       "      <td>47<\/td>\n",
       "      <td>314<\/td>\n",
       "    <\/tr>\n",
       "  <\/tbody>\n",
       "<\/table>\n",
       "<p>566 rows × 8 columns<\/p>\n",
       "<\/div>"
      ]
     },
     "metadata":{
      
     },
     "output_type":"display_data"
    }
   ],
   "metadata":{
    "datalore":{
     "type":"CODE",
     "hide_input_from_viewers":false,
     "hide_output_from_viewers":false
    }
   }
  },
  {
   "cell_type":"markdown",
   "source":[
    "**Finding Relationship between Average student attendance, Parent Engagement and Total College Enrollments**"
   ],
   "attachments":{
    
   },
   "metadata":{
    "datalore":{
     "type":"MD",
     "hide_input_from_viewers":false,
     "hide_output_from_viewers":false
    }
   }
  },
  {
   "cell_type":"code",
   "source":[
    "sns.scatterplot(x = \"PARENT_ENGAGEMENT_SCORE\", y = \"Total_College_Enrollments\", data = CHI_SCHOOL_ANALYSIS)\n"
   ],
   "execution_count":171,
   "outputs":[
    {
     "data":{
      "text\/plain":[
       "<AxesSubplot:xlabel='PARENT_ENGAGEMENT_SCORE', ylabel='Total_College_Enrollments'>"
      ],
      "image\/png":"[encoded data removed]"
     },
     "metadata":{
      "image\/png":{
       
      }
     },
     "output_type":"display_data"
    }
   ],
   "metadata":{
    "datalore":{
     "type":"CODE",
     "hide_input_from_viewers":false,
     "hide_output_from_viewers":false
    }
   }
  },
  {
   "cell_type":"code",
   "source":[
    "sns.scatterplot(x = \"AVERAGE_STUDENT_ATTENDANCE\", y = \"Total_College_Enrollments\", data = CHI_SCHOOL_ANALYSIS)"
   ],
   "execution_count":0,
   "outputs":[
    
   ],
   "metadata":{
    "datalore":{
     "type":"CODE",
     "hide_input_from_viewers":false,
     "hide_output_from_viewers":false
    }
   }
  },
  {
   "cell_type":"markdown",
   "source":[
    "**From the above graphs it is clear that neither parent engagement nor studnt attendence affects college enrollments, so let's examine the census data to analyze the socio economi status for students and how it affect their college enrollments**"
   ],
   "attachments":{
    
   },
   "metadata":{
    "datalore":{
     "type":"MD",
     "hide_input_from_viewers":false,
     "hide_output_from_viewers":false
    }
   }
  },
  {
   "cell_type":"code",
   "source":[
    "%%sql select cen.COMMUNITY_AREA_NUMBER, cen.COMMUNITY_AREA_NAME,cen.PERCENT_OF_HOUSING_CROWDED,cen.PERCENT_HOUSEHOLDS_BELOW_POVERTY,\n",
    "cen.PERCENT_AGED_16__UNEMPLOYED,cen.PERCENT_AGED_25__WITHOUT_HIGH_SCHOOL_DIPLOMA,cen.PER_CAPITA_INCOME,cen.HARDSHIP_INDEX ,\n",
    "sum(COLLEGE_ENROLLMENT) as Total_College_Enrollments \n",
    "from chi_census as cen inner join chi_school as sc on cen.community_area_number=sc.community_area_number\n",
    "group by cen.COMMUNITY_AREA_NUMBER, cen.COMMUNITY_AREA_NAME,cen.PERCENT_OF_HOUSING_CROWDED,cen.PERCENT_HOUSEHOLDS_BELOW_POVERTY,\n",
    "cen.PERCENT_AGED_16__UNEMPLOYED,cen.PERCENT_AGED_25__WITHOUT_HIGH_SCHOOL_DIPLOMA,cen.PER_CAPITA_INCOME,cen.HARDSHIP_INDEX\n",
    "limit 10"
   ],
   "execution_count":174,
   "outputs":[
    {
     "name":"stdout",
     "text":[
      " * ibm_db_sa:\/\/fll09902:***@ea286ace-86c7-4d5b-8580-3fbfa46b1c66.bs2io90l08kqb1od8lcg.databases.appdomain.cloud:31505\/BLUDB\n",
      "Done.\n"
     ],
     "output_type":"stream"
    },
    {
     "data":{
      "text\/html":[
       "<table>\n",
       "    <tr>\n",
       "        <th>community_area_number<\/th>\n",
       "        <th>community_area_name<\/th>\n",
       "        <th>percent_of_housing_crowded<\/th>\n",
       "        <th>percent_households_below_poverty<\/th>\n",
       "        <th>percent_aged_16__unemployed<\/th>\n",
       "        <th>percent_aged_25__without_high_school_diploma<\/th>\n",
       "        <th>per_capita_income<\/th>\n",
       "        <th>hardship_index<\/th>\n",
       "        <th>total_college_enrollments<\/th>\n",
       "    <\/tr>\n",
       "    <tr>\n",
       "        <td>1<\/td>\n",
       "        <td>Rogers Park<\/td>\n",
       "        <td>7.7<\/td>\n",
       "        <td>23.6<\/td>\n",
       "        <td>8.7<\/td>\n",
       "        <td>18.2<\/td>\n",
       "        <td>23939<\/td>\n",
       "        <td>39<\/td>\n",
       "        <td>4068<\/td>\n",
       "    <\/tr>\n",
       "    <tr>\n",
       "        <td>2<\/td>\n",
       "        <td>West Ridge<\/td>\n",
       "        <td>7.8<\/td>\n",
       "        <td>17.2<\/td>\n",
       "        <td>8.8<\/td>\n",
       "        <td>20.8<\/td>\n",
       "        <td>23040<\/td>\n",
       "        <td>46<\/td>\n",
       "        <td>8197<\/td>\n",
       "    <\/tr>\n",
       "    <tr>\n",
       "        <td>3<\/td>\n",
       "        <td>Uptown<\/td>\n",
       "        <td>3.8<\/td>\n",
       "        <td>24.0<\/td>\n",
       "        <td>8.9<\/td>\n",
       "        <td>11.8<\/td>\n",
       "        <td>35787<\/td>\n",
       "        <td>20<\/td>\n",
       "        <td>4388<\/td>\n",
       "    <\/tr>\n",
       "    <tr>\n",
       "        <td>4<\/td>\n",
       "        <td>Lincoln Square<\/td>\n",
       "        <td>3.4<\/td>\n",
       "        <td>10.9<\/td>\n",
       "        <td>8.2<\/td>\n",
       "        <td>13.4<\/td>\n",
       "        <td>37524<\/td>\n",
       "        <td>17<\/td>\n",
       "        <td>4132<\/td>\n",
       "    <\/tr>\n",
       "    <tr>\n",
       "        <td>5<\/td>\n",
       "        <td>North Center<\/td>\n",
       "        <td>0.3<\/td>\n",
       "        <td>7.5<\/td>\n",
       "        <td>5.2<\/td>\n",
       "        <td>4.5<\/td>\n",
       "        <td>57123<\/td>\n",
       "        <td>6<\/td>\n",
       "        <td>7541<\/td>\n",
       "    <\/tr>\n",
       "    <tr>\n",
       "        <td>6<\/td>\n",
       "        <td>Lake View<\/td>\n",
       "        <td>1.1<\/td>\n",
       "        <td>11.4<\/td>\n",
       "        <td>4.7<\/td>\n",
       "        <td>2.6<\/td>\n",
       "        <td>60058<\/td>\n",
       "        <td>5<\/td>\n",
       "        <td>7055<\/td>\n",
       "    <\/tr>\n",
       "    <tr>\n",
       "        <td>7<\/td>\n",
       "        <td>Lincoln Park<\/td>\n",
       "        <td>0.8<\/td>\n",
       "        <td>12.3<\/td>\n",
       "        <td>5.1<\/td>\n",
       "        <td>3.6<\/td>\n",
       "        <td>71551<\/td>\n",
       "        <td>2<\/td>\n",
       "        <td>5615<\/td>\n",
       "    <\/tr>\n",
       "    <tr>\n",
       "        <td>8<\/td>\n",
       "        <td>Near North Side<\/td>\n",
       "        <td>1.9<\/td>\n",
       "        <td>12.9<\/td>\n",
       "        <td>7.0<\/td>\n",
       "        <td>2.5<\/td>\n",
       "        <td>88669<\/td>\n",
       "        <td>1<\/td>\n",
       "        <td>3362<\/td>\n",
       "    <\/tr>\n",
       "    <tr>\n",
       "        <td>9<\/td>\n",
       "        <td>Edison Park<\/td>\n",
       "        <td>1.1<\/td>\n",
       "        <td>3.3<\/td>\n",
       "        <td>6.5<\/td>\n",
       "        <td>7.4<\/td>\n",
       "        <td>40959<\/td>\n",
       "        <td>8<\/td>\n",
       "        <td>910<\/td>\n",
       "    <\/tr>\n",
       "    <tr>\n",
       "        <td>10<\/td>\n",
       "        <td>Norwood Park<\/td>\n",
       "        <td>2.0<\/td>\n",
       "        <td>5.4<\/td>\n",
       "        <td>9.0<\/td>\n",
       "        <td>11.5<\/td>\n",
       "        <td>32875<\/td>\n",
       "        <td>21<\/td>\n",
       "        <td>6469<\/td>\n",
       "    <\/tr>\n",
       "<\/table>"
      ]
     },
     "metadata":{
      
     },
     "output_type":"display_data"
    }
   ],
   "metadata":{
    "datalore":{
     "type":"CODE",
     "hide_input_from_viewers":false,
     "hide_output_from_viewers":false
    }
   }
  },
  {
   "cell_type":"code",
   "source":[
    "CHI_CENSUS=%sql select cen.COMMUNITY_AREA_NUMBER, cen.COMMUNITY_AREA_NAME,cen.PERCENT_OF_HOUSING_CROWDED,cen.PERCENT_HOUSEHOLDS_BELOW_POVERTY,cen.PERCENT_AGED_16__UNEMPLOYED,cen.PERCENT_AGED_25__WITHOUT_HIGH_SCHOOL_DIPLOMA,cen.PER_CAPITA_INCOME,cen.HARDSHIP_INDEX ,sum(COLLEGE_ENROLLMENT) as Total_College_Enrollments from chi_census as cen inner join chi_school as sc on cen.community_area_number=sc.community_area_number group by cen.COMMUNITY_AREA_NUMBER, cen.COMMUNITY_AREA_NAME,cen.PERCENT_OF_HOUSING_CROWDED,cen.PERCENT_HOUSEHOLDS_BELOW_POVERTY,cen.PERCENT_AGED_16__UNEMPLOYED,cen.PERCENT_AGED_25__WITHOUT_HIGH_SCHOOL_DIPLOMA,cen.PER_CAPITA_INCOME,cen.HARDSHIP_INDEX"
   ],
   "execution_count":28,
   "outputs":[
    {
     "name":"stdout",
     "text":[
      " * ibm_db_sa:\/\/fll09902:***@ea286ace-86c7-4d5b-8580-3fbfa46b1c66.bs2io90l08kqb1od8lcg.databases.appdomain.cloud:31505\/BLUDB\n",
      "Done.\n"
     ],
     "output_type":"stream"
    }
   ],
   "metadata":{
    "datalore":{
     "type":"CODE",
     "hide_input_from_viewers":false,
     "hide_output_from_viewers":false
    }
   }
  },
  {
   "cell_type":"code",
   "source":[
    "CHI_CENSUS_ANALYSIS=pd.DataFrame(CHI_CENSUS)"
   ],
   "execution_count":29,
   "outputs":[
    
   ],
   "metadata":{
    "datalore":{
     "type":"CODE",
     "hide_input_from_viewers":false,
     "hide_output_from_viewers":false
    }
   }
  },
  {
   "cell_type":"code",
   "source":[
    "CHI_CENSUS_ANALYSIS.head()"
   ],
   "execution_count":30,
   "outputs":[
    {
     "data":{
      "text\/html":[
       "<div>\n",
       "<style scoped>\n",
       "    .dataframe tbody tr th:only-of-type {\n",
       "        vertical-align: middle;\n",
       "    }\n",
       "\n",
       "    .dataframe tbody tr th {\n",
       "        vertical-align: top;\n",
       "    }\n",
       "\n",
       "    .dataframe thead th {\n",
       "        text-align: right;\n",
       "    }\n",
       "<\/style>\n",
       "<table border=\"1\" class=\"dataframe\">\n",
       "  <thead>\n",
       "    <tr style=\"text-align: right;\">\n",
       "      <th><\/th>\n",
       "      <th>0<\/th>\n",
       "      <th>1<\/th>\n",
       "      <th>2<\/th>\n",
       "      <th>3<\/th>\n",
       "      <th>4<\/th>\n",
       "      <th>5<\/th>\n",
       "      <th>6<\/th>\n",
       "      <th>7<\/th>\n",
       "      <th>8<\/th>\n",
       "    <\/tr>\n",
       "  <\/thead>\n",
       "  <tbody>\n",
       "    <tr>\n",
       "      <th>0<\/th>\n",
       "      <td>1<\/td>\n",
       "      <td>Rogers Park<\/td>\n",
       "      <td>7.7<\/td>\n",
       "      <td>23.6<\/td>\n",
       "      <td>8.7<\/td>\n",
       "      <td>18.2<\/td>\n",
       "      <td>23939<\/td>\n",
       "      <td>39<\/td>\n",
       "      <td>4068<\/td>\n",
       "    <\/tr>\n",
       "    <tr>\n",
       "      <th>1<\/th>\n",
       "      <td>2<\/td>\n",
       "      <td>West Ridge<\/td>\n",
       "      <td>7.8<\/td>\n",
       "      <td>17.2<\/td>\n",
       "      <td>8.8<\/td>\n",
       "      <td>20.8<\/td>\n",
       "      <td>23040<\/td>\n",
       "      <td>46<\/td>\n",
       "      <td>8197<\/td>\n",
       "    <\/tr>\n",
       "    <tr>\n",
       "      <th>2<\/th>\n",
       "      <td>3<\/td>\n",
       "      <td>Uptown<\/td>\n",
       "      <td>3.8<\/td>\n",
       "      <td>24.0<\/td>\n",
       "      <td>8.9<\/td>\n",
       "      <td>11.8<\/td>\n",
       "      <td>35787<\/td>\n",
       "      <td>20<\/td>\n",
       "      <td>4388<\/td>\n",
       "    <\/tr>\n",
       "    <tr>\n",
       "      <th>3<\/th>\n",
       "      <td>4<\/td>\n",
       "      <td>Lincoln Square<\/td>\n",
       "      <td>3.4<\/td>\n",
       "      <td>10.9<\/td>\n",
       "      <td>8.2<\/td>\n",
       "      <td>13.4<\/td>\n",
       "      <td>37524<\/td>\n",
       "      <td>17<\/td>\n",
       "      <td>4132<\/td>\n",
       "    <\/tr>\n",
       "    <tr>\n",
       "      <th>4<\/th>\n",
       "      <td>5<\/td>\n",
       "      <td>North Center<\/td>\n",
       "      <td>0.3<\/td>\n",
       "      <td>7.5<\/td>\n",
       "      <td>5.2<\/td>\n",
       "      <td>4.5<\/td>\n",
       "      <td>57123<\/td>\n",
       "      <td>6<\/td>\n",
       "      <td>7541<\/td>\n",
       "    <\/tr>\n",
       "  <\/tbody>\n",
       "<\/table>\n",
       "<\/div>"
      ]
     },
     "metadata":{
      
     },
     "output_type":"display_data"
    }
   ],
   "metadata":{
    "datalore":{
     "type":"CODE",
     "hide_input_from_viewers":false,
     "hide_output_from_viewers":false
    }
   }
  },
  {
   "cell_type":"code",
   "source":[
    "CHI_CENSUS_ANALYSIS.rename(columns={0:'COMMUNITY_AREA_NUMBER',1:'COMMUNITY_AREA_NAME',2:'PERCENT_OF_HOUSING_CROWDED',3:'PERCENT_HOUSEHOLDS_BELOW_POVERTY',4:'PERCENT_AGED_16_UNEMPLOYED',5:'PERCENT_AGED_25_WITHOUT_HIGH_SCHOOL_DIPLOMA',6:'PER_CAPITA_INCOME',7:'HARDSHIP_INDEX', 8:'Total_College_Enrollments'}, inplace=True)"
   ],
   "execution_count":31,
   "outputs":[
    
   ],
   "metadata":{
    "datalore":{
     "type":"CODE",
     "hide_input_from_viewers":false,
     "hide_output_from_viewers":false
    }
   }
  },
  {
   "cell_type":"code",
   "source":[
    "CHI_CENSUS_ANALYSIS"
   ],
   "execution_count":32,
   "outputs":[
    {
     "data":{
      "text\/html":[
       "<div>\n",
       "<style scoped>\n",
       "    .dataframe tbody tr th:only-of-type {\n",
       "        vertical-align: middle;\n",
       "    }\n",
       "\n",
       "    .dataframe tbody tr th {\n",
       "        vertical-align: top;\n",
       "    }\n",
       "\n",
       "    .dataframe thead th {\n",
       "        text-align: right;\n",
       "    }\n",
       "<\/style>\n",
       "<table border=\"1\" class=\"dataframe\">\n",
       "  <thead>\n",
       "    <tr style=\"text-align: right;\">\n",
       "      <th><\/th>\n",
       "      <th>COMMUNITY_AREA_NUMBER<\/th>\n",
       "      <th>COMMUNITY_AREA_NAME<\/th>\n",
       "      <th>PERCENT_OF_HOUSING_CROWDED<\/th>\n",
       "      <th>PERCENT_HOUSEHOLDS_BELOW_POVERTY<\/th>\n",
       "      <th>PERCENT_AGED_16_UNEMPLOYED<\/th>\n",
       "      <th>PERCENT_AGED_25_WITHOUT_HIGH_SCHOOL_DIPLOMA<\/th>\n",
       "      <th>PER_CAPITA_INCOME<\/th>\n",
       "      <th>HARDSHIP_INDEX<\/th>\n",
       "      <th>Total_College_Enrollments<\/th>\n",
       "    <\/tr>\n",
       "  <\/thead>\n",
       "  <tbody>\n",
       "    <tr>\n",
       "      <th>0<\/th>\n",
       "      <td>1<\/td>\n",
       "      <td>Rogers Park<\/td>\n",
       "      <td>7.7<\/td>\n",
       "      <td>23.6<\/td>\n",
       "      <td>8.7<\/td>\n",
       "      <td>18.2<\/td>\n",
       "      <td>23939<\/td>\n",
       "      <td>39<\/td>\n",
       "      <td>4068<\/td>\n",
       "    <\/tr>\n",
       "    <tr>\n",
       "      <th>1<\/th>\n",
       "      <td>2<\/td>\n",
       "      <td>West Ridge<\/td>\n",
       "      <td>7.8<\/td>\n",
       "      <td>17.2<\/td>\n",
       "      <td>8.8<\/td>\n",
       "      <td>20.8<\/td>\n",
       "      <td>23040<\/td>\n",
       "      <td>46<\/td>\n",
       "      <td>8197<\/td>\n",
       "    <\/tr>\n",
       "    <tr>\n",
       "      <th>2<\/th>\n",
       "      <td>3<\/td>\n",
       "      <td>Uptown<\/td>\n",
       "      <td>3.8<\/td>\n",
       "      <td>24.0<\/td>\n",
       "      <td>8.9<\/td>\n",
       "      <td>11.8<\/td>\n",
       "      <td>35787<\/td>\n",
       "      <td>20<\/td>\n",
       "      <td>4388<\/td>\n",
       "    <\/tr>\n",
       "    <tr>\n",
       "      <th>3<\/th>\n",
       "      <td>4<\/td>\n",
       "      <td>Lincoln Square<\/td>\n",
       "      <td>3.4<\/td>\n",
       "      <td>10.9<\/td>\n",
       "      <td>8.2<\/td>\n",
       "      <td>13.4<\/td>\n",
       "      <td>37524<\/td>\n",
       "      <td>17<\/td>\n",
       "      <td>4132<\/td>\n",
       "    <\/tr>\n",
       "    <tr>\n",
       "      <th>4<\/th>\n",
       "      <td>5<\/td>\n",
       "      <td>North Center<\/td>\n",
       "      <td>0.3<\/td>\n",
       "      <td>7.5<\/td>\n",
       "      <td>5.2<\/td>\n",
       "      <td>4.5<\/td>\n",
       "      <td>57123<\/td>\n",
       "      <td>6<\/td>\n",
       "      <td>7541<\/td>\n",
       "    <\/tr>\n",
       "    <tr>\n",
       "      <th>...<\/th>\n",
       "      <td>...<\/td>\n",
       "      <td>...<\/td>\n",
       "      <td>...<\/td>\n",
       "      <td>...<\/td>\n",
       "      <td>...<\/td>\n",
       "      <td>...<\/td>\n",
       "      <td>...<\/td>\n",
       "      <td>...<\/td>\n",
       "      <td>...<\/td>\n",
       "    <\/tr>\n",
       "    <tr>\n",
       "      <th>72<\/th>\n",
       "      <td>73<\/td>\n",
       "      <td>Washington Height<\/td>\n",
       "      <td>1.1<\/td>\n",
       "      <td>16.9<\/td>\n",
       "      <td>20.8<\/td>\n",
       "      <td>13.7<\/td>\n",
       "      <td>19713<\/td>\n",
       "      <td>48<\/td>\n",
       "      <td>4006<\/td>\n",
       "    <\/tr>\n",
       "    <tr>\n",
       "      <th>73<\/th>\n",
       "      <td>74<\/td>\n",
       "      <td>Mount Greenwood<\/td>\n",
       "      <td>1.0<\/td>\n",
       "      <td>3.4<\/td>\n",
       "      <td>8.7<\/td>\n",
       "      <td>4.3<\/td>\n",
       "      <td>34381<\/td>\n",
       "      <td>16<\/td>\n",
       "      <td>2091<\/td>\n",
       "    <\/tr>\n",
       "    <tr>\n",
       "      <th>74<\/th>\n",
       "      <td>75<\/td>\n",
       "      <td>Morgan Park<\/td>\n",
       "      <td>0.8<\/td>\n",
       "      <td>13.2<\/td>\n",
       "      <td>15.0<\/td>\n",
       "      <td>10.8<\/td>\n",
       "      <td>27149<\/td>\n",
       "      <td>30<\/td>\n",
       "      <td>3271<\/td>\n",
       "    <\/tr>\n",
       "    <tr>\n",
       "      <th>75<\/th>\n",
       "      <td>76<\/td>\n",
       "      <td>O'Hare<\/td>\n",
       "      <td>3.6<\/td>\n",
       "      <td>15.4<\/td>\n",
       "      <td>7.1<\/td>\n",
       "      <td>10.9<\/td>\n",
       "      <td>25828<\/td>\n",
       "      <td>24<\/td>\n",
       "      <td>786<\/td>\n",
       "    <\/tr>\n",
       "    <tr>\n",
       "      <th>76<\/th>\n",
       "      <td>77<\/td>\n",
       "      <td>Edgewater<\/td>\n",
       "      <td>4.1<\/td>\n",
       "      <td>18.2<\/td>\n",
       "      <td>9.2<\/td>\n",
       "      <td>9.7<\/td>\n",
       "      <td>33385<\/td>\n",
       "      <td>19<\/td>\n",
       "      <td>4600<\/td>\n",
       "    <\/tr>\n",
       "  <\/tbody>\n",
       "<\/table>\n",
       "<p>77 rows × 9 columns<\/p>\n",
       "<\/div>"
      ]
     },
     "metadata":{
      
     },
     "output_type":"display_data"
    }
   ],
   "metadata":{
    "datalore":{
     "type":"CODE",
     "hide_input_from_viewers":false,
     "hide_output_from_viewers":false
    }
   }
  },
  {
   "cell_type":"markdown",
   "source":[
    "# **Plotting different relationships between data to figure out correlations**"
   ],
   "attachments":{
    
   },
   "metadata":{
    "datalore":{
     "type":"MD",
     "hide_input_from_viewers":false,
     "hide_output_from_viewers":false
    }
   }
  },
  {
   "cell_type":"code",
   "source":[
    "ax = sns.scatterplot(x = \"PERCENT_OF_HOUSING_CROWDED\", y = \"Total_College_Enrollments\", data = CHI_CENSUS_ANALYSIS )\n",
    " \n",
    "ax.set(xlabel = \"PERCENT_OF_HOUSING_CROWDED\",\n",
    "      ylabel = \"Total_College_Enrollments\",\n",
    "      title = \"HOUSE CROWDED VS COLLEGE ENROLLMENTS\")"
   ],
   "execution_count":182,
   "outputs":[
    {
     "data":{
      "text\/plain":[
       "[Text(0.5, 0, 'PERCENT_OF_HOUSING_CROWDED'),\n",
       " Text(0, 0.5, 'Total_College_Enrollments'),\n",
       " Text(0.5, 1.0, 'HOUSE CROWDED VS COLLEGE ENROLLMENTS')]"
      ],
      "image\/png":"[encoded data removed]"
     },
     "metadata":{
      "image\/png":{
       
      }
     },
     "output_type":"display_data"
    }
   ],
   "metadata":{
    "datalore":{
     "type":"CODE",
     "hide_input_from_viewers":false,
     "hide_output_from_viewers":false
    }
   }
  },
  {
   "cell_type":"code",
   "source":[
    "ax = sns.scatterplot(x = \"PERCENT_HOUSEHOLDS_BELOW_POVERTY\", y = \"Total_College_Enrollments\", data = CHI_CENSUS_ANALYSIS )\n",
    " \n",
    "ax.set(xlabel = \"PERCENT_HOUSEHOLDS_BELOW_POVERTY\",\n",
    "      ylabel = \"Total_College_Enrollments\",\n",
    "      title = \"Poverty Rate VS COLLEGE ENROLLMENTS\")"
   ],
   "execution_count":33,
   "outputs":[
    {
     "data":{
      "text\/plain":[
       "[Text(0.5, 0, 'PERCENT_HOUSEHOLDS_BELOW_POVERTY'),\n",
       " Text(0, 0.5, 'Total_College_Enrollments'),\n",
       " Text(0.5, 1.0, 'Poverty Rate VS COLLEGE ENROLLMENTS')]"
      ],
      "image\/png":"[encoded data removed]"
     },
     "metadata":{
      "image\/png":{
       
      }
     },
     "output_type":"display_data"
    }
   ],
   "metadata":{
    "datalore":{
     "type":"CODE",
     "hide_input_from_viewers":false,
     "hide_output_from_viewers":false
    }
   }
  },
  {
   "cell_type":"code",
   "source":[
    "sns.scatterplot(x = \"PERCENT_OF_HOUSING_CROWDED\", y = \"Total_College_Enrollments\", data = CHI_CENSUS_ANALYSIS)"
   ],
   "execution_count":0,
   "outputs":[
    
   ],
   "metadata":{
    "datalore":{
     "type":"CODE",
     "hide_input_from_viewers":false,
     "hide_output_from_viewers":false
    }
   }
  },
  {
   "cell_type":"code",
   "source":[
    "ax = sns.scatterplot(x = \"PER_CAPITA_INCOME\", y = \"Total_College_Enrollments\", data = CHI_CENSUS_ANALYSIS )\n",
    " \n",
    "ax.set(xlabel = \"PER_CAPITA_INCOME\",\n",
    "      ylabel = \"Total_College_Enrollments\",\n",
    "      title = \"Per Capita Income VS COLLEGE ENROLLMENTS\")"
   ],
   "execution_count":187,
   "outputs":[
    {
     "data":{
      "text\/plain":[
       "[Text(0.5, 0, 'PER_CAPITA_INCOME'),\n",
       " Text(0, 0.5, 'Total_College_Enrollments'),\n",
       " Text(0.5, 1.0, 'Per Capita Income VS COLLEGE ENROLLMENTS')]"
      ],
      "image\/png":"[encoded data removed]"
     },
     "metadata":{
      "image\/png":{
       
      }
     },
     "output_type":"display_data"
    }
   ],
   "metadata":{
    "datalore":{
     "type":"CODE",
     "hide_input_from_viewers":false,
     "hide_output_from_viewers":false
    }
   }
  },
  {
   "cell_type":"code",
   "source":[
    "ax = sns.scatterplot(x = \"PER_CAPITA_INCOME\", y = \"PERCENT_OF_HOUSING_CROWDED\", data = CHI_CENSUS_ANALYSIS )\n",
    " \n",
    "ax.set(xlabel = \"PER_CAPITA_INCOME\",\n",
    "      ylabel = \"PERCENT_OF_HOUSING_CROWDED\",\n",
    "      title = \"HOUSE CROWDED VS PER CAPITA INCOME\")"
   ],
   "execution_count":188,
   "outputs":[
    {
     "data":{
      "text\/plain":[
       "[Text(0.5, 0, 'PER_CAPITA_INCOME'),\n",
       " Text(0, 0.5, 'PERCENT_OF_HOUSING_CROWDED'),\n",
       " Text(0.5, 1.0, 'HOUSE CROWDED VS PER CAPITA INCOME')]"
      ],
      "image\/png":"[encoded data removed]"
     },
     "metadata":{
      "image\/png":{
       
      }
     },
     "output_type":"display_data"
    }
   ],
   "metadata":{
    "datalore":{
     "type":"CODE",
     "hide_input_from_viewers":false,
     "hide_output_from_viewers":false
    }
   }
  },
  {
   "cell_type":"code",
   "source":[
    "ax = sns.scatterplot(x = \"PER_CAPITA_INCOME\", y = \"PERCENT_AGED_16_UNEMPLOYED\", data = CHI_CENSUS_ANALYSIS )\n",
    " \n",
    "ax.set(xlabel = \"PER_CAPITA_INCOME\",\n",
    "      ylabel = \"PERCENT_AGED_16_UNEMPLOYED\",\n",
    "      title = \"16 un_employed VS PER CAPITA INCOME\")"
   ],
   "execution_count":189,
   "outputs":[
    {
     "data":{
      "text\/plain":[
       "[Text(0.5, 0, 'PER_CAPITA_INCOME'),\n",
       " Text(0, 0.5, 'PERCENT_AGED_16_UNEMPLOYED'),\n",
       " Text(0.5, 1.0, '16 un_employed VS PER CAPITA INCOME')]"
      ],
      "image\/png":"[encoded data removed]"
     },
     "metadata":{
      "image\/png":{
       
      }
     },
     "output_type":"display_data"
    }
   ],
   "metadata":{
    "datalore":{
     "type":"CODE",
     "hide_input_from_viewers":false,
     "hide_output_from_viewers":false
    }
   }
  },
  {
   "cell_type":"code",
   "source":[
    "ax = sns.scatterplot(x = \"PER_CAPITA_INCOME\", y = \"HARDSHIP_INDEX\", data = CHI_CENSUS_ANALYSIS )\n",
    " \n",
    "ax.set(xlabel = \"PER_CAPITA_INCOME\",\n",
    "      ylabel = \"HARDSHIP_INDEX\",\n",
    "      title = \"Per Capita Income VS hardship index\")"
   ],
   "execution_count":192,
   "outputs":[
    {
     "data":{
      "text\/plain":[
       "[Text(0.5, 0, 'PER_CAPITA_INCOME'),\n",
       " Text(0, 0.5, 'HARDSHIP_INDEX'),\n",
       " Text(0.5, 1.0, 'Per Capita Income VS hardship index')]"
      ],
      "image\/png":"[encoded data removed]"
     },
     "metadata":{
      "image\/png":{
       
      }
     },
     "output_type":"display_data"
    }
   ],
   "metadata":{
    "datalore":{
     "type":"CODE",
     "hide_input_from_viewers":false,
     "hide_output_from_viewers":false
    }
   }
  },
  {
   "cell_type":"code",
   "source":[
    "ax = sns.scatterplot(x = \"Total_College_Enrollments\", y = \"HARDSHIP_INDEX\", data = CHI_CENSUS_ANALYSIS )\n",
    " \n",
    "ax.set(xlabel = \"Total_College_Enrollments\",\n",
    "      ylabel = \"HARDSHIP_INDEX\",\n",
    "      title = \"College enrollments VS hardship index\")"
   ],
   "execution_count":193,
   "outputs":[
    {
     "data":{
      "text\/plain":[
       "[Text(0.5, 0, 'Total_College_Enrollments'),\n",
       " Text(0, 0.5, 'HARDSHIP_INDEX'),\n",
       " Text(0.5, 1.0, 'College enrollments VS hardship index')]"
      ],
      "image\/png":"[encoded data removed]"
     },
     "metadata":{
      "image\/png":{
       
      }
     },
     "output_type":"display_data"
    }
   ],
   "metadata":{
    "datalore":{
     "type":"CODE",
     "hide_input_from_viewers":false,
     "hide_output_from_viewers":false
    }
   }
  },
  {
   "cell_type":"markdown",
   "source":[
    "# **As the above established correlations show:\n",
    "### As per capita income increases percent employed under 16 decrases, thus the likelihood of th college enrollment is high . \n",
    "**Also the above graphs shows that ther is a negative correlation betwen hardship indx and percapita income. i.e decreases as per capita income increass.\n",
    "In other words, hardship indx is alsoan important factor.**"
   ],
   "attachments":{
    
   },
   "metadata":{
    "datalore":{
     "type":"MD",
     "hide_input_from_viewers":false,
     "hide_output_from_viewers":false
    }
   }
  },
  {
   "cell_type":"markdown",
   "source":[
    "Now, let's examine if there are correlations percapita income, hardship index, college enrollements, and number of crimes"
   ],
   "attachments":{
    
   },
   "metadata":{
    "datalore":{
     "type":"MD",
     "hide_input_from_viewers":false,
     "hide_output_from_viewers":false
    }
   }
  },
  {
   "cell_type":"code",
   "source":[
    "%%sql select cen.COMMUNITY_AREA_NUMBER, cen.COMMUNITY_AREA_NAME,cen.PERCENT_OF_HOUSING_CROWDED,cen.PERCENT_HOUSEHOLDS_BELOW_POVERTY,\n",
    "cen.PERCENT_AGED_16__UNEMPLOYED,cen.PERCENT_AGED_25__WITHOUT_HIGH_SCHOOL_DIPLOMA,cen.PER_CAPITA_INCOME,cen.HARDSHIP_INDEX ,\n",
    "sum(COLLEGE_ENROLLMENT) as Total_College_Enrollments , count(*) as crime_number\n",
    "from ((chi_census as cen inner join chi_school as sc on cen.community_area_number=sc.community_area_number)\n",
    "      inner join chi_crime as cr on cen.community_area_number=cr.community_area_number)\n",
    "group by cen.COMMUNITY_AREA_NUMBER, cen.COMMUNITY_AREA_NAME,cen.PERCENT_OF_HOUSING_CROWDED,cen.PERCENT_HOUSEHOLDS_BELOW_POVERTY,\n",
    "cen.PERCENT_AGED_16__UNEMPLOYED,cen.PERCENT_AGED_25__WITHOUT_HIGH_SCHOOL_DIPLOMA,cen.PER_CAPITA_INCOME,cen.HARDSHIP_INDEX\n",
    "limit 10"
   ],
   "execution_count":22,
   "outputs":[
    {
     "name":"stdout",
     "text":[
      " * ibm_db_sa:\/\/fll09902:***@ea286ace-86c7-4d5b-8580-3fbfa46b1c66.bs2io90l08kqb1od8lcg.databases.appdomain.cloud:31505\/BLUDB\n",
      "Done.\n"
     ],
     "output_type":"stream"
    },
    {
     "data":{
      "text\/html":[
       "<table>\n",
       "    <tr>\n",
       "        <th>community_area_number<\/th>\n",
       "        <th>community_area_name<\/th>\n",
       "        <th>percent_of_housing_crowded<\/th>\n",
       "        <th>percent_households_below_poverty<\/th>\n",
       "        <th>percent_aged_16__unemployed<\/th>\n",
       "        <th>percent_aged_25__without_high_school_diploma<\/th>\n",
       "        <th>per_capita_income<\/th>\n",
       "        <th>hardship_index<\/th>\n",
       "        <th>total_college_enrollments<\/th>\n",
       "        <th>crime_number<\/th>\n",
       "    <\/tr>\n",
       "    <tr>\n",
       "        <td>1<\/td>\n",
       "        <td>Rogers Park<\/td>\n",
       "        <td>7.7<\/td>\n",
       "        <td>23.6<\/td>\n",
       "        <td>8.7<\/td>\n",
       "        <td>18.2<\/td>\n",
       "        <td>23939<\/td>\n",
       "        <td>39<\/td>\n",
       "        <td>24408<\/td>\n",
       "        <td>36<\/td>\n",
       "    <\/tr>\n",
       "    <tr>\n",
       "        <td>2<\/td>\n",
       "        <td>West Ridge<\/td>\n",
       "        <td>7.8<\/td>\n",
       "        <td>17.2<\/td>\n",
       "        <td>8.8<\/td>\n",
       "        <td>20.8<\/td>\n",
       "        <td>23040<\/td>\n",
       "        <td>46<\/td>\n",
       "        <td>57379<\/td>\n",
       "        <td>63<\/td>\n",
       "    <\/tr>\n",
       "    <tr>\n",
       "        <td>3<\/td>\n",
       "        <td>Uptown<\/td>\n",
       "        <td>3.8<\/td>\n",
       "        <td>24.0<\/td>\n",
       "        <td>8.9<\/td>\n",
       "        <td>11.8<\/td>\n",
       "        <td>35787<\/td>\n",
       "        <td>20<\/td>\n",
       "        <td>17552<\/td>\n",
       "        <td>28<\/td>\n",
       "    <\/tr>\n",
       "    <tr>\n",
       "        <td>4<\/td>\n",
       "        <td>Lincoln Square<\/td>\n",
       "        <td>3.4<\/td>\n",
       "        <td>10.9<\/td>\n",
       "        <td>8.2<\/td>\n",
       "        <td>13.4<\/td>\n",
       "        <td>37524<\/td>\n",
       "        <td>17<\/td>\n",
       "        <td>12396<\/td>\n",
       "        <td>15<\/td>\n",
       "    <\/tr>\n",
       "    <tr>\n",
       "        <td>5<\/td>\n",
       "        <td>North Center<\/td>\n",
       "        <td>0.3<\/td>\n",
       "        <td>7.5<\/td>\n",
       "        <td>5.2<\/td>\n",
       "        <td>4.5<\/td>\n",
       "        <td>57123<\/td>\n",
       "        <td>6<\/td>\n",
       "        <td>30164<\/td>\n",
       "        <td>28<\/td>\n",
       "    <\/tr>\n",
       "    <tr>\n",
       "        <td>6<\/td>\n",
       "        <td>Lake View<\/td>\n",
       "        <td>1.1<\/td>\n",
       "        <td>11.4<\/td>\n",
       "        <td>4.7<\/td>\n",
       "        <td>2.6<\/td>\n",
       "        <td>60058<\/td>\n",
       "        <td>5<\/td>\n",
       "        <td>77605<\/td>\n",
       "        <td>121<\/td>\n",
       "    <\/tr>\n",
       "    <tr>\n",
       "        <td>7<\/td>\n",
       "        <td>Lincoln Park<\/td>\n",
       "        <td>0.8<\/td>\n",
       "        <td>12.3<\/td>\n",
       "        <td>5.1<\/td>\n",
       "        <td>3.6<\/td>\n",
       "        <td>71551<\/td>\n",
       "        <td>2<\/td>\n",
       "        <td>28075<\/td>\n",
       "        <td>35<\/td>\n",
       "    <\/tr>\n",
       "    <tr>\n",
       "        <td>8<\/td>\n",
       "        <td>Near North Side<\/td>\n",
       "        <td>1.9<\/td>\n",
       "        <td>12.9<\/td>\n",
       "        <td>7.0<\/td>\n",
       "        <td>2.5<\/td>\n",
       "        <td>88669<\/td>\n",
       "        <td>1<\/td>\n",
       "        <td>50430<\/td>\n",
       "        <td>105<\/td>\n",
       "    <\/tr>\n",
       "    <tr>\n",
       "        <td>10<\/td>\n",
       "        <td>Norwood Park<\/td>\n",
       "        <td>2.0<\/td>\n",
       "        <td>5.4<\/td>\n",
       "        <td>9.0<\/td>\n",
       "        <td>11.5<\/td>\n",
       "        <td>32875<\/td>\n",
       "        <td>21<\/td>\n",
       "        <td>19407<\/td>\n",
       "        <td>24<\/td>\n",
       "    <\/tr>\n",
       "    <tr>\n",
       "        <td>11<\/td>\n",
       "        <td>Jefferson Park<\/td>\n",
       "        <td>2.7<\/td>\n",
       "        <td>8.6<\/td>\n",
       "        <td>12.4<\/td>\n",
       "        <td>13.4<\/td>\n",
       "        <td>27751<\/td>\n",
       "        <td>25<\/td>\n",
       "        <td>3510<\/td>\n",
       "        <td>4<\/td>\n",
       "    <\/tr>\n",
       "<\/table>"
      ]
     },
     "metadata":{
      
     },
     "output_type":"display_data"
    }
   ],
   "metadata":{
    "datalore":{
     "type":"CODE",
     "hide_input_from_viewers":false,
     "hide_output_from_viewers":false
    }
   }
  },
  {
   "cell_type":"code",
   "source":[
    "CHI_CRIME=%sql select cen.COMMUNITY_AREA_NUMBER, cen.COMMUNITY_AREA_NAME,cen.PERCENT_OF_HOUSING_CROWDED,cen.PERCENT_HOUSEHOLDS_BELOW_POVERTY,cen.PERCENT_AGED_16__UNEMPLOYED,cen.PERCENT_AGED_25__WITHOUT_HIGH_SCHOOL_DIPLOMA,cen.PER_CAPITA_INCOME,cen.HARDSHIP_INDEX ,sum(COLLEGE_ENROLLMENT) as Total_College_Enrollments , count(*) as crime_number from ((chi_census as cen inner join chi_school as sc on cen.community_area_number=sc.community_area_number) inner join chi_crime as cr on cen.community_area_number=cr.community_area_number) group by cen.COMMUNITY_AREA_NUMBER, cen.COMMUNITY_AREA_NAME,cen.PERCENT_OF_HOUSING_CROWDED,cen.PERCENT_HOUSEHOLDS_BELOW_POVERTY,cen.PERCENT_AGED_16__UNEMPLOYED,cen.PERCENT_AGED_25__WITHOUT_HIGH_SCHOOL_DIPLOMA,cen.PER_CAPITA_INCOME,cen.HARDSHIP_INDEX"
   ],
   "execution_count":23,
   "outputs":[
    {
     "name":"stdout",
     "text":[
      " * ibm_db_sa:\/\/fll09902:***@ea286ace-86c7-4d5b-8580-3fbfa46b1c66.bs2io90l08kqb1od8lcg.databases.appdomain.cloud:31505\/BLUDB\n",
      "Done.\n"
     ],
     "output_type":"stream"
    }
   ],
   "metadata":{
    "datalore":{
     "type":"CODE",
     "hide_input_from_viewers":false,
     "hide_output_from_viewers":false
    }
   }
  },
  {
   "cell_type":"code",
   "source":[
    "CHI_CRIME_ANALYSIS=pd.DataFrame(CHI_CRIME)"
   ],
   "execution_count":24,
   "outputs":[
    
   ],
   "metadata":{
    "datalore":{
     "type":"CODE",
     "hide_input_from_viewers":false,
     "hide_output_from_viewers":false
    }
   }
  },
  {
   "cell_type":"code",
   "source":[
    "CHI_CRIME_ANALYSIS.rename(columns={0:'COMMUNITY_AREA_NUMBER',1:'COMMUNITY_AREA_NAME',2:'percent_of_housing_crowded',3:'percent_households_below_poverty',4:'percent_aged_16__unemployed',5:'percent_aged_25__without_high_school_diploma',6:'per_capita_income',7:'hardship_index',8:'total_college_enrollments',9:'crime_number'}, inplace=True)"
   ],
   "execution_count":34,
   "outputs":[
    
   ],
   "metadata":{
    "datalore":{
     "type":"CODE",
     "hide_input_from_viewers":false,
     "hide_output_from_viewers":false
    }
   }
  },
  {
   "cell_type":"code",
   "source":[
    "CHI_CRIME_ANALYSIS.head()"
   ],
   "execution_count":35,
   "outputs":[
    {
     "data":{
      "text\/html":[
       "<div>\n",
       "<style scoped>\n",
       "    .dataframe tbody tr th:only-of-type {\n",
       "        vertical-align: middle;\n",
       "    }\n",
       "\n",
       "    .dataframe tbody tr th {\n",
       "        vertical-align: top;\n",
       "    }\n",
       "\n",
       "    .dataframe thead th {\n",
       "        text-align: right;\n",
       "    }\n",
       "<\/style>\n",
       "<table border=\"1\" class=\"dataframe\">\n",
       "  <thead>\n",
       "    <tr style=\"text-align: right;\">\n",
       "      <th><\/th>\n",
       "      <th>COMMUNITY_AREA_NUMBER<\/th>\n",
       "      <th>COMMUNITY_AREA_NAME<\/th>\n",
       "      <th>percent_of_housing_crowded<\/th>\n",
       "      <th>percent_households_below_poverty<\/th>\n",
       "      <th>percent_aged_16__unemployed<\/th>\n",
       "      <th>percent_aged_25__without_high_school_diploma<\/th>\n",
       "      <th>per_capita_income<\/th>\n",
       "      <th>hardship_index<\/th>\n",
       "      <th>total_college_enrollments<\/th>\n",
       "      <th>crime_number<\/th>\n",
       "    <\/tr>\n",
       "  <\/thead>\n",
       "  <tbody>\n",
       "    <tr>\n",
       "      <th>0<\/th>\n",
       "      <td>1<\/td>\n",
       "      <td>Rogers Park<\/td>\n",
       "      <td>7.7<\/td>\n",
       "      <td>23.6<\/td>\n",
       "      <td>8.7<\/td>\n",
       "      <td>18.2<\/td>\n",
       "      <td>23939<\/td>\n",
       "      <td>39<\/td>\n",
       "      <td>24408<\/td>\n",
       "      <td>36<\/td>\n",
       "    <\/tr>\n",
       "    <tr>\n",
       "      <th>1<\/th>\n",
       "      <td>2<\/td>\n",
       "      <td>West Ridge<\/td>\n",
       "      <td>7.8<\/td>\n",
       "      <td>17.2<\/td>\n",
       "      <td>8.8<\/td>\n",
       "      <td>20.8<\/td>\n",
       "      <td>23040<\/td>\n",
       "      <td>46<\/td>\n",
       "      <td>57379<\/td>\n",
       "      <td>63<\/td>\n",
       "    <\/tr>\n",
       "    <tr>\n",
       "      <th>2<\/th>\n",
       "      <td>3<\/td>\n",
       "      <td>Uptown<\/td>\n",
       "      <td>3.8<\/td>\n",
       "      <td>24.0<\/td>\n",
       "      <td>8.9<\/td>\n",
       "      <td>11.8<\/td>\n",
       "      <td>35787<\/td>\n",
       "      <td>20<\/td>\n",
       "      <td>17552<\/td>\n",
       "      <td>28<\/td>\n",
       "    <\/tr>\n",
       "    <tr>\n",
       "      <th>3<\/th>\n",
       "      <td>4<\/td>\n",
       "      <td>Lincoln Square<\/td>\n",
       "      <td>3.4<\/td>\n",
       "      <td>10.9<\/td>\n",
       "      <td>8.2<\/td>\n",
       "      <td>13.4<\/td>\n",
       "      <td>37524<\/td>\n",
       "      <td>17<\/td>\n",
       "      <td>12396<\/td>\n",
       "      <td>15<\/td>\n",
       "    <\/tr>\n",
       "    <tr>\n",
       "      <th>4<\/th>\n",
       "      <td>5<\/td>\n",
       "      <td>North Center<\/td>\n",
       "      <td>0.3<\/td>\n",
       "      <td>7.5<\/td>\n",
       "      <td>5.2<\/td>\n",
       "      <td>4.5<\/td>\n",
       "      <td>57123<\/td>\n",
       "      <td>6<\/td>\n",
       "      <td>30164<\/td>\n",
       "      <td>28<\/td>\n",
       "    <\/tr>\n",
       "  <\/tbody>\n",
       "<\/table>\n",
       "<\/div>"
      ]
     },
     "metadata":{
      
     },
     "output_type":"display_data"
    }
   ],
   "metadata":{
    "datalore":{
     "type":"CODE",
     "hide_input_from_viewers":false,
     "hide_output_from_viewers":false
    }
   }
  },
  {
   "cell_type":"markdown",
   "source":[
    "# **Plotting different relationships between data to figure out correlations**"
   ],
   "attachments":{
    
   },
   "metadata":{
    "datalore":{
     "type":"MD",
     "hide_input_from_viewers":false,
     "hide_output_from_viewers":false
    }
   }
  },
  {
   "cell_type":"code",
   "source":[
    "ax = sns.scatterplot(x = \"percent_households_below_poverty\", y = \"crime_number\", data = CHI_CRIME_ANALYSIS )\n",
    " \n",
    "ax.set(xlabel = \"percent_households_below_poverty\",\n",
    "      ylabel = \"crime_number\",\n",
    "      title = \"CRIME VS POVERTY\")"
   ],
   "execution_count":36,
   "outputs":[
    {
     "data":{
      "text\/plain":[
       "[Text(0.5, 0, 'percent_households_below_poverty'),\n",
       " Text(0, 0.5, 'crime_number'),\n",
       " Text(0.5, 1.0, 'CRIME VS POVERTY')]"
      ],
      "image\/png":"[encoded data removed]"
     },
     "metadata":{
      "image\/png":{
       
      }
     },
     "output_type":"display_data"
    }
   ],
   "metadata":{
    "datalore":{
     "type":"CODE",
     "hide_input_from_viewers":false,
     "hide_output_from_viewers":false
    }
   }
  },
  {
   "cell_type":"code",
   "source":[
    "ax = sns.scatterplot(x = \"percent_of_housing_crowded\", y = \"crime_number\", data = CHI_CRIME_ANALYSIS )\n",
    " \n",
    "ax.set(xlabel = \"percent_of_housing_crowded\",\n",
    "      ylabel = \"crime_number\",\n",
    "      title = \"CRIME VS HOUSING CROWDED\")"
   ],
   "execution_count":37,
   "outputs":[
    {
     "data":{
      "text\/plain":[
       "[Text(0.5, 0, 'percent_of_housing_crowded'),\n",
       " Text(0, 0.5, 'crime_number'),\n",
       " Text(0.5, 1.0, 'CRIME VS HOUSING CROWDED')]"
      ],
      "image\/png":"[encoded data removed]"
     },
     "metadata":{
      "image\/png":{
       
      }
     },
     "output_type":"display_data"
    }
   ],
   "metadata":{
    "datalore":{
     "type":"CODE",
     "hide_input_from_viewers":false,
     "hide_output_from_viewers":false
    }
   }
  },
  {
   "cell_type":"code",
   "source":[
    "ax = sns.scatterplot(x = \"percent_aged_25__without_high_school_diploma\", y = \"crime_number\", data = CHI_CRIME_ANALYSIS )\n",
    " \n",
    "ax.set(xlabel = \"percent_aged_25__without_high_school_diploma\",\n",
    "      ylabel = \"crime_number\",\n",
    "      title = \"CRIME VS 25_UNEMPLOYMENT\")"
   ],
   "execution_count":40,
   "outputs":[
    {
     "data":{
      "text\/plain":[
       "[Text(0.5, 0, 'percent_aged_25__without_high_school_diploma'),\n",
       " Text(0, 0.5, 'crime_number'),\n",
       " Text(0.5, 1.0, 'CRIME VS 25_UNEMPLOYMENT')]"
      ],
      "image\/png":"[encoded data removed]"
     },
     "metadata":{
      "image\/png":{
       
      }
     },
     "output_type":"display_data"
    }
   ],
   "metadata":{
    "datalore":{
     "type":"CODE",
     "hide_input_from_viewers":false,
     "hide_output_from_viewers":false
    }
   }
  },
  {
   "cell_type":"code",
   "source":[
    "ax = sns.scatterplot(x = \"per_capita_income\", y = \"crime_number\", data = CHI_CRIME_ANALYSIS )\n",
    " \n",
    "ax.set(xlabel = \"per_capita_income\",\n",
    "      ylabel = \"crime_number\",\n",
    "      title = \"CRIME VS PER_CAPITA_INCOM\")"
   ],
   "execution_count":41,
   "outputs":[
    {
     "data":{
      "text\/plain":[
       "[Text(0.5, 0, 'per_capita_income'),\n",
       " Text(0, 0.5, 'crime_number'),\n",
       " Text(0.5, 1.0, 'CRIME VS PER_CAPITA_INCOM')]"
      ],
      "image\/png":"[encoded data removed]"
     },
     "metadata":{
      "image\/png":{
       
      }
     },
     "output_type":"display_data"
    }
   ],
   "metadata":{
    "datalore":{
     "type":"CODE",
     "hide_input_from_viewers":false,
     "hide_output_from_viewers":false
    }
   }
  },
  {
   "cell_type":"code",
   "source":[
    "ax = sns.scatterplot(x = \"total_college_enrollments\", y = \"crime_number\", data = CHI_CRIME_ANALYSIS )\n",
    " \n",
    "ax.set(xlabel = \"total_college_enrollments\",\n",
    "      ylabel = \"crime_number\",\n",
    "      title = \"CRIME VS COLLEGE_ENROLLMENTS\")"
   ],
   "execution_count":42,
   "outputs":[
    {
     "data":{
      "text\/plain":[
       "[Text(0.5, 0, 'total_college_enrollments'),\n",
       " Text(0, 0.5, 'crime_number'),\n",
       " Text(0.5, 1.0, 'CRIME VS COLLEGE_ENROLLMENTS')]"
      ],
      "image\/png":"[encoded data removed]"
     },
     "metadata":{
      "image\/png":{
       
      }
     },
     "output_type":"display_data"
    }
   ],
   "metadata":{
    "datalore":{
     "type":"CODE",
     "hide_input_from_viewers":false,
     "hide_output_from_viewers":false
    }
   }
  },
  {
   "cell_type":"markdown",
   "source":[
    "# **From the above shown graphs we can conclude that there's a strong positive correlation btween poverty and unemploymnt, and the crime numbers**"
   ],
   "attachments":{
    
   },
   "metadata":{
    "datalore":{
     "type":"MD",
     "hide_input_from_viewers":false,
     "hide_output_from_viewers":false
    }
   }
  },
  {
   "cell_type":"code",
   "source":[
    
   ],
   "execution_count":null,
   "outputs":[
    
   ],
   "metadata":{
    "datalore":{
     "type":"CODE",
     "hide_input_from_viewers":false,
     "hide_output_from_viewers":false
    }
   }
  }
 ],
 "metadata":{
  "datalore":{
   "version":1,
   "computation_mode":"JUPYTER",
   "package_manager":"pip",
   "base_environment":"default",
   "packages":[
    
   ]
  }
 },
 "nbformat":4,
 "nbformat_minor":4
}
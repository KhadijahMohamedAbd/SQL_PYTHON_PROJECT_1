{
 "cells":[
  {
   "cell_type":"code",
   "source":[
    "!pip install --force-reinstall ibm_db==3.1.0 ibm_db_sa==0.3.3\n",
    "!pip uninstall sqlalchemy==1.4 -y && pip install sqlalchemy==1.3.24\n",
    "!pip install ipython-sql"
   ],
   "execution_count":1,
   "outputs":[
    {
     "name":"stdout",
     "text":[
      "Collecting ibm_db==3.1.0\r\n",
      "  Downloading ibm_db-3.1.0.tar.gz (797 kB)\r\n",
      "\u001b[?25l\r\r     |▍                               | 10 kB 16.0 MB\/s eta 0:00:01\r     |▉                               | 20 kB 19.1 MB\/s eta 0:00:01\r     |█▎                              | 30 kB 22.8 MB\/s eta 0:00:01\r     |█▋                              | 40 kB 22.6 MB\/s eta 0:00:01\r     |██                              | 51 kB 18.3 MB\/s eta 0:00:01\r     |██▌                             | 61 kB 20.1 MB\/s eta 0:00:01\r     |██▉                             | 71 kB 21.6 MB\/s eta 0:00:01\r     |███▎                            | 81 kB 19.5 MB\/s eta 0:00:01\r     |███▊                            | 92 kB 20.6 MB\/s eta 0:00:01\r     |████                            | 102 kB 21.6 MB\/s eta 0:00:01\r     |████▌                           | 112 kB 21.6 MB\/s eta 0:00:01\r     |█████                           | 122 kB 21.6 MB\/s eta 0:00:01\r     |█████▍                          | 133 kB 21.6 MB\/s eta 0:00:01\r     |█████▊                          | 143 kB 21.6 MB\/s eta 0:00:01\r     |██████▏                         | 153 kB 21.6 MB\/s eta 0:00:01\r     |██████▋                         | 163 kB 21.6 MB\/s eta 0:00:01\r     |███████                         | 174 kB 21.6 MB\/s eta 0:00:01\r     |███████▍                        | 184 kB 21.6 MB\/s eta 0:00:01\r     |███████▉                        | 194 kB 21.6 MB\/s eta 0:00:01\r     |████████▏                       | 204 kB 21.6 MB\/s eta 0:00:01\r     |████████▋                       | 215 kB 21.6 MB\/s eta 0:00:01\r     |█████████                       | 225 kB 21.6 MB\/s eta 0:00:01\r     |█████████▌                      | 235 kB 21.6 MB\/s eta 0:00:01\r     |█████████▉                      | 245 kB 21.6 MB\/s eta 0:00:01\r     |██████████▎                     | 256 kB 21.6 MB\/s eta 0:00:01\r     |██████████▊                     | 266 kB 21.6 MB\/s eta 0:00:01\r     |███████████                     | 276 kB 21.6 MB\/s eta 0:00:01\r     |███████████▌                    | 286 kB 21.6 MB\/s eta 0:00:01\r     |████████████                    | 296 kB 21.6 MB\/s eta 0:00:01\r     |████████████▎                   | 307 kB 21.6 MB\/s eta 0:00:01\r     |████████████▊                   | 317 kB 21.6 MB\/s eta 0:00:01\r     |█████████████▏                  | 327 kB 21.6 MB\/s eta 0:00:01\r     |█████████████▋                  | 337 kB 21.6 MB\/s eta 0:00:01\r     |██████████████                  | 348 kB 21.6 MB\/s eta 0:00:01\r     |██████████████▍                 | 358 kB 21.6 MB\/s eta 0:00:01\r     |██████████████▉                 | 368 kB 21.6 MB\/s eta 0:00:01\r     |███████████████▏                | 378 kB 21.6 MB\/s eta 0:00:01\r     |███████████████▋                | 389 kB 21.6 MB\/s eta 0:00:01\r     |████████████████                | 399 kB 21.6 MB\/s eta 0:00:01\r     |████████████████▍               | 409 kB 21.6 MB\/s eta 0:00:01\r     |████████████████▉               | 419 kB 21.6 MB\/s eta 0:00:01\r     |█████████████████▎              | 430 kB 21.6 MB\/s eta 0:00:01\r     |█████████████████▊              | 440 kB 21.6 MB\/s eta 0:00:01\r     |██████████████████              | 450 kB 21.6 MB\/s eta 0:00:01\r     |██████████████████▌             | 460 kB 21.6 MB\/s eta 0:00:01\r     |███████████████████             | 471 kB 21.6 MB\/s eta 0:00:01\r     |███████████████████▎            | 481 kB 21.6 MB\/s eta 0:00:01\r     |███████████████████▊            | 491 kB 21.6 MB\/s eta 0:00:01\r     |████████████████████▏           | 501 kB 21.6 MB\/s eta 0:00:01\r     |████████████████████▌           | 512 kB 21.6 MB\/s eta 0:00:01\r     |█████████████████████           | 522 kB 21.6 MB\/s eta 0:00:01\r     |█████████████████████▍          | 532 kB 21.6 MB\/s eta 0:00:01\r     |█████████████████████▉          | 542 kB 21.6 MB\/s eta 0:00:01\r     |██████████████████████▏         | 552 kB 21.6 MB\/s eta 0:00:01\r     |██████████████████████▋         | 563 kB 21.6 MB\/s eta 0:00:01\r     |███████████████████████         | 573 kB 21.6 MB\/s eta 0:00:01\r     |███████████████████████▍        | 583 kB 21.6 MB\/s eta 0:00:01\r     |███████████████████████▉        | 593 kB 21.6 MB\/s eta 0:00:01\r     |████████████████████████▎       | 604 kB 21.6 MB\/s eta 0:00:01\r     |████████████████████████▋       | 614 kB 21.6 MB\/s eta 0:00:01\r     |█████████████████████████       | 624 kB 21.6 MB\/s eta 0:00:01\r     |█████████████████████████▌      | 634 kB 21.6 MB\/s eta 0:00:01\r     |██████████████████████████      | 645 kB 21.6 MB\/s eta 0:00:01\r     |██████████████████████████▎     | 655 kB 21.6 MB\/s eta 0:00:01\r     |██████████████████████████▊     | 665 kB 21.6 MB\/s eta 0:00:01\r     |███████████████████████████▏    | 675 kB 21.6 MB\/s eta 0:00:01\r     |███████████████████████████▌    | 686 kB 21.6 MB\/s eta 0:00:01\r     |████████████████████████████    | 696 kB 21.6 MB\/s eta 0:00:01\r     |████████████████████████████▍   | 706 kB 21.6 MB\/s eta 0:00:01\r     |████████████████████████████▊   | 716 kB 21.6 MB\/s eta 0:00:01\r     |█████████████████████████████▏  | 727 kB 21.6 MB\/s eta 0:00:01\r     |█████████████████████████████▋  | 737 kB 21.6 MB\/s eta 0:00:01\r     |██████████████████████████████  | 747 kB 21.6 MB\/s eta 0:00:01\r     |██████████████████████████████▍ | 757 kB 21.6 MB\/s eta 0:00:01\r     |██████████████████████████████▉ | 768 kB 21.6 MB\/s eta 0:00:01\r     |███████████████████████████████▎| 778 kB 21.6 MB\/s eta 0:00:01\r     |███████████████████████████████▋| 788 kB 21.6 MB\/s eta 0:00:01\r     |████████████████████████████████| 797 kB 21.6 MB\/s            \r\n",
      "\u001b[?25h  Installing build dependencies ... \u001b[?25l-\b \b\\\b \b|\b \bdone\r\n",
      "\u001b[?25h  Getting requirements to build wheel ... \u001b[?25l-\b \b\\\b \b|\b \b\/\b \b-\b \bdone\r\n",
      "\u001b[?25h  Installing backend dependencies ... \u001b[?25l-\b \b\\\b \bdone\r\n",
      "\u001b[?25h  Preparing metadata (pyproject.toml) ... \u001b[?25l-\b \b\\\b \b|\b \b\/\b \bdone\r\n",
      "\u001b[?25hCollecting ibm_db_sa==0.3.3\r\n",
      "  Downloading ibm_db_sa-0.3.3.tar.gz (24 kB)\r\n",
      "  Preparing metadata (setup.py) ... \u001b[?25l-\b \bdone\r\n",
      "\u001b[?25hCollecting sqlalchemy>=0.7.3\r\n",
      "  Downloading SQLAlchemy-1.4.32-cp38-cp38-manylinux_2_5_x86_64.manylinux1_x86_64.manylinux_2_17_x86_64.manylinux2014_x86_64.whl (1.6 MB)\r\n",
      "\u001b[?25l\r\r     |▏                               | 10 kB 31.6 MB\/s eta 0:00:01\r     |▍                               | 20 kB 38.8 MB\/s eta 0:00:01\r     |▋                               | 30 kB 47.0 MB\/s eta 0:00:01\r     |▉                               | 40 kB 51.1 MB\/s eta 0:00:01\r     |█                               | 51 kB 54.2 MB\/s eta 0:00:01\r     |█▎                              | 61 kB 57.8 MB\/s eta 0:00:01\r     |█▍                              | 71 kB 59.8 MB\/s eta 0:00:01\r     |█▋                              | 81 kB 60.6 MB\/s eta 0:00:01\r     |█▉                              | 92 kB 62.5 MB\/s eta 0:00:01\r     |██                              | 102 kB 62.6 MB\/s eta 0:00:01\r     |██▎                             | 112 kB 62.6 MB\/s eta 0:00:01\r     |██▌                             | 122 kB 62.6 MB\/s eta 0:00:01\r     |██▋                             | 133 kB 62.6 MB\/s eta 0:00:01\r     |██▉                             | 143 kB 62.6 MB\/s eta 0:00:01\r     |███                             | 153 kB 62.6 MB\/s eta 0:00:01\r     |███▎                            | 163 kB 62.6 MB\/s eta 0:00:01\r     |███▌                            | 174 kB 62.6 MB\/s eta 0:00:01\r     |███▊                            | 184 kB 62.6 MB\/s eta 0:00:01\r     |███▉                            | 194 kB 62.6 MB\/s eta 0:00:01\r     |████                            | 204 kB 62.6 MB\/s eta 0:00:01\r     |████▎                           | 215 kB 62.6 MB\/s eta 0:00:01\r     |████▌                           | 225 kB 62.6 MB\/s eta 0:00:01\r     |████▊                           | 235 kB 62.6 MB\/s eta 0:00:01\r     |█████                           | 245 kB 62.6 MB\/s eta 0:00:01\r     |█████                           | 256 kB 62.6 MB\/s eta 0:00:01\r     |█████▎                          | 266 kB 62.6 MB\/s eta 0:00:01\r     |█████▌                          | 276 kB 62.6 MB\/s eta 0:00:01\r     |█████▊                          | 286 kB 62.6 MB\/s eta 0:00:01\r     |██████                          | 296 kB 62.6 MB\/s eta 0:00:01\r     |██████▏                         | 307 kB 62.6 MB\/s eta 0:00:01\r     |██████▍                         | 317 kB 62.6 MB\/s eta 0:00:01\r     |██████▌                         | 327 kB 62.6 MB\/s eta 0:00:01\r     |██████▊                         | 337 kB 62.6 MB\/s eta 0:00:01\r     |███████                         | 348 kB 62.6 MB\/s eta 0:00:01\r     |███████▏                        | 358 kB 62.6 MB\/s eta 0:00:01\r     |███████▍                        | 368 kB 62.6 MB\/s eta 0:00:01\r     |███████▋                        | 378 kB 62.6 MB\/s eta 0:00:01\r     |███████▊                        | 389 kB 62.6 MB\/s eta 0:00:01\r     |████████                        | 399 kB 62.6 MB\/s eta 0:00:01\r     |████████▏                       | 409 kB 62.6 MB\/s eta 0:00:01\r     |████████▍                       | 419 kB 62.6 MB\/s eta 0:00:01\r     |████████▋                       | 430 kB 62.6 MB\/s eta 0:00:01\r     |████████▉                       | 440 kB 62.6 MB\/s eta 0:00:01\r     |█████████                       | 450 kB 62.6 MB\/s eta 0:00:01\r     |█████████▏                      | 460 kB 62.6 MB\/s eta 0:00:01\r     |█████████▍                      | 471 kB 62.6 MB\/s eta 0:00:01\r     |█████████▋                      | 481 kB 62.6 MB\/s eta 0:00:01\r     |█████████▉                      | 491 kB 62.6 MB\/s eta 0:00:01\r     |██████████                      | 501 kB 62.6 MB\/s eta 0:00:01\r     |██████████▏                     | 512 kB 62.6 MB\/s eta 0:00:01\r     |██████████▍                     | 522 kB 62.6 MB\/s eta 0:00:01\r     |██████████▋                     | 532 kB 62.6 MB\/s eta 0:00:01\r     |██████████▉                     | 542 kB 62.6 MB\/s eta 0:00:01\r     |███████████                     | 552 kB 62.6 MB\/s eta 0:00:01\r     |███████████▎                    | 563 kB 62.6 MB\/s eta 0:00:01\r     |███████████▌                    | 573 kB 62.6 MB\/s eta 0:00:01\r     |███████████▋                    | 583 kB 62.6 MB\/s eta 0:00:01\r     |███████████▉                    | 593 kB 62.6 MB\/s eta 0:00:01\r     |████████████                    | 604 kB 62.6 MB\/s eta 0:00:01\r     |████████████▎                   | 614 kB 62.6 MB\/s eta 0:00:01\r     |████████████▌                   | 624 kB 62.6 MB\/s eta 0:00:01\r     |████████████▊                   | 634 kB 62.6 MB\/s eta 0:00:01\r     |████████████▉                   | 645 kB 62.6 MB\/s eta 0:00:01\r     |█████████████                   | 655 kB 62.6 MB\/s eta 0:00:01\r     |█████████████▎                  | 665 kB 62.6 MB\/s eta 0:00:01\r     |█████████████▌                  | 675 kB 62.6 MB\/s eta 0:00:01\r     |█████████████▊                  | 686 kB 62.6 MB\/s eta 0:00:01\r     |██████████████                  | 696 kB 62.6 MB\/s eta 0:00:01\r     |██████████████                  | 706 kB 62.6 MB\/s eta 0:00:01\r     |██████████████▎                 | 716 kB 62.6 MB\/s eta 0:00:01\r     |██████████████▌                 | 727 kB 62.6 MB\/s eta 0:00:01\r     |██████████████▊                 | 737 kB 62.6 MB\/s eta 0:00:01\r     |███████████████                 | 747 kB 62.6 MB\/s eta 0:00:01\r     |███████████████▏                | 757 kB 62.6 MB\/s eta 0:00:01\r     |███████████████▎                | 768 kB 62.6 MB\/s eta 0:00:01\r     |███████████████▌                | 778 kB 62.6 MB\/s eta 0:00:01\r     |███████████████▊                | 788 kB 62.6 MB\/s eta 0:00:01\r     |████████████████                | 798 kB 62.6 MB\/s eta 0:00:01\r     |████████████████▏               | 808 kB 62.6 MB\/s eta 0:00:01\r     |████████████████▍               | 819 kB 62.6 MB\/s eta 0:00:01\r     |████████████████▋               | 829 kB 62.6 MB\/s eta 0:00:01\r     |████████████████▊               | 839 kB 62.6 MB\/s eta 0:00:01\r     |█████████████████               | 849 kB 62.6 MB\/s eta 0:00:01\r     |█████████████████▏              | 860 kB 62.6 MB\/s eta 0:00:01\r     |█████████████████▍              | 870 kB 62.6 MB\/s eta 0:00:01\r     |█████████████████▋              | 880 kB 62.6 MB\/s eta 0:00:01\r     |█████████████████▉              | 890 kB 62.6 MB\/s eta 0:00:01\r     |██████████████████              | 901 kB 62.6 MB\/s eta 0:00:01\r     |██████████████████▏             | 911 kB 62.6 MB\/s eta 0:00:01\r     |██████████████████▍             | 921 kB 62.6 MB\/s eta 0:00:01\r     |██████████████████▋             | 931 kB 62.6 MB\/s eta 0:00:01\r     |██████████████████▉             | 942 kB 62.6 MB\/s eta 0:00:01\r     |███████████████████             | 952 kB 62.6 MB\/s eta 0:00:01\r     |███████████████████▏            | 962 kB 62.6 MB\/s eta 0:00:01\r     |███████████████████▍            | 972 kB 62.6 MB\/s eta 0:00:01\r     |███████████████████▋            | 983 kB 62.6 MB\/s eta 0:00:01\r     |███████████████████▉            | 993 kB 62.6 MB\/s eta 0:00:01\r     |████████████████████            | 1.0 MB 62.6 MB\/s eta 0:00:01\r     |████████████████████▎           | 1.0 MB 62.6 MB\/s eta 0:00:01\r     |████████████████████▍           | 1.0 MB 62.6 MB\/s eta 0:00:01\r     |████████████████████▋           | 1.0 MB 62.6 MB\/s eta 0:00:01\r     |████████████████████▉           | 1.0 MB 62.6 MB\/s eta 0:00:01\r     |█████████████████████           | 1.1 MB 62.6 MB\/s eta 0:00:01\r     |█████████████████████▎          | 1.1 MB 62.6 MB\/s eta 0:00:01\r     |█████████████████████▌          | 1.1 MB 62.6 MB\/s eta 0:00:01\r     |█████████████████████▊          | 1.1 MB 62.6 MB\/s eta 0:00:01\r     |█████████████████████▉          | 1.1 MB 62.6 MB\/s eta 0:00:01\r     |██████████████████████          | 1.1 MB 62.6 MB\/s eta 0:00:01\r     |██████████████████████▎         | 1.1 MB 62.6 MB\/s eta 0:00:01\r     |██████████████████████▌         | 1.1 MB 62.6 MB\/s eta 0:00:01\r     |██████████████████████▊         | 1.1 MB 62.6 MB\/s eta 0:00:01\r     |███████████████████████         | 1.1 MB 62.6 MB\/s eta 0:00:01\r     |███████████████████████         | 1.2 MB 62.6 MB\/s eta 0:00:01\r     |███████████████████████▎        | 1.2 MB 62.6 MB\/s eta 0:00:01\r     |███████████████████████▌        | 1.2 MB 62.6 MB\/s eta 0:00:01\r     |███████████████████████▊        | 1.2 MB 62.6 MB\/s eta 0:00:01\r     |████████████████████████        | 1.2 MB 62.6 MB\/s eta 0:00:01\r     |████████████████████████▏       | 1.2 MB 62.6 MB\/s eta 0:00:01\r     |████████████████████████▎       | 1.2 MB 62.6 MB\/s eta 0:00:01\r     |████████████████████████▌       | 1.2 MB 62.6 MB\/s eta 0:00:01\r     |████████████████████████▊       | 1.2 MB 62.6 MB\/s eta 0:00:01\r     |█████████████████████████       | 1.2 MB 62.6 MB\/s eta 0:00:01\r     |█████████████████████████▏      | 1.3 MB 62.6 MB\/s eta 0:00:01\r     |█████████████████████████▍      | 1.3 MB 62.6 MB\/s eta 0:00:01\r     |█████████████████████████▌      | 1.3 MB 62.6 MB\/s eta 0:00:01\r     |█████████████████████████▊      | 1.3 MB 62.6 MB\/s eta 0:00:01\r     |██████████████████████████      | 1.3 MB 62.6 MB\/s eta 0:00:01\r     |██████████████████████████▏     | 1.3 MB 62.6 MB\/s eta 0:00:01\r     |██████████████████████████▍     | 1.3 MB 62.6 MB\/s eta 0:00:01\r     |██████████████████████████▋     | 1.3 MB 62.6 MB\/s eta 0:00:01\r     |██████████████████████████▉     | 1.3 MB 62.6 MB\/s eta 0:00:01\r     |███████████████████████████     | 1.4 MB 62.6 MB\/s eta 0:00:01\r     |███████████████████████████▏    | 1.4 MB 62.6 MB\/s eta 0:00:01\r     |███████████████████████████▍    | 1.4 MB 62.6 MB\/s eta 0:00:01\r     |███████████████████████████▋    | 1.4 MB 62.6 MB\/s eta 0:00:01\r     |███████████████████████████▉    | 1.4 MB 62.6 MB\/s eta 0:00:01\r     |████████████████████████████    | 1.4 MB 62.6 MB\/s eta 0:00:01\r     |████████████████████████████▏   | 1.4 MB 62.6 MB\/s eta 0:00:01\r     |████████████████████████████▍   | 1.4 MB 62.6 MB\/s eta 0:00:01\r     |████████████████████████████▋   | 1.4 MB 62.6 MB\/s eta 0:00:01\r     |████████████████████████████▉   | 1.4 MB 62.6 MB\/s eta 0:00:01\r     |█████████████████████████████   | 1.5 MB 62.6 MB\/s eta 0:00:01\r     |█████████████████████████████▎  | 1.5 MB 62.6 MB\/s eta 0:00:01\r     |█████████████████████████████▍  | 1.5 MB 62.6 MB\/s eta 0:00:01\r     |█████████████████████████████▋  | 1.5 MB 62.6 MB\/s eta 0:00:01\r     |█████████████████████████████▉  | 1.5 MB 62.6 MB\/s eta 0:00:01\r     |██████████████████████████████  | 1.5 MB 62.6 MB\/s eta 0:00:01\r     |██████████████████████████████▎ | 1.5 MB 62.6 MB\/s eta 0:00:01\r     |██████████████████████████████▌ | 1.5 MB 62.6 MB\/s eta 0:00:01\r     |██████████████████████████████▋ | 1.5 MB 62.6 MB\/s eta 0:00:01\r     |██████████████████████████████▉ | 1.5 MB 62.6 MB\/s eta 0:00:01\r     |███████████████████████████████ | 1.6 MB 62.6 MB\/s eta 0:00:01\r     |███████████████████████████████▎| 1.6 MB 62.6 MB\/s eta 0:00:01\r     |███████████████████████████████▌| 1.6 MB 62.6 MB\/s eta 0:00:01\r     |███████████████████████████████▊| 1.6 MB 62.6 MB\/s eta 0:00:01\r     |████████████████████████████████| 1.6 MB 62.6 MB\/s eta 0:00:01\r     |████████████████████████████████| 1.6 MB 62.6 MB\/s            \r\n",
      "\u001b[?25hCollecting greenlet!=0.4.17\r\n",
      "  Downloading greenlet-1.1.2-cp38-cp38-manylinux_2_17_x86_64.manylinux2014_x86_64.whl (156 kB)\r\n",
      "\u001b[?25l\r\r     |██                              | 10 kB 30.7 MB\/s eta 0:00:01\r     |████▏                           | 20 kB 38.7 MB\/s eta 0:00:01\r     |██████▎                         | 30 kB 46.3 MB\/s eta 0:00:01\r     |████████▍                       | 40 kB 50.8 MB\/s eta 0:00:01\r     |██████████▌                     | 51 kB 53.5 MB\/s eta 0:00:01\r     |████████████▋                   | 61 kB 57.1 MB\/s eta 0:00:01\r     |██████████████▋                 | 71 kB 58.3 MB\/s eta 0:00:01\r     |████████████████▊               | 81 kB 59.3 MB\/s eta 0:00:01\r     |██████████████████▉             | 92 kB 61.4 MB\/s eta 0:00:01\r     |█████████████████████           | 102 kB 62.5 MB\/s eta 0:00:01\r     |███████████████████████         | 112 kB 62.5 MB\/s eta 0:00:01\r     |█████████████████████████▏      | 122 kB 62.5 MB\/s eta 0:00:01\r     |███████████████████████████▏    | 133 kB 62.5 MB\/s eta 0:00:01\r     |█████████████████████████████▎  | 143 kB 62.5 MB\/s eta 0:00:01\r     |███████████████████████████████▍| 153 kB 62.5 MB\/s eta 0:00:01\r     |████████████████████████████████| 156 kB 62.5 MB\/s            \r\n",
      "\u001b[?25hBuilding wheels for collected packages: ibm-db, ibm-db-sa\r\n",
      "  Building wheel for ibm-db (pyproject.toml) ... \u001b[?25l-\b \b\\\b \b|\b \b\/\b \b-\b \b\\\b \b|\b \b\/\b \b-\b \b\\\b \b|\b \b\/\b \b-\b \b\\\b \b|\b \b\/\b \b-\b \b\\\b \b|\b \b\/\b \b-\b \b\\\b \b|\b \b\/\b \b-\b \b\\\b \b|\b \b\/\b \b-\b \b\\\b \b|\b \b\/\b \b-\b \b\\\b \b|\b \bdone\r\n",
      "\u001b[?25h  Created wheel for ibm-db: filename=ibm_db-3.1.0-cp38-cp38-linux_x86_64.whl size=41390383 sha256=66cfd427b5ce41a0083a1e06ee9877fca814a63c3532521213d22a238a4811fa\r\n",
      "  Stored in directory: \/home\/datalore\/.cache\/pip\/wheels\/43\/71\/0a\/3065745bc1dc4cafbdcb09e2557082609f7689b16108b670df\r\n",
      "  Building wheel for ibm-db-sa (setup.py) ... \u001b[?25l-\b \bdone\r\n",
      "\u001b[?25h  Created wheel for ibm-db-sa: filename=ibm_db_sa-0.3.3-py3-none-any.whl size=27410 sha256=3770c887faf0832c78e829223c2bdfb8170ccb6e154283ce39222491507a1b57\r\n",
      "  Stored in directory: \/home\/datalore\/.cache\/pip\/wheels\/ca\/a9\/b6\/4f6402aa714d6e9903b79a15fbc3b2f02bf72da989b7708c18\r\n",
      "Successfully built ibm-db ibm-db-sa\r\n",
      "Installing collected packages: greenlet, sqlalchemy, ibm-db-sa, ibm-db\r\n",
      "  Attempting uninstall: greenlet\r\n",
      "    Found existing installation: greenlet 1.1.2\r\n",
      "    Uninstalling greenlet-1.1.2:\r\n",
      "      Successfully uninstalled greenlet-1.1.2\r\n",
      "  Attempting uninstall: sqlalchemy\r\n",
      "    Found existing installation: SQLAlchemy 1.4.26\r\n",
      "    Uninstalling SQLAlchemy-1.4.26:\r\n",
      "      Successfully uninstalled SQLAlchemy-1.4.26\r\n",
      "Successfully installed greenlet-1.1.2 ibm-db-3.1.0 ibm-db-sa-0.3.3 sqlalchemy-1.4.32\r\n",
      "\u001b[33mWARNING: You are using pip version 21.3.1; however, version 22.0.4 is available.\r\n",
      "You should consider upgrading via the '\/opt\/python\/envs\/default\/bin\/python -m pip install --upgrade pip' command.\u001b[0m\r\n",
      "Found existing installation: SQLAlchemy 1.4.32\r\n",
      "Uninstalling SQLAlchemy-1.4.32:\r\n",
      "  Successfully uninstalled SQLAlchemy-1.4.32\r\n",
      "Collecting sqlalchemy==1.3.24\r\n",
      "  Downloading SQLAlchemy-1.3.24-cp38-cp38-manylinux2010_x86_64.whl (1.3 MB)\r\n",
      "\u001b[?25l\r\r     |▎                               | 10 kB 23.8 MB\/s eta 0:00:01\r     |▌                               | 20 kB 28.8 MB\/s eta 0:00:01\r     |▊                               | 30 kB 33.5 MB\/s eta 0:00:01\r     |█                               | 40 kB 36.2 MB\/s eta 0:00:01\r     |█▎                              | 51 kB 30.0 MB\/s eta 0:00:01\r     |█▌                              | 61 kB 33.6 MB\/s eta 0:00:01\r     |█▉                              | 71 kB 36.3 MB\/s eta 0:00:01\r     |██                              | 81 kB 36.3 MB\/s eta 0:00:01\r     |██▎                             | 92 kB 38.8 MB\/s eta 0:00:01\r     |██▋                             | 102 kB 40.8 MB\/s eta 0:00:01\r     |██▉                             | 112 kB 40.8 MB\/s eta 0:00:01\r     |███                             | 122 kB 40.8 MB\/s eta 0:00:01\r     |███▍                            | 133 kB 40.8 MB\/s eta 0:00:01\r     |███▋                            | 143 kB 40.8 MB\/s eta 0:00:01\r     |███▉                            | 153 kB 40.8 MB\/s eta 0:00:01\r     |████▏                           | 163 kB 40.8 MB\/s eta 0:00:01\r     |████▍                           | 174 kB 40.8 MB\/s eta 0:00:01\r     |████▋                           | 184 kB 40.8 MB\/s eta 0:00:01\r     |█████                           | 194 kB 40.8 MB\/s eta 0:00:01\r     |█████▏                          | 204 kB 40.8 MB\/s eta 0:00:01\r     |█████▍                          | 215 kB 40.8 MB\/s eta 0:00:01\r     |█████▊                          | 225 kB 40.8 MB\/s eta 0:00:01\r     |██████                          | 235 kB 40.8 MB\/s eta 0:00:01\r     |██████▏                         | 245 kB 40.8 MB\/s eta 0:00:01\r     |██████▌                         | 256 kB 40.8 MB\/s eta 0:00:01\r     |██████▊                         | 266 kB 40.8 MB\/s eta 0:00:01\r     |███████                         | 276 kB 40.8 MB\/s eta 0:00:01\r     |███████▏                        | 286 kB 40.8 MB\/s eta 0:00:01\r     |███████▌                        | 296 kB 40.8 MB\/s eta 0:00:01\r     |███████▊                        | 307 kB 40.8 MB\/s eta 0:00:01\r     |████████                        | 317 kB 40.8 MB\/s eta 0:00:01\r     |████████▎                       | 327 kB 40.8 MB\/s eta 0:00:01\r     |████████▌                       | 337 kB 40.8 MB\/s eta 0:00:01\r     |████████▊                       | 348 kB 40.8 MB\/s eta 0:00:01\r     |█████████                       | 358 kB 40.8 MB\/s eta 0:00:01\r     |█████████▎                      | 368 kB 40.8 MB\/s eta 0:00:01\r     |█████████▌                      | 378 kB 40.8 MB\/s eta 0:00:01\r     |█████████▉                      | 389 kB 40.8 MB\/s eta 0:00:01\r     |██████████                      | 399 kB 40.8 MB\/s eta 0:00:01\r     |██████████▎                     | 409 kB 40.8 MB\/s eta 0:00:01\r     |██████████▋                     | 419 kB 40.8 MB\/s eta 0:00:01\r     |██████████▉                     | 430 kB 40.8 MB\/s eta 0:00:01\r     |███████████                     | 440 kB 40.8 MB\/s eta 0:00:01\r     |███████████▍                    | 450 kB 40.8 MB\/s eta 0:00:01\r     |███████████▋                    | 460 kB 40.8 MB\/s eta 0:00:01\r     |███████████▉                    | 471 kB 40.8 MB\/s eta 0:00:01\r     |████████████▏                   | 481 kB 40.8 MB\/s eta 0:00:01\r     |████████████▍                   | 491 kB 40.8 MB\/s eta 0:00:01\r     |████████████▋                   | 501 kB 40.8 MB\/s eta 0:00:01\r     |█████████████                   | 512 kB 40.8 MB\/s eta 0:00:01\r     |█████████████▏                  | 522 kB 40.8 MB\/s eta 0:00:01\r     |█████████████▍                  | 532 kB 40.8 MB\/s eta 0:00:01\r     |█████████████▊                  | 542 kB 40.8 MB\/s eta 0:00:01\r     |██████████████                  | 552 kB 40.8 MB\/s eta 0:00:01\r     |██████████████▏                 | 563 kB 40.8 MB\/s eta 0:00:01\r     |██████████████▍                 | 573 kB 40.8 MB\/s eta 0:00:01\r     |██████████████▊                 | 583 kB 40.8 MB\/s eta 0:00:01\r     |███████████████                 | 593 kB 40.8 MB\/s eta 0:00:01\r     |███████████████▏                | 604 kB 40.8 MB\/s eta 0:00:01\r     |███████████████▌                | 614 kB 40.8 MB\/s eta 0:00:01\r     |███████████████▊                | 624 kB 40.8 MB\/s eta 0:00:01\r     |████████████████                | 634 kB 40.8 MB\/s eta 0:00:01\r     |████████████████▎               | 645 kB 40.8 MB\/s eta 0:00:01\r     |████████████████▌               | 655 kB 40.8 MB\/s eta 0:00:01\r     |████████████████▊               | 665 kB 40.8 MB\/s eta 0:00:01\r     |█████████████████               | 675 kB 40.8 MB\/s eta 0:00:01\r     |█████████████████▎              | 686 kB 40.8 MB\/s eta 0:00:01\r     |█████████████████▌              | 696 kB 40.8 MB\/s eta 0:00:01\r     |█████████████████▉              | 706 kB 40.8 MB\/s eta 0:00:01\r     |██████████████████              | 716 kB 40.8 MB\/s eta 0:00:01\r     |██████████████████▎             | 727 kB 40.8 MB\/s eta 0:00:01\r     |██████████████████▋             | 737 kB 40.8 MB\/s eta 0:00:01\r     |██████████████████▉             | 747 kB 40.8 MB\/s eta 0:00:01\r     |███████████████████             | 757 kB 40.8 MB\/s eta 0:00:01\r     |███████████████████▍            | 768 kB 40.8 MB\/s eta 0:00:01\r     |███████████████████▋            | 778 kB 40.8 MB\/s eta 0:00:01\r     |███████████████████▉            | 788 kB 40.8 MB\/s eta 0:00:01\r     |████████████████████▏           | 798 kB 40.8 MB\/s eta 0:00:01\r     |████████████████████▍           | 808 kB 40.8 MB\/s eta 0:00:01\r     |████████████████████▋           | 819 kB 40.8 MB\/s eta 0:00:01\r     |█████████████████████           | 829 kB 40.8 MB\/s eta 0:00:01\r     |█████████████████████▏          | 839 kB 40.8 MB\/s eta 0:00:01\r     |█████████████████████▍          | 849 kB 40.8 MB\/s eta 0:00:01\r     |█████████████████████▋          | 860 kB 40.8 MB\/s eta 0:00:01\r     |██████████████████████          | 870 kB 40.8 MB\/s eta 0:00:01\r     |██████████████████████▏         | 880 kB 40.8 MB\/s eta 0:00:01\r     |██████████████████████▍         | 890 kB 40.8 MB\/s eta 0:00:01\r     |██████████████████████▊         | 901 kB 40.8 MB\/s eta 0:00:01\r     |███████████████████████         | 911 kB 40.8 MB\/s eta 0:00:01\r     |███████████████████████▏        | 921 kB 40.8 MB\/s eta 0:00:01\r     |███████████████████████▌        | 931 kB 40.8 MB\/s eta 0:00:01\r     |███████████████████████▊        | 942 kB 40.8 MB\/s eta 0:00:01\r     |████████████████████████        | 952 kB 40.8 MB\/s eta 0:00:01\r     |████████████████████████▎       | 962 kB 40.8 MB\/s eta 0:00:01\r     |████████████████████████▌       | 972 kB 40.8 MB\/s eta 0:00:01\r     |████████████████████████▊       | 983 kB 40.8 MB\/s eta 0:00:01\r     |█████████████████████████       | 993 kB 40.8 MB\/s eta 0:00:01\r     |█████████████████████████▎      | 1.0 MB 40.8 MB\/s eta 0:00:01\r     |█████████████████████████▌      | 1.0 MB 40.8 MB\/s eta 0:00:01\r     |█████████████████████████▉      | 1.0 MB 40.8 MB\/s eta 0:00:01\r     |██████████████████████████      | 1.0 MB 40.8 MB\/s eta 0:00:01\r     |██████████████████████████▎     | 1.0 MB 40.8 MB\/s eta 0:00:01\r     |██████████████████████████▋     | 1.1 MB 40.8 MB\/s eta 0:00:01\r     |██████████████████████████▉     | 1.1 MB 40.8 MB\/s eta 0:00:01\r     |███████████████████████████     | 1.1 MB 40.8 MB\/s eta 0:00:01\r     |███████████████████████████▍    | 1.1 MB 40.8 MB\/s eta 0:00:01\r     |███████████████████████████▋    | 1.1 MB 40.8 MB\/s eta 0:00:01\r     |███████████████████████████▉    | 1.1 MB 40.8 MB\/s eta 0:00:01\r     |████████████████████████████▏   | 1.1 MB 40.8 MB\/s eta 0:00:01\r     |████████████████████████████▍   | 1.1 MB 40.8 MB\/s eta 0:00:01\r     |████████████████████████████▋   | 1.1 MB 40.8 MB\/s eta 0:00:01\r     |████████████████████████████▉   | 1.1 MB 40.8 MB\/s eta 0:00:01\r     |█████████████████████████████▏  | 1.2 MB 40.8 MB\/s eta 0:00:01\r     |█████████████████████████████▍  | 1.2 MB 40.8 MB\/s eta 0:00:01\r     |█████████████████████████████▋  | 1.2 MB 40.8 MB\/s eta 0:00:01\r     |██████████████████████████████  | 1.2 MB 40.8 MB\/s eta 0:00:01\r     |██████████████████████████████▏ | 1.2 MB 40.8 MB\/s eta 0:00:01\r     |██████████████████████████████▍ | 1.2 MB 40.8 MB\/s eta 0:00:01\r     |██████████████████████████████▊ | 1.2 MB 40.8 MB\/s eta 0:00:01\r     |███████████████████████████████ | 1.2 MB 40.8 MB\/s eta 0:00:01\r     |███████████████████████████████▏| 1.2 MB 40.8 MB\/s eta 0:00:01\r     |███████████████████████████████▌| 1.2 MB 40.8 MB\/s eta 0:00:01\r     |███████████████████████████████▊| 1.3 MB 40.8 MB\/s eta 0:00:01\r     |████████████████████████████████| 1.3 MB 40.8 MB\/s eta 0:00:01\r     |████████████████████████████████| 1.3 MB 40.8 MB\/s            \r\n",
      "\u001b[?25hInstalling collected packages: sqlalchemy\r\n",
      "Successfully installed sqlalchemy-1.3.24\r\n",
      "\u001b[33mWARNING: You are using pip version 21.3.1; however, version 22.0.4 is available.\r\n",
      "You should consider upgrading via the '\/opt\/python\/envs\/default\/bin\/python -m pip install --upgrade pip' command.\u001b[0m\r\n",
      "Collecting ipython-sql\r\n",
      "  Downloading ipython_sql-0.4.0-py3-none-any.whl (19 kB)\r\n",
      "Requirement already satisfied: ipython-genutils>=0.1.0 in \/opt\/python\/envs\/default\/lib\/python3.8\/site-packages (from ipython-sql) (0.2.0)\r\n",
      "Collecting sqlparse\r\n",
      "  Downloading sqlparse-0.4.2-py3-none-any.whl (42 kB)\r\n",
      "\u001b[?25l\r\r     |███████▊                        | 10 kB 26.8 MB\/s eta 0:00:01\r     |███████████████▌                | 20 kB 31.2 MB\/s eta 0:00:01\r     |███████████████████████▎        | 30 kB 35.5 MB\/s eta 0:00:01\r     |███████████████████████████████ | 40 kB 38.0 MB\/s eta 0:00:01\r     |████████████████████████████████| 42 kB 837 kB\/s             \r\n",
      "\u001b[?25hCollecting prettytable<1\r\n",
      "  Downloading prettytable-0.7.2.zip (28 kB)\r\n",
      "  Preparing metadata (setup.py) ... \u001b[?25l-\b \bdone\r\n",
      "\u001b[?25hRequirement already satisfied: ipython>=1.0 in \/opt\/python\/envs\/default\/lib\/python3.8\/site-packages (from ipython-sql) (7.31.1)\r\n",
      "Requirement already satisfied: sqlalchemy>=0.6.7 in \/opt\/python\/envs\/default\/lib\/python3.8\/site-packages (from ipython-sql) (1.3.24)\r\n",
      "Requirement already satisfied: six in \/opt\/python\/envs\/default\/lib\/python3.8\/site-packages (from ipython-sql) (1.16.0)\r\n",
      "Requirement already satisfied: matplotlib-inline in \/opt\/python\/envs\/default\/lib\/python3.8\/site-packages (from ipython>=1.0->ipython-sql) (0.1.3)\r\n",
      "Requirement already satisfied: backcall in \/opt\/python\/envs\/default\/lib\/python3.8\/site-packages (from ipython>=1.0->ipython-sql) (0.2.0)\r\n",
      "Requirement already satisfied: pickleshare in \/opt\/python\/envs\/default\/lib\/python3.8\/site-packages (from ipython>=1.0->ipython-sql) (0.7.5)\r\n",
      "Requirement already satisfied: prompt-toolkit!=3.0.0,!=3.0.1,<3.1.0,>=2.0.0 in \/opt\/python\/envs\/default\/lib\/python3.8\/site-packages (from ipython>=1.0->ipython-sql) (3.0.28)\r\n",
      "Requirement already satisfied: pygments in \/opt\/python\/envs\/default\/lib\/python3.8\/site-packages (from ipython>=1.0->ipython-sql) (2.11.2)\r\n",
      "Requirement already satisfied: traitlets>=4.2 in \/opt\/python\/envs\/default\/lib\/python3.8\/site-packages (from ipython>=1.0->ipython-sql) (5.1.1)\r\n",
      "Requirement already satisfied: setuptools>=18.5 in \/opt\/python\/envs\/default\/lib\/python3.8\/site-packages (from ipython>=1.0->ipython-sql) (56.0.0)\r\n",
      "Requirement already satisfied: pexpect>4.3 in \/opt\/python\/envs\/default\/lib\/python3.8\/site-packages (from ipython>=1.0->ipython-sql) (4.8.0)\r\n",
      "Requirement already satisfied: decorator in \/opt\/python\/envs\/default\/lib\/python3.8\/site-packages (from ipython>=1.0->ipython-sql) (5.1.1)\r\n",
      "Requirement already satisfied: jedi>=0.16 in \/opt\/python\/envs\/default\/lib\/python3.8\/site-packages (from ipython>=1.0->ipython-sql) (0.17.2)\r\n",
      "Requirement already satisfied: parso<0.8.0,>=0.7.0 in \/opt\/python\/envs\/default\/lib\/python3.8\/site-packages (from jedi>=0.16->ipython>=1.0->ipython-sql) (0.7.1)\r\n",
      "Requirement already satisfied: ptyprocess>=0.5 in \/opt\/python\/envs\/default\/lib\/python3.8\/site-packages (from pexpect>4.3->ipython>=1.0->ipython-sql) (0.7.0)\r\n",
      "Requirement already satisfied: wcwidth in \/opt\/python\/envs\/default\/lib\/python3.8\/site-packages (from prompt-toolkit!=3.0.0,!=3.0.1,<3.1.0,>=2.0.0->ipython>=1.0->ipython-sql) (0.2.5)\r\n",
      "Building wheels for collected packages: prettytable\r\n",
      "  Building wheel for prettytable (setup.py) ... \u001b[?25l-\b \bdone\r\n",
      "\u001b[?25h  Created wheel for prettytable: filename=prettytable-0.7.2-py3-none-any.whl size=13699 sha256=79dfc66c668ad37827e9a25819684edd2ae42916c62689fad512aac7abfae67c\r\n",
      "  Stored in directory: \/home\/datalore\/.cache\/pip\/wheels\/48\/6d\/77\/9517cb933af254f51a446f1a5ec9c2be3e45f17384940bce68\r\n",
      "Successfully built prettytable\r\n",
      "Installing collected packages: sqlparse, prettytable, ipython-sql\r\n",
      "Successfully installed ipython-sql-0.4.0 prettytable-0.7.2 sqlparse-0.4.2\r\n",
      "\u001b[33mWARNING: You are using pip version 21.3.1; however, version 22.0.4 is available.\r\n",
      "You should consider upgrading via the '\/opt\/python\/envs\/default\/bin\/python -m pip install --upgrade pip' command.\u001b[0m\r\n"
     ],
     "output_type":"stream"
    }
   ],
   "metadata":{
    "datalore":{
     "type":"CODE",
     "hide_input_from_viewers":false,
     "hide_output_from_viewers":false
    }
   }
  },
  {
   "cell_type":"code",
   "source":[
    "import pandas as pd\n",
    "import matplotlib.pyplot as plt\n",
    "import matplotlib as mlp\n",
    "%matplotlib inline\n",
    "import seaborn as sns"
   ],
   "execution_count":5,
   "outputs":[
    
   ],
   "metadata":{
    "datalore":{
     "type":"CODE",
     "hide_input_from_viewers":false,
     "hide_output_from_viewers":false
    }
   }
  },
  {
   "cell_type":"code",
   "source":[
    "%load_ext sql"
   ],
   "execution_count":6,
   "outputs":[
    
   ],
   "metadata":{
    "datalore":{
     "type":"CODE",
     "hide_input_from_viewers":false,
     "hide_output_from_viewers":false
    }
   }
  },
  {
   "cell_type":"code",
   "source":[
    "%sql ibm_db_sa:\/\/fll09902:zYyCJdgrLqPHagh7@ea286ace-86c7-4d5b-8580-3fbfa46b1c66.bs2io90l08kqb1od8lcg.databases.appdomain.cloud:31505\/BLUDB?security=SSL\n",
    "\n",
    "%sql ibm_db_sa:\/\/"
   ],
   "execution_count":7,
   "outputs":[
    
   ],
   "metadata":{
    "datalore":{
     "type":"CODE",
     "hide_input_from_viewers":false,
     "hide_output_from_viewers":false
    }
   }
  },
  {
   "cell_type":"code",
   "source":[
    "%sql select * from chi_school limit 3"
   ],
   "execution_count":24,
   "outputs":[
    {
     "name":"stdout",
     "text":[
      " * ibm_db_sa:\/\/fll09902:***@ea286ace-86c7-4d5b-8580-3fbfa46b1c66.bs2io90l08kqb1od8lcg.databases.appdomain.cloud:31505\/BLUDB\n",
      "Done.\n"
     ],
     "output_type":"stream"
    },
    {
     "data":{
      "text\/html":[
       "<table>\n",
       "    <tr>\n",
       "        <th>school_id<\/th>\n",
       "        <th>name_of_school<\/th>\n",
       "        <th>Elementary, Middle, or High School<\/th>\n",
       "        <th>street_address<\/th>\n",
       "        <th>city<\/th>\n",
       "        <th>state<\/th>\n",
       "        <th>zip_code<\/th>\n",
       "        <th>phone_number<\/th>\n",
       "        <th>link<\/th>\n",
       "        <th>network_manager<\/th>\n",
       "        <th>collaborative_name<\/th>\n",
       "        <th>adequate_yearly_progress_made_<\/th>\n",
       "        <th>track_schedule<\/th>\n",
       "        <th>cps_performance_policy_status<\/th>\n",
       "        <th>cps_performance_policy_level<\/th>\n",
       "        <th>healthy_school_certified<\/th>\n",
       "        <th>safety_icon<\/th>\n",
       "        <th>safety_score<\/th>\n",
       "        <th>family_involvement_icon<\/th>\n",
       "        <th>family_involvement_score<\/th>\n",
       "        <th>environment_icon<\/th>\n",
       "        <th>environment_score<\/th>\n",
       "        <th>instruction_icon<\/th>\n",
       "        <th>instruction_score<\/th>\n",
       "        <th>leaders_icon<\/th>\n",
       "        <th>leaders_score<\/th>\n",
       "        <th>teachers_icon<\/th>\n",
       "        <th>teachers_score<\/th>\n",
       "        <th>parent_engagement_icon<\/th>\n",
       "        <th>parent_engagement_score<\/th>\n",
       "        <th>parent_environment_icon<\/th>\n",
       "        <th>parent_environment_score<\/th>\n",
       "        <th>average_student_attendance<\/th>\n",
       "        <th>rate_of_misconducts__per_100_students_<\/th>\n",
       "        <th>average_teacher_attendance<\/th>\n",
       "        <th>individualized_education_program_compliance_rate<\/th>\n",
       "        <th>pk_2_literacy__<\/th>\n",
       "        <th>pk_2_math__<\/th>\n",
       "        <th>gr3_5_grade_level_math__<\/th>\n",
       "        <th>gr3_5_grade_level_read__<\/th>\n",
       "        <th>gr3_5_keep_pace_read__<\/th>\n",
       "        <th>gr3_5_keep_pace_math__<\/th>\n",
       "        <th>gr6_8_grade_level_math__<\/th>\n",
       "        <th>gr6_8_grade_level_read__<\/th>\n",
       "        <th>gr6_8_keep_pace_math_<\/th>\n",
       "        <th>gr6_8_keep_pace_read__<\/th>\n",
       "        <th>gr_8_explore_math__<\/th>\n",
       "        <th>gr_8_explore_read__<\/th>\n",
       "        <th>isat_exceeding_math__<\/th>\n",
       "        <th>isat_exceeding_reading__<\/th>\n",
       "        <th>isat_value_add_math<\/th>\n",
       "        <th>isat_value_add_read<\/th>\n",
       "        <th>isat_value_add_color_math<\/th>\n",
       "        <th>isat_value_add_color_read<\/th>\n",
       "        <th>students_taking__algebra__<\/th>\n",
       "        <th>students_passing__algebra__<\/th>\n",
       "        <th>9th Grade EXPLORE (2009)<\/th>\n",
       "        <th>9th Grade EXPLORE (2010)<\/th>\n",
       "        <th>10th Grade PLAN (2009)<\/th>\n",
       "        <th>10th Grade PLAN (2010)<\/th>\n",
       "        <th>net_change_explore_and_plan<\/th>\n",
       "        <th>11th Grade Average ACT (2011)<\/th>\n",
       "        <th>net_change_plan_and_act<\/th>\n",
       "        <th>college_eligibility__<\/th>\n",
       "        <th>graduation_rate__<\/th>\n",
       "        <th>college_enrollment_rate__<\/th>\n",
       "        <th>college_enrollment<\/th>\n",
       "        <th>general_services_route<\/th>\n",
       "        <th>freshman_on_track_rate__<\/th>\n",
       "        <th>x_coordinate<\/th>\n",
       "        <th>y_coordinate<\/th>\n",
       "        <th>latitude<\/th>\n",
       "        <th>longitude<\/th>\n",
       "        <th>community_area_number<\/th>\n",
       "        <th>community_area_name<\/th>\n",
       "        <th>ward<\/th>\n",
       "        <th>police_district<\/th>\n",
       "        <th>location<\/th>\n",
       "    <\/tr>\n",
       "    <tr>\n",
       "        <td>610038<\/td>\n",
       "        <td>Abraham Lincoln Elementary School<\/td>\n",
       "        <td>ES<\/td>\n",
       "        <td>615 W Kemper Pl<\/td>\n",
       "        <td>Chicago<\/td>\n",
       "        <td>IL<\/td>\n",
       "        <td>60614<\/td>\n",
       "        <td>(773) 534-5720<\/td>\n",
       "        <td>http:\/\/schoolreports.cps.edu\/SchoolProgressReport_Eng\/Spring2011Eng_610038.pdf<\/td>\n",
       "        <td>Fullerton Elementary Network<\/td>\n",
       "        <td>NORTH-NORTHWEST SIDE COLLABORATIVE<\/td>\n",
       "        <td>No<\/td>\n",
       "        <td>Standard<\/td>\n",
       "        <td>Not on Probation<\/td>\n",
       "        <td>Level 1<\/td>\n",
       "        <td>Yes<\/td>\n",
       "        <td>Very Strong<\/td>\n",
       "        <td>99<\/td>\n",
       "        <td>Very Strong<\/td>\n",
       "        <td>99<\/td>\n",
       "        <td>Strong<\/td>\n",
       "        <td>74<\/td>\n",
       "        <td>Strong<\/td>\n",
       "        <td>66<\/td>\n",
       "        <td>Weak<\/td>\n",
       "        <td>65<\/td>\n",
       "        <td>Strong<\/td>\n",
       "        <td>70<\/td>\n",
       "        <td>Strong<\/td>\n",
       "        <td>56<\/td>\n",
       "        <td>Average<\/td>\n",
       "        <td>47<\/td>\n",
       "        <td>96.00%<\/td>\n",
       "        <td>2.0<\/td>\n",
       "        <td>96.40%<\/td>\n",
       "        <td>95.80%<\/td>\n",
       "        <td>80.1<\/td>\n",
       "        <td>43.3<\/td>\n",
       "        <td>89.6<\/td>\n",
       "        <td>84.9<\/td>\n",
       "        <td>60.7<\/td>\n",
       "        <td>62.6<\/td>\n",
       "        <td>81.9<\/td>\n",
       "        <td>85.2<\/td>\n",
       "        <td>52<\/td>\n",
       "        <td>62.4<\/td>\n",
       "        <td>66.3<\/td>\n",
       "        <td>77.9<\/td>\n",
       "        <td>69.7<\/td>\n",
       "        <td>64.4<\/td>\n",
       "        <td>0.2<\/td>\n",
       "        <td>0.9<\/td>\n",
       "        <td>Yellow<\/td>\n",
       "        <td>Green<\/td>\n",
       "        <td>67.1<\/td>\n",
       "        <td>54.5<\/td>\n",
       "        <td>NDA<\/td>\n",
       "        <td>NDA<\/td>\n",
       "        <td>NDA<\/td>\n",
       "        <td>NDA<\/td>\n",
       "        <td>NDA<\/td>\n",
       "        <td>NDA<\/td>\n",
       "        <td>NDA<\/td>\n",
       "        <td>NDA<\/td>\n",
       "        <td>NDA<\/td>\n",
       "        <td>NDA<\/td>\n",
       "        <td>813<\/td>\n",
       "        <td>33<\/td>\n",
       "        <td>NDA<\/td>\n",
       "        <td>1171699.458<\/td>\n",
       "        <td>1915829.428<\/td>\n",
       "        <td>41.92449696<\/td>\n",
       "        <td>-87.64452163<\/td>\n",
       "        <td>7<\/td>\n",
       "        <td>LINCOLN PARK<\/td>\n",
       "        <td>43<\/td>\n",
       "        <td>18<\/td>\n",
       "        <td>(41.92449696, -87.64452163)<\/td>\n",
       "    <\/tr>\n",
       "    <tr>\n",
       "        <td>610281<\/td>\n",
       "        <td>Adam Clayton Powell Paideia Community Academy Elementary School<\/td>\n",
       "        <td>ES<\/td>\n",
       "        <td>7511 S South Shore Dr<\/td>\n",
       "        <td>Chicago<\/td>\n",
       "        <td>IL<\/td>\n",
       "        <td>60649<\/td>\n",
       "        <td>(773) 535-6650<\/td>\n",
       "        <td>http:\/\/schoolreports.cps.edu\/SchoolProgressReport_Eng\/Spring2011Eng_610281.pdf<\/td>\n",
       "        <td>Skyway Elementary Network<\/td>\n",
       "        <td>SOUTH SIDE COLLABORATIVE<\/td>\n",
       "        <td>No<\/td>\n",
       "        <td>Track_E<\/td>\n",
       "        <td>Not on Probation<\/td>\n",
       "        <td>Level 1<\/td>\n",
       "        <td>No<\/td>\n",
       "        <td>Average<\/td>\n",
       "        <td>54<\/td>\n",
       "        <td>Strong<\/td>\n",
       "        <td>66<\/td>\n",
       "        <td>Strong<\/td>\n",
       "        <td>74<\/td>\n",
       "        <td>Very Strong<\/td>\n",
       "        <td>84<\/td>\n",
       "        <td>Weak<\/td>\n",
       "        <td>63<\/td>\n",
       "        <td>Strong<\/td>\n",
       "        <td>76<\/td>\n",
       "        <td>Weak<\/td>\n",
       "        <td>46<\/td>\n",
       "        <td>Average<\/td>\n",
       "        <td>50<\/td>\n",
       "        <td>95.60%<\/td>\n",
       "        <td>15.7<\/td>\n",
       "        <td>95.30%<\/td>\n",
       "        <td>100.00%<\/td>\n",
       "        <td>62.4<\/td>\n",
       "        <td>51.7<\/td>\n",
       "        <td>21.9<\/td>\n",
       "        <td>15.1<\/td>\n",
       "        <td>29<\/td>\n",
       "        <td>42.8<\/td>\n",
       "        <td>38.5<\/td>\n",
       "        <td>27.4<\/td>\n",
       "        <td>44.8<\/td>\n",
       "        <td>42.7<\/td>\n",
       "        <td>14.1<\/td>\n",
       "        <td>34.4<\/td>\n",
       "        <td>16.8<\/td>\n",
       "        <td>16.5<\/td>\n",
       "        <td>0.7<\/td>\n",
       "        <td>1.4<\/td>\n",
       "        <td>Green<\/td>\n",
       "        <td>Green<\/td>\n",
       "        <td>17.2<\/td>\n",
       "        <td>27.3<\/td>\n",
       "        <td>NDA<\/td>\n",
       "        <td>NDA<\/td>\n",
       "        <td>NDA<\/td>\n",
       "        <td>NDA<\/td>\n",
       "        <td>NDA<\/td>\n",
       "        <td>NDA<\/td>\n",
       "        <td>NDA<\/td>\n",
       "        <td>NDA<\/td>\n",
       "        <td>NDA<\/td>\n",
       "        <td>NDA<\/td>\n",
       "        <td>521<\/td>\n",
       "        <td>46<\/td>\n",
       "        <td>NDA<\/td>\n",
       "        <td>1196129.985<\/td>\n",
       "        <td>1856209.466<\/td>\n",
       "        <td>41.76032435<\/td>\n",
       "        <td>-87.55673627<\/td>\n",
       "        <td>43<\/td>\n",
       "        <td>SOUTH SHORE<\/td>\n",
       "        <td>7<\/td>\n",
       "        <td>4<\/td>\n",
       "        <td>(41.76032435, -87.55673627)<\/td>\n",
       "    <\/tr>\n",
       "    <tr>\n",
       "        <td>610185<\/td>\n",
       "        <td>Adlai E Stevenson Elementary School<\/td>\n",
       "        <td>ES<\/td>\n",
       "        <td>8010 S Kostner Ave<\/td>\n",
       "        <td>Chicago<\/td>\n",
       "        <td>IL<\/td>\n",
       "        <td>60652<\/td>\n",
       "        <td>(773) 535-2280<\/td>\n",
       "        <td>http:\/\/schoolreports.cps.edu\/SchoolProgressReport_Eng\/Spring2011Eng_610185.pdf<\/td>\n",
       "        <td>Midway Elementary Network<\/td>\n",
       "        <td>SOUTHWEST SIDE COLLABORATIVE<\/td>\n",
       "        <td>No<\/td>\n",
       "        <td>Standard<\/td>\n",
       "        <td>Not on Probation<\/td>\n",
       "        <td>Level 2<\/td>\n",
       "        <td>No<\/td>\n",
       "        <td>Strong<\/td>\n",
       "        <td>61<\/td>\n",
       "        <td>NDA<\/td>\n",
       "        <td>NDA<\/td>\n",
       "        <td>Average<\/td>\n",
       "        <td>50<\/td>\n",
       "        <td>Weak<\/td>\n",
       "        <td>36<\/td>\n",
       "        <td>Weak<\/td>\n",
       "        <td>NDA<\/td>\n",
       "        <td>NDA<\/td>\n",
       "        <td>NDA<\/td>\n",
       "        <td>Average<\/td>\n",
       "        <td>47<\/td>\n",
       "        <td>Weak<\/td>\n",
       "        <td>41<\/td>\n",
       "        <td>95.70%<\/td>\n",
       "        <td>2.3<\/td>\n",
       "        <td>94.70%<\/td>\n",
       "        <td>98.30%<\/td>\n",
       "        <td>53.7<\/td>\n",
       "        <td>26.6<\/td>\n",
       "        <td>38.3<\/td>\n",
       "        <td>34.7<\/td>\n",
       "        <td>43.7<\/td>\n",
       "        <td>57.3<\/td>\n",
       "        <td>48.8<\/td>\n",
       "        <td>39.2<\/td>\n",
       "        <td>46.8<\/td>\n",
       "        <td>44<\/td>\n",
       "        <td>7.5<\/td>\n",
       "        <td>21.9<\/td>\n",
       "        <td>18.3<\/td>\n",
       "        <td>15.5<\/td>\n",
       "        <td>-0.9<\/td>\n",
       "        <td>-1.0<\/td>\n",
       "        <td>Red<\/td>\n",
       "        <td>Red<\/td>\n",
       "        <td>NDA<\/td>\n",
       "        <td>NDA<\/td>\n",
       "        <td>NDA<\/td>\n",
       "        <td>NDA<\/td>\n",
       "        <td>NDA<\/td>\n",
       "        <td>NDA<\/td>\n",
       "        <td>NDA<\/td>\n",
       "        <td>NDA<\/td>\n",
       "        <td>NDA<\/td>\n",
       "        <td>NDA<\/td>\n",
       "        <td>NDA<\/td>\n",
       "        <td>NDA<\/td>\n",
       "        <td>1324<\/td>\n",
       "        <td>44<\/td>\n",
       "        <td>NDA<\/td>\n",
       "        <td>1148427.165<\/td>\n",
       "        <td>1851012.215<\/td>\n",
       "        <td>41.74711093<\/td>\n",
       "        <td>-87.73170248<\/td>\n",
       "        <td>70<\/td>\n",
       "        <td>ASHBURN<\/td>\n",
       "        <td>13<\/td>\n",
       "        <td>8<\/td>\n",
       "        <td>(41.74711093, -87.73170248)<\/td>\n",
       "    <\/tr>\n",
       "<\/table>"
      ]
     },
     "metadata":{
      
     },
     "output_type":"display_data"
    }
   ],
   "metadata":{
    "datalore":{
     "type":"CODE",
     "hide_input_from_viewers":false,
     "hide_output_from_viewers":false
    }
   }
  },
  {
   "cell_type":"markdown",
   "source":[
    "## **Which School has higher college enrollment rate?**"
   ],
   "attachments":{
    
   },
   "metadata":{
    "datalore":{
     "type":"MD",
     "hide_input_from_viewers":false,
     "hide_output_from_viewers":false
    }
   }
  },
  {
   "cell_type":"code",
   "source":[
    "%%sql select \"Elementary, Middle, or High School\", sum(college_enrollment) as total_college_enrollments \n",
    "from chi_school group by \"Elementary, Middle, or High School\""
   ],
   "execution_count":16,
   "outputs":[
    {
     "name":"stdout",
     "text":[
      " * ibm_db_sa:\/\/fll09902:***@ea286ace-86c7-4d5b-8580-3fbfa46b1c66.bs2io90l08kqb1od8lcg.databases.appdomain.cloud:31505\/BLUDB\n",
      "Done.\n"
     ],
     "output_type":"stream"
    },
    {
     "data":{
      "text\/html":[
       "<table>\n",
       "    <tr>\n",
       "        <th>Elementary, Middle, or High School<\/th>\n",
       "        <th>total_college_enrollments<\/th>\n",
       "    <\/tr>\n",
       "    <tr>\n",
       "        <td>ES<\/td>\n",
       "        <td>258943<\/td>\n",
       "    <\/tr>\n",
       "    <tr>\n",
       "        <td>HS<\/td>\n",
       "        <td>90130<\/td>\n",
       "    <\/tr>\n",
       "    <tr>\n",
       "        <td>MS<\/td>\n",
       "        <td>5273<\/td>\n",
       "    <\/tr>\n",
       "<\/table>"
      ]
     },
     "metadata":{
      
     },
     "output_type":"display_data"
    }
   ],
   "metadata":{
    "datalore":{
     "type":"CODE",
     "hide_input_from_viewers":false,
     "hide_output_from_viewers":false
    }
   }
  },
  {
   "cell_type":"markdown",
   "source":[
    "## **Which Community area name has higher college enrollment rate?**\n",
    "**Top 10**"
   ],
   "attachments":{
    
   },
   "metadata":{
    "datalore":{
     "type":"MD",
     "hide_input_from_viewers":false,
     "hide_output_from_viewers":false
    }
   }
  },
  {
   "cell_type":"code",
   "source":[
    "%%sql select Community_area_name, sum(college_enrollment) as total_college_enrollments \n",
    "from chi_school group by community_area_name order by 2 limit 10"
   ],
   "execution_count":19,
   "outputs":[
    {
     "name":"stdout",
     "text":[
      " * ibm_db_sa:\/\/fll09902:***@ea286ace-86c7-4d5b-8580-3fbfa46b1c66.bs2io90l08kqb1od8lcg.databases.appdomain.cloud:31505\/BLUDB\n",
      "Done.\n"
     ],
     "output_type":"stream"
    },
    {
     "data":{
      "text\/html":[
       "<table>\n",
       "    <tr>\n",
       "        <th>community_area_name<\/th>\n",
       "        <th>total_college_enrollments<\/th>\n",
       "    <\/tr>\n",
       "    <tr>\n",
       "        <td>OAKLAND<\/td>\n",
       "        <td>140<\/td>\n",
       "    <\/tr>\n",
       "    <tr>\n",
       "        <td>FULLER PARK<\/td>\n",
       "        <td>531<\/td>\n",
       "    <\/tr>\n",
       "    <tr>\n",
       "        <td>BURNSIDE<\/td>\n",
       "        <td>549<\/td>\n",
       "    <\/tr>\n",
       "    <tr>\n",
       "        <td>OHARE<\/td>\n",
       "        <td>786<\/td>\n",
       "    <\/tr>\n",
       "    <tr>\n",
       "        <td>LOOP<\/td>\n",
       "        <td>871<\/td>\n",
       "    <\/tr>\n",
       "    <tr>\n",
       "        <td>EDISON PARK<\/td>\n",
       "        <td>910<\/td>\n",
       "    <\/tr>\n",
       "    <tr>\n",
       "        <td>HEGEWISCH<\/td>\n",
       "        <td>963<\/td>\n",
       "    <\/tr>\n",
       "    <tr>\n",
       "        <td>MONTCLARE<\/td>\n",
       "        <td>1317<\/td>\n",
       "    <\/tr>\n",
       "    <tr>\n",
       "        <td>NEAR SOUTH SIDE<\/td>\n",
       "        <td>1378<\/td>\n",
       "    <\/tr>\n",
       "    <tr>\n",
       "        <td>FOREST GLEN<\/td>\n",
       "        <td>1431<\/td>\n",
       "    <\/tr>\n",
       "<\/table>"
      ]
     },
     "metadata":{
      
     },
     "output_type":"display_data"
    }
   ],
   "metadata":{
    "datalore":{
     "type":"CODE",
     "hide_input_from_viewers":false,
     "hide_output_from_viewers":false
    }
   }
  },
  {
   "cell_type":"markdown",
   "source":[
    "## **Analyzing Schools with highest average students attendance, teacher attendance, safety scrore, and parent engaement**"
   ],
   "attachments":{
    
   },
   "metadata":{
    "datalore":{
     "type":"MD",
     "hide_input_from_viewers":false,
     "hide_output_from_viewers":false
    }
   }
  },
  {
   "cell_type":"code",
   "source":[
    "%%sql select name_of_school,\"Elementary, Middle, or High School\",average_student_attendance from chi_school where average_student_attendance in \n",
    "(select max(average_student_attendance) from chi_school)"
   ],
   "execution_count":38,
   "outputs":[
    {
     "name":"stdout",
     "text":[
      " * ibm_db_sa:\/\/fll09902:***@ea286ace-86c7-4d5b-8580-3fbfa46b1c66.bs2io90l08kqb1od8lcg.databases.appdomain.cloud:31505\/BLUDB\n",
      "Done.\n"
     ],
     "output_type":"stream"
    },
    {
     "data":{
      "text\/html":[
       "<table>\n",
       "    <tr>\n",
       "        <th>name_of_school<\/th>\n",
       "        <th>Elementary, Middle, or High School<\/th>\n",
       "        <th>average_student_attendance<\/th>\n",
       "    <\/tr>\n",
       "    <tr>\n",
       "        <td>John Charles Haines Elementary School<\/td>\n",
       "        <td>ES<\/td>\n",
       "        <td>98.40%<\/td>\n",
       "    <\/tr>\n",
       "<\/table>"
      ]
     },
     "metadata":{
      
     },
     "output_type":"display_data"
    }
   ],
   "metadata":{
    "datalore":{
     "type":"CODE",
     "hide_input_from_viewers":false,
     "hide_output_from_viewers":false
    }
   }
  },
  {
   "cell_type":"markdown",
   "source":[
    "**TOP 5 SCHOOLS WITH HIGHEST AVERAGE STUDENT ATTENDANCE**"
   ],
   "attachments":{
    
   },
   "metadata":{
    "datalore":{
     "type":"MD",
     "hide_input_from_viewers":false,
     "hide_output_from_viewers":false
    }
   }
  },
  {
   "cell_type":"code",
   "source":[
    "%%sql select name_of_school,\"Elementary, Middle, or High School\",average_student_attendance \n",
    "from chi_school where average_student_attendance is not null order by average_student_attendance  desc  limit  5"
   ],
   "execution_count":40,
   "outputs":[
    {
     "name":"stdout",
     "text":[
      " * ibm_db_sa:\/\/fll09902:***@ea286ace-86c7-4d5b-8580-3fbfa46b1c66.bs2io90l08kqb1od8lcg.databases.appdomain.cloud:31505\/BLUDB\n",
      "Done.\n"
     ],
     "output_type":"stream"
    },
    {
     "data":{
      "text\/html":[
       "<table>\n",
       "    <tr>\n",
       "        <th>name_of_school<\/th>\n",
       "        <th>Elementary, Middle, or High School<\/th>\n",
       "        <th>average_student_attendance<\/th>\n",
       "    <\/tr>\n",
       "    <tr>\n",
       "        <td>John Charles Haines Elementary School<\/td>\n",
       "        <td>ES<\/td>\n",
       "        <td>98.40%<\/td>\n",
       "    <\/tr>\n",
       "    <tr>\n",
       "        <td>James Ward Elementary School<\/td>\n",
       "        <td>ES<\/td>\n",
       "        <td>97.80%<\/td>\n",
       "    <\/tr>\n",
       "    <tr>\n",
       "        <td>Edgar Allan Poe Elementary Classical School<\/td>\n",
       "        <td>ES<\/td>\n",
       "        <td>97.60%<\/td>\n",
       "    <\/tr>\n",
       "    <tr>\n",
       "        <td>Rachel Carson Elementary School<\/td>\n",
       "        <td>ES<\/td>\n",
       "        <td>97.60%<\/td>\n",
       "    <\/tr>\n",
       "    <tr>\n",
       "        <td>Orozco Fine Arts &amp; Sciences Elementary School<\/td>\n",
       "        <td>ES<\/td>\n",
       "        <td>97.60%<\/td>\n",
       "    <\/tr>\n",
       "<\/table>"
      ]
     },
     "metadata":{
      
     },
     "output_type":"display_data"
    }
   ],
   "metadata":{
    "datalore":{
     "type":"CODE",
     "hide_input_from_viewers":false,
     "hide_output_from_viewers":false
    }
   }
  },
  {
   "cell_type":"code",
   "source":[
    "%%sql select name_of_school,\"Elementary, Middle, or High School\",average_teacher_attendance from chi_school where average_teacher_attendance in \n",
    "(select max(average_teacher_attendance) from chi_school)"
   ],
   "execution_count":41,
   "outputs":[
    {
     "name":"stdout",
     "text":[
      " * ibm_db_sa:\/\/fll09902:***@ea286ace-86c7-4d5b-8580-3fbfa46b1c66.bs2io90l08kqb1od8lcg.databases.appdomain.cloud:31505\/BLUDB\n",
      "Done.\n"
     ],
     "output_type":"stream"
    },
    {
     "data":{
      "text\/html":[
       "<table>\n",
       "    <tr>\n",
       "        <th>name_of_school<\/th>\n",
       "        <th>Elementary, Middle, or High School<\/th>\n",
       "        <th>average_teacher_attendance<\/th>\n",
       "    <\/tr>\n",
       "    <tr>\n",
       "        <td>Lazaro Cardenas Elementary School<\/td>\n",
       "        <td>ES<\/td>\n",
       "        <td>98.50%<\/td>\n",
       "    <\/tr>\n",
       "<\/table>"
      ]
     },
     "metadata":{
      
     },
     "output_type":"display_data"
    }
   ],
   "metadata":{
    "datalore":{
     "type":"CODE",
     "hide_input_from_viewers":false,
     "hide_output_from_viewers":false
    }
   }
  },
  {
   "cell_type":"markdown",
   "source":[
    "### **TOP 5 SCHOOLS WITH HIGHEST AVERAGE TEACHER ATTENDANCE**"
   ],
   "attachments":{
    
   },
   "metadata":{
    "datalore":{
     "type":"MD",
     "hide_input_from_viewers":false,
     "hide_output_from_viewers":false
    }
   }
  },
  {
   "cell_type":"code",
   "source":[
    "%%sql select name_of_school,\"Elementary, Middle, or High School\",average_teacher_attendance from chi_school where average_teacher_attendance is not null \n",
    "order by average_teacher_attendance desc limit 5"
   ],
   "execution_count":42,
   "outputs":[
    {
     "name":"stdout",
     "text":[
      " * ibm_db_sa:\/\/fll09902:***@ea286ace-86c7-4d5b-8580-3fbfa46b1c66.bs2io90l08kqb1od8lcg.databases.appdomain.cloud:31505\/BLUDB\n",
      "Done.\n"
     ],
     "output_type":"stream"
    },
    {
     "data":{
      "text\/html":[
       "<table>\n",
       "    <tr>\n",
       "        <th>name_of_school<\/th>\n",
       "        <th>Elementary, Middle, or High School<\/th>\n",
       "        <th>average_teacher_attendance<\/th>\n",
       "    <\/tr>\n",
       "    <tr>\n",
       "        <td>Lazaro Cardenas Elementary School<\/td>\n",
       "        <td>ES<\/td>\n",
       "        <td>98.50%<\/td>\n",
       "    <\/tr>\n",
       "    <tr>\n",
       "        <td>George W Curtis Elementary School<\/td>\n",
       "        <td>ES<\/td>\n",
       "        <td>98.10%<\/td>\n",
       "    <\/tr>\n",
       "    <tr>\n",
       "        <td>Louis Armstrong Math &amp; Science Elementary School<\/td>\n",
       "        <td>ES<\/td>\n",
       "        <td>97.90%<\/td>\n",
       "    <\/tr>\n",
       "    <tr>\n",
       "        <td>Lenart Elementary Regional Gifted Center<\/td>\n",
       "        <td>ES<\/td>\n",
       "        <td>97.80%<\/td>\n",
       "    <\/tr>\n",
       "    <tr>\n",
       "        <td>Mark Twain Elementary School<\/td>\n",
       "        <td>ES<\/td>\n",
       "        <td>97.80%<\/td>\n",
       "    <\/tr>\n",
       "<\/table>"
      ]
     },
     "metadata":{
      
     },
     "output_type":"display_data"
    }
   ],
   "metadata":{
    "datalore":{
     "type":"CODE",
     "hide_input_from_viewers":false,
     "hide_output_from_viewers":false
    }
   }
  },
  {
   "cell_type":"markdown",
   "source":[
    "# **Schools with highest safety score**"
   ],
   "attachments":{
    
   },
   "metadata":{
    "datalore":{
     "type":"MD",
     "hide_input_from_viewers":false,
     "hide_output_from_viewers":false
    }
   }
  },
  {
   "cell_type":"code",
   "source":[
    "%%sql select name_of_school,\"Elementary, Middle, or High School\",safety_score from chi_school where safety_score is not null \n",
    "order by safety_score desc limit 5"
   ],
   "execution_count":43,
   "outputs":[
    {
     "name":"stdout",
     "text":[
      " * ibm_db_sa:\/\/fll09902:***@ea286ace-86c7-4d5b-8580-3fbfa46b1c66.bs2io90l08kqb1od8lcg.databases.appdomain.cloud:31505\/BLUDB\n",
      "Done.\n"
     ],
     "output_type":"stream"
    },
    {
     "data":{
      "text\/html":[
       "<table>\n",
       "    <tr>\n",
       "        <th>name_of_school<\/th>\n",
       "        <th>Elementary, Middle, or High School<\/th>\n",
       "        <th>safety_score<\/th>\n",
       "    <\/tr>\n",
       "    <tr>\n",
       "        <td>Abraham Lincoln Elementary School<\/td>\n",
       "        <td>ES<\/td>\n",
       "        <td>99<\/td>\n",
       "    <\/tr>\n",
       "    <tr>\n",
       "        <td>Edgar Allan Poe Elementary Classical School<\/td>\n",
       "        <td>ES<\/td>\n",
       "        <td>99<\/td>\n",
       "    <\/tr>\n",
       "    <tr>\n",
       "        <td>Augustus H Burley Elementary School<\/td>\n",
       "        <td>ES<\/td>\n",
       "        <td>99<\/td>\n",
       "    <\/tr>\n",
       "    <tr>\n",
       "        <td>Annie Keller Elementary Gifted Magnet School<\/td>\n",
       "        <td>ES<\/td>\n",
       "        <td>99<\/td>\n",
       "    <\/tr>\n",
       "    <tr>\n",
       "        <td>Alexander Graham Bell Elementary School<\/td>\n",
       "        <td>ES<\/td>\n",
       "        <td>99<\/td>\n",
       "    <\/tr>\n",
       "<\/table>"
      ]
     },
     "metadata":{
      
     },
     "output_type":"display_data"
    }
   ],
   "metadata":{
    "datalore":{
     "type":"CODE",
     "hide_input_from_viewers":false,
     "hide_output_from_viewers":false
    }
   }
  },
  {
   "cell_type":"code",
   "source":[
    "%%sql select name_of_school,\"Elementary, Middle, or High School\",safety_score from chi_school where safety_score in \n",
    "(select max(safety_score) from chi_school) "
   ],
   "execution_count":45,
   "outputs":[
    {
     "name":"stdout",
     "text":[
      " * ibm_db_sa:\/\/fll09902:***@ea286ace-86c7-4d5b-8580-3fbfa46b1c66.bs2io90l08kqb1od8lcg.databases.appdomain.cloud:31505\/BLUDB\n",
      "Done.\n"
     ],
     "output_type":"stream"
    },
    {
     "data":{
      "text\/html":[
       "<table>\n",
       "    <tr>\n",
       "        <th>name_of_school<\/th>\n",
       "        <th>Elementary, Middle, or High School<\/th>\n",
       "        <th>safety_score<\/th>\n",
       "    <\/tr>\n",
       "    <tr>\n",
       "        <td>Abraham Lincoln Elementary School<\/td>\n",
       "        <td>ES<\/td>\n",
       "        <td>99<\/td>\n",
       "    <\/tr>\n",
       "    <tr>\n",
       "        <td>Alexander Graham Bell Elementary School<\/td>\n",
       "        <td>ES<\/td>\n",
       "        <td>99<\/td>\n",
       "    <\/tr>\n",
       "    <tr>\n",
       "        <td>Annie Keller Elementary Gifted Magnet School<\/td>\n",
       "        <td>ES<\/td>\n",
       "        <td>99<\/td>\n",
       "    <\/tr>\n",
       "    <tr>\n",
       "        <td>Augustus H Burley Elementary School<\/td>\n",
       "        <td>ES<\/td>\n",
       "        <td>99<\/td>\n",
       "    <\/tr>\n",
       "    <tr>\n",
       "        <td>Edgar Allan Poe Elementary Classical School<\/td>\n",
       "        <td>ES<\/td>\n",
       "        <td>99<\/td>\n",
       "    <\/tr>\n",
       "    <tr>\n",
       "        <td>Edgebrook Elementary School<\/td>\n",
       "        <td>ES<\/td>\n",
       "        <td>99<\/td>\n",
       "    <\/tr>\n",
       "    <tr>\n",
       "        <td>Ellen Mitchell Elementary School<\/td>\n",
       "        <td>ES<\/td>\n",
       "        <td>99<\/td>\n",
       "    <\/tr>\n",
       "    <tr>\n",
       "        <td>James E McDade Elementary Classical School<\/td>\n",
       "        <td>ES<\/td>\n",
       "        <td>99<\/td>\n",
       "    <\/tr>\n",
       "    <tr>\n",
       "        <td>James G Blaine Elementary School<\/td>\n",
       "        <td>ES<\/td>\n",
       "        <td>99<\/td>\n",
       "    <\/tr>\n",
       "    <tr>\n",
       "        <td>LaSalle Elementary Language Academy<\/td>\n",
       "        <td>ES<\/td>\n",
       "        <td>99<\/td>\n",
       "    <\/tr>\n",
       "    <tr>\n",
       "        <td>Mary E Courtenay Elementary Language Arts Center<\/td>\n",
       "        <td>ES<\/td>\n",
       "        <td>99<\/td>\n",
       "    <\/tr>\n",
       "    <tr>\n",
       "        <td>Northside College Preparatory High School<\/td>\n",
       "        <td>HS<\/td>\n",
       "        <td>99<\/td>\n",
       "    <\/tr>\n",
       "    <tr>\n",
       "        <td>Northside Learning Center High School<\/td>\n",
       "        <td>HS<\/td>\n",
       "        <td>99<\/td>\n",
       "    <\/tr>\n",
       "    <tr>\n",
       "        <td>Norwood Park Elementary School<\/td>\n",
       "        <td>ES<\/td>\n",
       "        <td>99<\/td>\n",
       "    <\/tr>\n",
       "    <tr>\n",
       "        <td>Oriole Park Elementary School<\/td>\n",
       "        <td>ES<\/td>\n",
       "        <td>99<\/td>\n",
       "    <\/tr>\n",
       "    <tr>\n",
       "        <td>Sauganash Elementary School<\/td>\n",
       "        <td>ES<\/td>\n",
       "        <td>99<\/td>\n",
       "    <\/tr>\n",
       "    <tr>\n",
       "        <td>Stephen Decatur Classical Elementary School<\/td>\n",
       "        <td>ES<\/td>\n",
       "        <td>99<\/td>\n",
       "    <\/tr>\n",
       "    <tr>\n",
       "        <td>Talman Elementary School<\/td>\n",
       "        <td>ES<\/td>\n",
       "        <td>99<\/td>\n",
       "    <\/tr>\n",
       "    <tr>\n",
       "        <td>Wildwood Elementary School<\/td>\n",
       "        <td>ES<\/td>\n",
       "        <td>99<\/td>\n",
       "    <\/tr>\n",
       "<\/table>"
      ]
     },
     "metadata":{
      
     },
     "output_type":"display_data"
    }
   ],
   "metadata":{
    "datalore":{
     "type":"CODE",
     "hide_input_from_viewers":false,
     "hide_output_from_viewers":false
    }
   }
  },
  {
   "cell_type":"markdown",
   "source":[
    "# Analyzing Census Data"
   ],
   "attachments":{
    
   },
   "metadata":{
    "datalore":{
     "type":"MD",
     "hide_input_from_viewers":false,
     "hide_output_from_viewers":false
    }
   }
  },
  {
   "cell_type":"code",
   "source":[
    "%sql select * from chi_census limit 5"
   ],
   "execution_count":48,
   "outputs":[
    {
     "name":"stdout",
     "text":[
      " * ibm_db_sa:\/\/fll09902:***@ea286ace-86c7-4d5b-8580-3fbfa46b1c66.bs2io90l08kqb1od8lcg.databases.appdomain.cloud:31505\/BLUDB\n",
      "Done.\n"
     ],
     "output_type":"stream"
    },
    {
     "data":{
      "text\/html":[
       "<table>\n",
       "    <tr>\n",
       "        <th>community_area_number<\/th>\n",
       "        <th>community_area_name<\/th>\n",
       "        <th>percent_of_housing_crowded<\/th>\n",
       "        <th>percent_households_below_poverty<\/th>\n",
       "        <th>percent_aged_16__unemployed<\/th>\n",
       "        <th>percent_aged_25__without_high_school_diploma<\/th>\n",
       "        <th>percent_aged_under_18_or_over_64<\/th>\n",
       "        <th>per_capita_income<\/th>\n",
       "        <th>hardship_index<\/th>\n",
       "    <\/tr>\n",
       "    <tr>\n",
       "        <td>1<\/td>\n",
       "        <td>Rogers Park<\/td>\n",
       "        <td>7.7<\/td>\n",
       "        <td>23.6<\/td>\n",
       "        <td>8.7<\/td>\n",
       "        <td>18.2<\/td>\n",
       "        <td>27.5<\/td>\n",
       "        <td>23939<\/td>\n",
       "        <td>39<\/td>\n",
       "    <\/tr>\n",
       "    <tr>\n",
       "        <td>2<\/td>\n",
       "        <td>West Ridge<\/td>\n",
       "        <td>7.8<\/td>\n",
       "        <td>17.2<\/td>\n",
       "        <td>8.8<\/td>\n",
       "        <td>20.8<\/td>\n",
       "        <td>38.5<\/td>\n",
       "        <td>23040<\/td>\n",
       "        <td>46<\/td>\n",
       "    <\/tr>\n",
       "    <tr>\n",
       "        <td>3<\/td>\n",
       "        <td>Uptown<\/td>\n",
       "        <td>3.8<\/td>\n",
       "        <td>24.0<\/td>\n",
       "        <td>8.9<\/td>\n",
       "        <td>11.8<\/td>\n",
       "        <td>22.2<\/td>\n",
       "        <td>35787<\/td>\n",
       "        <td>20<\/td>\n",
       "    <\/tr>\n",
       "    <tr>\n",
       "        <td>4<\/td>\n",
       "        <td>Lincoln Square<\/td>\n",
       "        <td>3.4<\/td>\n",
       "        <td>10.9<\/td>\n",
       "        <td>8.2<\/td>\n",
       "        <td>13.4<\/td>\n",
       "        <td>25.5<\/td>\n",
       "        <td>37524<\/td>\n",
       "        <td>17<\/td>\n",
       "    <\/tr>\n",
       "    <tr>\n",
       "        <td>5<\/td>\n",
       "        <td>North Center<\/td>\n",
       "        <td>0.3<\/td>\n",
       "        <td>7.5<\/td>\n",
       "        <td>5.2<\/td>\n",
       "        <td>4.5<\/td>\n",
       "        <td>26.2<\/td>\n",
       "        <td>57123<\/td>\n",
       "        <td>6<\/td>\n",
       "    <\/tr>\n",
       "<\/table>"
      ]
     },
     "metadata":{
      
     },
     "output_type":"display_data"
    }
   ],
   "metadata":{
    "datalore":{
     "type":"CODE",
     "hide_input_from_viewers":false,
     "hide_output_from_viewers":false
    }
   }
  },
  {
   "cell_type":"code",
   "source":[
    "%%sql select sc.community_area_name, cen.per_capita_income , sum(college_enrollment) as Total_Collge_Enrollments\n",
    "from chi_census as cen inner join chi_school as sc on sc.community_area_number=cen.community_area_number \n",
    "where per_capita_income>50000\n",
    "group by sc.community_area_name, cen.per_capita_income "
   ],
   "execution_count":8,
   "outputs":[
    {
     "name":"stdout",
     "text":[
      " * ibm_db_sa:\/\/fll09902:***@ea286ace-86c7-4d5b-8580-3fbfa46b1c66.bs2io90l08kqb1od8lcg.databases.appdomain.cloud:31505\/BLUDB\n",
      "Done.\n"
     ],
     "output_type":"stream"
    },
    {
     "data":{
      "text\/html":[
       "<table>\n",
       "    <tr>\n",
       "        <th>community_area_name<\/th>\n",
       "        <th>per_capita_income<\/th>\n",
       "        <th>total_collge_enrollments<\/th>\n",
       "    <\/tr>\n",
       "    <tr>\n",
       "        <td>LAKE VIEW<\/td>\n",
       "        <td>60058<\/td>\n",
       "        <td>7055<\/td>\n",
       "    <\/tr>\n",
       "    <tr>\n",
       "        <td>LINCOLN PARK<\/td>\n",
       "        <td>71551<\/td>\n",
       "        <td>5615<\/td>\n",
       "    <\/tr>\n",
       "    <tr>\n",
       "        <td>LOOP<\/td>\n",
       "        <td>65526<\/td>\n",
       "        <td>871<\/td>\n",
       "    <\/tr>\n",
       "    <tr>\n",
       "        <td>NEAR NORTH SIDE<\/td>\n",
       "        <td>88669<\/td>\n",
       "        <td>3362<\/td>\n",
       "    <\/tr>\n",
       "    <tr>\n",
       "        <td>NEAR SOUTH SIDE<\/td>\n",
       "        <td>59077<\/td>\n",
       "        <td>1378<\/td>\n",
       "    <\/tr>\n",
       "    <tr>\n",
       "        <td>NORTH CENTER<\/td>\n",
       "        <td>57123<\/td>\n",
       "        <td>7541<\/td>\n",
       "    <\/tr>\n",
       "<\/table>"
      ]
     },
     "metadata":{
      
     },
     "output_type":"display_data"
    }
   ],
   "metadata":{
    "datalore":{
     "type":"CODE",
     "hide_input_from_viewers":false,
     "hide_output_from_viewers":false
    }
   }
  },
  {
   "cell_type":"markdown",
   "source":[
    "## **TOP 5 COMMUNITY AREA NAME WITH PERCENT HOUSEHOLD BELOW POVERTY**"
   ],
   "attachments":{
    
   },
   "metadata":{
    "datalore":{
     "type":"MD",
     "hide_input_from_viewers":false,
     "hide_output_from_viewers":false
    }
   }
  },
  {
   "cell_type":"code",
   "source":[
    "%%sql select sc.community_area_name, cen.per_capita_income , cen.percent_households_below_poverty, sum(college_enrollment) as Total_Collge_Enrollments\n",
    "from chi_census as cen inner join chi_school as sc on sc.community_area_number=cen.community_area_number \n",
    "where per_capita_income>50000\n",
    "group by sc.community_area_name, cen.per_capita_income , cen.percent_households_below_poverty"
   ],
   "execution_count":11,
   "outputs":[
    {
     "name":"stdout",
     "text":[
      " * ibm_db_sa:\/\/fll09902:***@ea286ace-86c7-4d5b-8580-3fbfa46b1c66.bs2io90l08kqb1od8lcg.databases.appdomain.cloud:31505\/BLUDB\n",
      "Done.\n"
     ],
     "output_type":"stream"
    },
    {
     "data":{
      "text\/html":[
       "<table>\n",
       "    <tr>\n",
       "        <th>community_area_name<\/th>\n",
       "        <th>per_capita_income<\/th>\n",
       "        <th>percent_households_below_poverty<\/th>\n",
       "        <th>total_collge_enrollments<\/th>\n",
       "    <\/tr>\n",
       "    <tr>\n",
       "        <td>NORTH CENTER<\/td>\n",
       "        <td>57123<\/td>\n",
       "        <td>7.5<\/td>\n",
       "        <td>7541<\/td>\n",
       "    <\/tr>\n",
       "    <tr>\n",
       "        <td>LAKE VIEW<\/td>\n",
       "        <td>60058<\/td>\n",
       "        <td>11.4<\/td>\n",
       "        <td>7055<\/td>\n",
       "    <\/tr>\n",
       "    <tr>\n",
       "        <td>LINCOLN PARK<\/td>\n",
       "        <td>71551<\/td>\n",
       "        <td>12.3<\/td>\n",
       "        <td>5615<\/td>\n",
       "    <\/tr>\n",
       "    <tr>\n",
       "        <td>NEAR NORTH SIDE<\/td>\n",
       "        <td>88669<\/td>\n",
       "        <td>12.9<\/td>\n",
       "        <td>3362<\/td>\n",
       "    <\/tr>\n",
       "    <tr>\n",
       "        <td>NEAR SOUTH SIDE<\/td>\n",
       "        <td>59077<\/td>\n",
       "        <td>13.8<\/td>\n",
       "        <td>1378<\/td>\n",
       "    <\/tr>\n",
       "    <tr>\n",
       "        <td>LOOP<\/td>\n",
       "        <td>65526<\/td>\n",
       "        <td>14.7<\/td>\n",
       "        <td>871<\/td>\n",
       "    <\/tr>\n",
       "<\/table>"
      ]
     },
     "metadata":{
      
     },
     "output_type":"display_data"
    }
   ],
   "metadata":{
    "datalore":{
     "type":"CODE",
     "hide_input_from_viewers":false,
     "hide_output_from_viewers":false
    }
   }
  },
  {
   "cell_type":"markdown",
   "source":[
    "# **- Analyzing Crime Data**"
   ],
   "attachments":{
    
   },
   "metadata":{
    "datalore":{
     "type":"MD",
     "hide_input_from_viewers":false,
     "hide_output_from_viewers":false
    }
   }
  },
  {
   "cell_type":"code",
   "source":[
    "%%sql select cen.Community_area_name, count(*) as Total_Crimes  \n",
    "from chi_crime as cr inner join chi_census as cen on cen.community_area_number=cr.community_area_number\n",
    "group by cen.Community_area_name order by 2 desc limit 10"
   ],
   "execution_count":61,
   "outputs":[
    {
     "name":"stdout",
     "text":[
      " * ibm_db_sa:\/\/fll09902:***@ea286ace-86c7-4d5b-8580-3fbfa46b1c66.bs2io90l08kqb1od8lcg.databases.appdomain.cloud:31505\/BLUDB\n",
      "Done.\n"
     ],
     "output_type":"stream"
    },
    {
     "data":{
      "text\/html":[
       "<table>\n",
       "    <tr>\n",
       "        <th>community_area_name<\/th>\n",
       "        <th>total_crimes<\/th>\n",
       "    <\/tr>\n",
       "    <tr>\n",
       "        <td>Austin<\/td>\n",
       "        <td>43<\/td>\n",
       "    <\/tr>\n",
       "    <tr>\n",
       "        <td>Humboldt park<\/td>\n",
       "        <td>22<\/td>\n",
       "    <\/tr>\n",
       "    <tr>\n",
       "        <td>Englewood<\/td>\n",
       "        <td>21<\/td>\n",
       "    <\/tr>\n",
       "    <tr>\n",
       "        <td>Near West Side<\/td>\n",
       "        <td>16<\/td>\n",
       "    <\/tr>\n",
       "    <tr>\n",
       "        <td>North Lawndale<\/td>\n",
       "        <td>16<\/td>\n",
       "    <\/tr>\n",
       "    <tr>\n",
       "        <td>Near North Side<\/td>\n",
       "        <td>15<\/td>\n",
       "    <\/tr>\n",
       "    <tr>\n",
       "        <td>Auburn Gresham<\/td>\n",
       "        <td>14<\/td>\n",
       "    <\/tr>\n",
       "    <tr>\n",
       "        <td>West Town<\/td>\n",
       "        <td>13<\/td>\n",
       "    <\/tr>\n",
       "    <tr>\n",
       "        <td>Chicago Lawn<\/td>\n",
       "        <td>12<\/td>\n",
       "    <\/tr>\n",
       "    <tr>\n",
       "        <td>West Englewood<\/td>\n",
       "        <td>12<\/td>\n",
       "    <\/tr>\n",
       "<\/table>"
      ]
     },
     "metadata":{
      
     },
     "output_type":"display_data"
    }
   ],
   "metadata":{
    "datalore":{
     "type":"CODE",
     "hide_input_from_viewers":false,
     "hide_output_from_viewers":false
    }
   }
  },
  {
   "cell_type":"code",
   "source":[
    "%%sql select cen.Community_area_name, cen.per_capita_income, count(*) as Total_Crimes  \n",
    "from chi_crime as cr inner join chi_census as cen on cen.community_area_number=cr.community_area_number\n",
    "group by cen.Community_area_name,cen.per_capita_income\n",
    "order by 3 desc limit 10"
   ],
   "execution_count":63,
   "outputs":[
    {
     "name":"stdout",
     "text":[
      " * ibm_db_sa:\/\/fll09902:***@ea286ace-86c7-4d5b-8580-3fbfa46b1c66.bs2io90l08kqb1od8lcg.databases.appdomain.cloud:31505\/BLUDB\n",
      "Done.\n"
     ],
     "output_type":"stream"
    },
    {
     "data":{
      "text\/html":[
       "<table>\n",
       "    <tr>\n",
       "        <th>community_area_name<\/th>\n",
       "        <th>per_capita_income<\/th>\n",
       "        <th>total_crimes<\/th>\n",
       "    <\/tr>\n",
       "    <tr>\n",
       "        <td>Austin<\/td>\n",
       "        <td>15957<\/td>\n",
       "        <td>43<\/td>\n",
       "    <\/tr>\n",
       "    <tr>\n",
       "        <td>Humboldt park<\/td>\n",
       "        <td>13781<\/td>\n",
       "        <td>22<\/td>\n",
       "    <\/tr>\n",
       "    <tr>\n",
       "        <td>Englewood<\/td>\n",
       "        <td>11888<\/td>\n",
       "        <td>21<\/td>\n",
       "    <\/tr>\n",
       "    <tr>\n",
       "        <td>North Lawndale<\/td>\n",
       "        <td>12034<\/td>\n",
       "        <td>16<\/td>\n",
       "    <\/tr>\n",
       "    <tr>\n",
       "        <td>Near West Side<\/td>\n",
       "        <td>44689<\/td>\n",
       "        <td>16<\/td>\n",
       "    <\/tr>\n",
       "    <tr>\n",
       "        <td>Near North Side<\/td>\n",
       "        <td>88669<\/td>\n",
       "        <td>15<\/td>\n",
       "    <\/tr>\n",
       "    <tr>\n",
       "        <td>Auburn Gresham<\/td>\n",
       "        <td>15528<\/td>\n",
       "        <td>14<\/td>\n",
       "    <\/tr>\n",
       "    <tr>\n",
       "        <td>West Town<\/td>\n",
       "        <td>43198<\/td>\n",
       "        <td>13<\/td>\n",
       "    <\/tr>\n",
       "    <tr>\n",
       "        <td>West Englewood<\/td>\n",
       "        <td>11317<\/td>\n",
       "        <td>12<\/td>\n",
       "    <\/tr>\n",
       "    <tr>\n",
       "        <td>Chicago Lawn<\/td>\n",
       "        <td>13231<\/td>\n",
       "        <td>12<\/td>\n",
       "    <\/tr>\n",
       "<\/table>"
      ]
     },
     "metadata":{
      
     },
     "output_type":"display_data"
    }
   ],
   "metadata":{
    "datalore":{
     "type":"CODE",
     "hide_input_from_viewers":false,
     "hide_output_from_viewers":false
    }
   }
  },
  {
   "cell_type":"code",
   "source":[
    
   ],
   "execution_count":0,
   "outputs":[
    
   ],
   "metadata":{
    "datalore":{
     "type":"CODE",
     "hide_input_from_viewers":false,
     "hide_output_from_viewers":false
    }
   }
  }
 ],
 "metadata":{
  "datalore":{
   "version":1,
   "computation_mode":"JUPYTER",
   "package_manager":"pip",
   "base_environment":"default",
   "packages":[
    
   ]
  }
 },
 "nbformat":4,
 "nbformat_minor":4
}